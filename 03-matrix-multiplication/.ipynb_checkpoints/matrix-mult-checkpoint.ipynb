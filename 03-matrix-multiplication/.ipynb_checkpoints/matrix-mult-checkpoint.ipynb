{
 "cells": [
  {
   "cell_type": "markdown",
   "id": "8e9cc64e-2c8e-4292-b771-da90764bce2d",
   "metadata": {},
   "source": [
    "# Linear Algebra\n",
    "## Matrix Multiplication"
   ]
  },
  {
   "cell_type": "code",
   "execution_count": 1,
   "id": "1d7b4aba-4adf-4ad3-905b-d46f5fbf4056",
   "metadata": {},
   "outputs": [],
   "source": [
    "import numpy as np\n",
    "import matplotlib.pyplot as plt\n",
    "import math"
   ]
  },
  {
   "cell_type": "markdown",
   "id": "ee6d82ca-2af5-47db-9e18-28c18d41ea54",
   "metadata": {},
   "source": [
    "## \"Standard\" matrix multiplication\n",
    "Matrix multiplication is NOT commutative, the order matters! $AB \\neq BA$\n",
    "\n",
    "Rules for matrix multiplication:\n",
    "- The number of columns in the left matrix must be the same as the number of rows in the right matrix.\n",
    "> Inner dimensions must match ($N, N$)\n",
    "- The result will be a matrix with the same number of rows in the left matrix and the same number of columns in the right matrix.\n",
    "> Outer dimensions is the size of resulting matrix ($M, K$)\n",
    "\n",
    "$$\\large\n",
    "\\begin{matrix}\n",
    "\\begin{bmatrix}\n",
    " &  &  &  &  & \\\\\n",
    " &  &  &  &  & \\\\\n",
    " &  &  &  &  & \\\\\n",
    " &  &  &  &  & \n",
    "\\end{bmatrix} & \\begin{bmatrix}\n",
    " & \\\\\n",
    " & \\\\\n",
    " & \\\\\n",
    " & \\\\\n",
    " & \\\\\n",
    " & \n",
    "\\end{bmatrix} & = & \\begin{bmatrix}\n",
    " & \\\\\n",
    " & \\\\\n",
    " & \\\\\n",
    " & \n",
    "\\end{bmatrix}\\\\\n",
    "M\\times N & N\\times K &  & M\\times K\n",
    "\\end{matrix}\n",
    "$$\n",
    "\n",
    "### Element perspective matrix multiplication\n",
    "Each element $c_{i,j}$ in $AB=C$ is the dot product between the $\\text i^{th}$ row in $A$ and the $\\text j^{th}$ column in $B$.\n",
    "\n",
    "$$\\large\n",
    "\\begin{bmatrix}\n",
    "1 & 2\\\\\n",
    "3 & 4\n",
    "\\end{bmatrix}\\begin{bmatrix}\n",
    "a & b\\\\\n",
    "c & d\n",
    "\\end{bmatrix} =\\begin{bmatrix}\n",
    "1a+2c & 1b+2d\\\\\n",
    "3a+4c & 3b+4d\n",
    "\\end{bmatrix}\n",
    "$$"
   ]
  },
  {
   "cell_type": "code",
   "execution_count": 2,
   "id": "a06bf378-04ca-482f-a94a-a429423bd3a1",
   "metadata": {},
   "outputs": [
    {
     "name": "stdout",
     "output_type": "stream",
     "text": [
      "A * B:\n",
      "[[ 2.  0.  1.  0.  0.  1.]\n",
      " [ 2.  0.  1.  0.  0.  1.]\n",
      " [-2. -2.  5.  0. -2.  5.]\n",
      " [-4. -1.  1.  0. -1.  1.]]\n",
      "\n",
      "A.T * C:\n",
      "[[ 1.  1.  3.  1.  0.  2.]\n",
      " [-1. -1. -3. -1.  0. -2.]\n",
      " [-1.  4.  0.  2.  1. -1.]]\n",
      "\n",
      "B * B.T:\n",
      "[[10.  0. -1.]\n",
      " [ 0.  4. -1.]\n",
      " [-1. -1.  6.]]\n",
      "\n",
      "B.T * B:\n",
      "[[ 8.  0.  0. -2.  0. -2.]\n",
      " [ 0.  1. -1.  1.  1.  0.]\n",
      " [ 0. -1.  3.  0. -1.  3.]\n",
      " [-2.  1.  0.  2.  1.  2.]\n",
      " [ 0.  1. -1.  1.  1.  0.]\n",
      " [-2.  0.  3.  2.  0.  5.]]\n",
      "\n",
      "C * B.T:\n",
      "[[ 1.  2. -3.]\n",
      " [-2.  4.  1.]\n",
      " [ 3.  0.  2.]\n",
      " [ 0. -1.  3.]]\n"
     ]
    }
   ],
   "source": [
    "# Rules for multiplication validity\n",
    "m = 4\n",
    "n = 3\n",
    "k = 6\n",
    "\n",
    "# Make some matrices\n",
    "A = np.round(np.random.randn(m,n)) # 4x3\n",
    "B = np.round(np.random.randn(n,k)) # 3x6\n",
    "C = np.round(np.random.randn(m,k)) # 4x6\n",
    "\n",
    "# Test which multiplications are valid\n",
    "# Think of your answer first, then test\n",
    "print('A * B:')\n",
    "print(np.matmul(A,B)), print() # yes\n",
    "\n",
    "# np.matmul(A,A) # no\n",
    "\n",
    "print('A.T * C:')\n",
    "print(np.matmul(A.T,C)), print() # yes\n",
    "\n",
    "print('B * B.T:')\n",
    "print(np.matmul(B,B.T)), print() # yes\n",
    "\n",
    "print('B.T * B:')\n",
    "print(np.matmul(np.matrix.transpose(B),B)), print() # yes\n",
    "\n",
    "# np.matmul(B,C) # no\n",
    "# np.matmul(C,B) # no\n",
    "# np.matmul(C.T,B) # no\n",
    "\n",
    "print('C * B.T:')\n",
    "print(np.matmul(C,B.T)) # yes"
   ]
  },
  {
   "cell_type": "markdown",
   "id": "1f0b43f3-0c75-4b46-ad39-960956bcbb97",
   "metadata": {},
   "source": [
    "## Code challenge: matrix multiplication by layering\n",
    "Implement matrix multiplication via layers.\n",
    "\n",
    "1. Generate two matrices (A, B)\n",
    "2. Build the product matrix layer-wise (for loops)\n",
    "3. Implement the matrix multiplication directly (multiplying two matrices without a loop)\n",
    "4. Compare results"
   ]
  },
  {
   "cell_type": "code",
   "execution_count": 3,
   "id": "d1b51018-ba0a-4ae7-a812-1e9c2a32d813",
   "metadata": {},
   "outputs": [
    {
     "name": "stdout",
     "output_type": "stream",
     "text": [
      "Matrix A:\n",
      "[[ 0.74  0.45  0.34]\n",
      " [ 1.18 -1.4  -0.82]\n",
      " [ 1.89  1.03  1.05]\n",
      " [-1.17  0.29  0.31]]\n",
      "\n",
      "Matrix B:\n",
      "[[ 0.3   0.07  0.18 -0.9 ]\n",
      " [ 1.    0.09 -1.04 -1.59]\n",
      " [ 0.33 -2.15  0.03 -0.36]]\n",
      "\n",
      "Layer-wise matrix: \n",
      "[[ 0.78 -0.64 -0.32 -1.5 ]\n",
      " [-1.32  1.72  1.64  1.46]\n",
      " [ 1.94 -2.03 -0.7  -3.72]\n",
      " [ 0.04 -0.72 -0.5   0.48]]\n",
      "\n",
      "NumPy direct multiplication: \n",
      "[[ 0.78 -0.64 -0.32 -1.5 ]\n",
      " [-1.32  1.72  1.64  1.46]\n",
      " [ 1.94 -2.03 -0.7  -3.72]\n",
      " [ 0.04 -0.72 -0.5   0.48]]\n"
     ]
    }
   ],
   "source": [
    "# 1. Define matrices A & B\n",
    "m = 4\n",
    "n = 3\n",
    "A = np.round(np.random.randn(m, n), 2)\n",
    "B = np.round(np.random.randn(n, m), 2)\n",
    "print(f\"Matrix A:\\n{A}\"), print()\n",
    "print(f\"Matrix B:\\n{B}\"), print()\n",
    "\n",
    "\n",
    "# 2. Build the product matrix layer-wise (for loops)\n",
    "matrix = np.zeros((m, m))\n",
    "for i in range(m):\n",
    "    for j in range(m):\n",
    "        # matrix[i][j] = np.dot(A[i], B[:,j])\n",
    "        matrix[i][j] = np.sum(A[i] * B[:,j])\n",
    "        \n",
    "# 3. Implement the matrix multiplication directly (multiplying two matrices without a loop)\n",
    "# np_mult = A@B\n",
    "np_mult = np.matmul(A, B)\n",
    "\n",
    "# Compare results\n",
    "print(f\"Layer-wise matrix: \\n{np.round(matrix, 2)}\\n\")\n",
    "print(f\"NumPy direct multiplication: \\n{np.round(np_mult, 2)}\")"
   ]
  },
  {
   "cell_type": "markdown",
   "id": "5dc28011-738a-4ef4-9d9c-b84ae78e55df",
   "metadata": {},
   "source": [
    "## Matrix-vector multiplication\n",
    "When multiplying a matrix with a vector the result will always be a vector.\n",
    "\n",
    "$$\\large\n",
    " \\begin{array}{l}\n",
    "\\begin{matrix}\n",
    "A & \\cdot  & w & = & v\\\\\n",
    "m\\times n &  & n\\times 1 &  & m\\times 1\n",
    "\\end{matrix} \\ \\ \\ \\ \\ \\ \\ \\ \\ \\ \\begin{matrix}\n",
    "\\begin{bmatrix}\n",
    "a & b\\\\\n",
    "c & d\n",
    "\\end{bmatrix} & \\begin{bmatrix}\n",
    "2\\\\\n",
    "3\n",
    "\\end{bmatrix} & = & \\begin{bmatrix}\n",
    "a2+b3\\\\\n",
    "c2+d3\n",
    "\\end{bmatrix}\\\\\n",
    "2\\times 2 & 2\\times 1 &  & 2\\times 1\n",
    "\\end{matrix}\\\\\n",
    "\\\\\n",
    "\\begin{matrix}\n",
    "w^{T} & \\cdot  & A & = & v\\\\\n",
    "1\\times m &  & m\\times n &  & 1\\times n\n",
    "\\end{matrix} \\ \\ \\ \\ \\ \\ \\ \\ \\ \\ \\begin{matrix}\n",
    "\\begin{bmatrix}\n",
    "2 & 3\n",
    "\\end{bmatrix} & \\begin{bmatrix}\n",
    "a & b\\\\\n",
    "c & d\n",
    "\\end{bmatrix} & = & \\begin{bmatrix}\n",
    "a2+c3 & b2+d3\n",
    "\\end{bmatrix}\\\\\n",
    "1\\times 2 & 2\\times 2 &  & 1\\times 2\n",
    "\\end{matrix}\n",
    "\\end{array}\n",
    "$$\n",
    "\n",
    "Concept:\n",
    "- $Aw$ &rightarrow; weighted combinations of the ***columns*** of A\n",
    "- $w^{T}A$ &rightarrow; weighted combinations of the ***rows*** of A"
   ]
  },
  {
   "cell_type": "code",
   "execution_count": 4,
   "id": "e6ba748a-2f6f-45ac-b2b4-f0bcbc62cea3",
   "metadata": {},
   "outputs": [
    {
     "name": "stdout",
     "output_type": "stream",
     "text": [
      "Matrix-vector:\n",
      "[ 8 17 26]\n",
      "\n",
      "vector-Matrix:\n",
      "[18 21 24]\n"
     ]
    }
   ],
   "source": [
    "A = np.array([[1,2,3],[4,5,6],[7,8,9]])\n",
    "w = np.array([0,1,2])\n",
    "\n",
    "# Matrix-vector multiplication\n",
    "print(f\"Matrix-vector:\\n{A@w}\\n\")\n",
    "print(f\"vector-Matrix:\\n{w.T@A}\")"
   ]
  },
  {
   "cell_type": "markdown",
   "id": "900af04c-018b-42b9-ae44-295222d8daf7",
   "metadata": {},
   "source": [
    "## 2D transformation matrices"
   ]
  },
  {
   "cell_type": "code",
   "execution_count": 5,
   "id": "b0f91d52-5ec3-4ac0-965a-44cbf4983c9e",
   "metadata": {},
   "outputs": [],
   "source": [
    "# Plot axis\n",
    "def plot_axis(ax=3):\n",
    "    plt.plot([-ax, ax],[0, 0],'k--')\n",
    "    plt.plot([0, 0],[-ax, ax],'k--')\n",
    "    plt.grid(color='blue', linestyle='--', linewidth=1, alpha=0.2)\n",
    "    plt.legend(loc='upper left')\n",
    "    plt.axis([-ax,ax,-ax,ax]);"
   ]
  },
  {
   "cell_type": "markdown",
   "id": "4e77f4d7-442a-48a1-a079-0adcc1c2204f",
   "metadata": {},
   "source": [
    "#### Rotation + stretching"
   ]
  },
  {
   "cell_type": "code",
   "execution_count": 6,
   "id": "39603ef0-6b57-4a04-9bb3-7ecf7837372f",
   "metadata": {},
   "outputs": [
    {
     "data": {
      "image/png": "[encoded data removed]",
      "text/plain": [
       "<Figure size 500x500 with 1 Axes>"
      ]
     },
     "metadata": {
      "needs_background": "light"
     },
     "output_type": "display_data"
    }
   ],
   "source": [
    "# 2D input vector\n",
    "v = np.array([3, -2])\n",
    "\n",
    "# 2x2 transformation matrix\n",
    "A = np.array([[1,-1], [2,1]])\n",
    "\n",
    "# Output vector is Av (convert v to column)\n",
    "w = A@np.matrix.transpose(v)\n",
    "\n",
    "# Plot them\n",
    "plt.figure(figsize=(5,5), dpi=100)\n",
    "plt.plot([0,v[0]],[0,v[1]],label='v')\n",
    "plt.plot([0,w[0]],[0,w[1]],label='Av')\n",
    "plt.title('Rotation + stretching')\n",
    "\n",
    "# Plot axis\n",
    "plot_axis(ax=6)\n",
    "plt.show()"
   ]
  },
  {
   "cell_type": "markdown",
   "id": "1fddefab-a0bf-4b3c-b66d-cbc7591d308e",
   "metadata": {},
   "source": [
    "#### Pure rotation"
   ]
  },
  {
   "cell_type": "code",
   "execution_count": 7,
   "id": "d4cc87d0-74c2-4b82-944b-25d9f260b855",
   "metadata": {},
   "outputs": [
    {
     "data": {
      "image/png": "[encoded data removed]",
      "text/plain": [
       "<Figure size 500x500 with 1 Axes>"
      ]
     },
     "metadata": {
      "needs_background": "light"
     },
     "output_type": "display_data"
    }
   ],
   "source": [
    "# 2D input vector\n",
    "v = np.array([3, -2])\n",
    "\n",
    "# 2x2 rotation matrix\n",
    "th = 9*np.pi/24\n",
    "A = np.array([[math.cos(th),-math.sin(th)], [math.sin(th),math.cos(th)]])\n",
    "\n",
    "# Output vector is Av (convert v to column)\n",
    "w = A@np.matrix.transpose(v)\n",
    "\n",
    "# Plot them\n",
    "plt.figure(figsize=(5,5), dpi=100)\n",
    "plt.plot([0,v[0]],[0,v[1]],label='v')\n",
    "plt.plot([0,w[0]],[0,w[1]],label='Av')\n",
    "plt.title('Pure rotation')\n",
    "\n",
    "# Plot axis\n",
    "plot_axis(ax=4)\n",
    "plt.show()"
   ]
  },
  {
   "cell_type": "markdown",
   "id": "6b30ef76-5309-435b-b195-7c548c427609",
   "metadata": {},
   "source": [
    "## Code challenge: Pure and impure rotation matrices\n",
    "Investigate the relationship between the magnitude of the matrix-vector product and the theta (rotation angle) using the following rotation matrix."
   ]
  },
  {
   "cell_type": "code",
   "execution_count": 8,
   "id": "d7f58f59-f024-4e72-993e-f5108aef87c7",
   "metadata": {},
   "outputs": [],
   "source": [
    "# Plot graph\n",
    "def plot_figure(theta, vecmag):\n",
    "    plt.figure(figsize=(5,5), dpi=100)\n",
    "    plt.plot(theta, vecmag, 'o-')\n",
    "    plt.xlabel(\"Rotation angle (rad.)\")\n",
    "    plt.ylabel(\"Av magnitude\")\n",
    "    plt.legend([\"Pure rotation\", \"Impure rotation\"])\n",
    "    plt.title(\"Pure vs Impure rotation\")\n",
    "    plt.show()\n",
    "\n",
    "# Compute different rotation matrices\n",
    "def rotation_matrix(size=100):\n",
    "    # 2D input vector\n",
    "    v = np.array([3, -2])\n",
    "    \n",
    "    # Init theta and matrices\n",
    "    thetas = np.linspace(0, 2*np.pi, size)\n",
    "    vecmags = np.zeros((len(thetas), 2))\n",
    "    \n",
    "    # For loop to plot different\n",
    "    for i in range(len(thetas)):\n",
    "        th = thetas[i]\n",
    "        pure = np.array([[math.cos(th), -math.sin(th)], [math.sin(th), math.cos(th)]])\n",
    "        impure = np.array([[2*math.cos(th), -math.sin(th)], [math.sin(th), math.cos(th)]])\n",
    "        \n",
    "        # Output vector is Av (convert v to column)\n",
    "        vecmags[i,0] = np.linalg.norm(pure @ v.T)\n",
    "        vecmags[i,1] = np.linalg.norm(impure @ v.T)\n",
    "\n",
    "    # Plot them\n",
    "    plot_figure(theta=thetas, vecmag=vecmags)"
   ]
  },
  {
   "cell_type": "code",
   "execution_count": 9,
   "id": "496e2c70-38ae-4c7a-9ae1-0939337502db",
   "metadata": {},
   "outputs": [
    {
     "data": {
      "image/png": "[encoded data removed]",
      "text/plain": [
       "<Figure size 500x500 with 1 Axes>"
      ]
     },
     "metadata": {
      "needs_background": "light"
     },
     "output_type": "display_data"
    }
   ],
   "source": [
    "rotation_matrix(size=100)"
   ]
  },
  {
   "cell_type": "markdown",
   "id": "e17d18a2-40ce-4cc3-b076-685d96fe2dc8",
   "metadata": {},
   "source": [
    "## Code challenge: Geometric transformations via matrix multiplications\n",
    "1. Generate X,Y coordinates for a circle\n",
    "2. Plot circle\n",
    "3. Create a 2x2 matrix (starting with Identity matrix)\n",
    "4. Multiply matrix by coordinates\n",
    "5. Plot new coordinates\n",
    "6. Try with various matrices and singular matrix (columns form a linear dependent set)"
   ]
  },
  {
   "cell_type": "code",
   "execution_count": 10,
   "id": "f223e0ae-2603-492b-9ae9-643abdcfccc2",
   "metadata": {},
   "outputs": [],
   "source": [
    "def plot_circle(cir, newCir):\n",
    "    plt.figure(figsize=(5,5), dpi=100)\n",
    "    plt.plot(cir[:,0], cir[:,1], 'o')\n",
    "    plt.plot(newCir[:,0], newCir[:,1], 'o')\n",
    "    plt.axis('square')\n",
    "    plt.show();"
   ]
  },
  {
   "cell_type": "code",
   "execution_count": 11,
   "id": "4b4a2cf9-41a1-4b3a-832b-2e1613315a77",
   "metadata": {},
   "outputs": [
    {
     "data": {
      "image/png": "[encoded data removed]",
      "text/plain": [
       "<Figure size 500x500 with 1 Axes>"
      ]
     },
     "metadata": {
      "needs_background": "light"
     },
     "output_type": "display_data"
    },
    {
     "data": {
      "image/png": "[encoded data removed]",
      "text/plain": [
       "<Figure size 500x500 with 1 Axes>"
      ]
     },
     "metadata": {
      "needs_background": "light"
     },
     "output_type": "display_data"
    }
   ],
   "source": [
    "# 1. Generate X,Y coordinates for a circle\n",
    "# 2. Plot circle\n",
    "x = np.linspace(-np.pi, np.pi, 100)\n",
    "xy = np.vstack((np.cos(x), np.sin(x))).T\n",
    "\n",
    "# plot_circle(coord=xy)\n",
    "\n",
    "# 3. Create a 2x2 matrix (starting with Identity matrix)\n",
    "T = np.array([[1, 2], [2, 1]])\n",
    "\n",
    "# 4. Multiply matrix by coordinates\n",
    "newXY = xy@T\n",
    "\n",
    "# 5. Plot new coordinates\n",
    "plot_circle(cir=xy, newCir=newXY)\n",
    "\n",
    "# 6. Try with various matrices and singular matrix (columns form a linear dependent set)\n",
    "singular = np.array([[1, 2], [2, 4]])\n",
    "sing = xy@singular\n",
    "plot_circle(xy, sing)"
   ]
  },
  {
   "cell_type": "markdown",
   "id": "1d9c5f28-3cdc-4f8d-a832-516641228bf0",
   "metadata": {},
   "source": [
    "## Additive and multiplicative matrix identities\n",
    "Multiplicative Identity:\n",
    "\n",
    "$\\large\n",
    " \\begin{array}{l}\n",
    "AI=IA=A\\\\\n",
    "A+I\\neq A\n",
    "\\end{array}\n",
    "$\n",
    "\n",
    "\n",
    "Additive Identity:\n",
    "\n",
    "$\\large\n",
    " \\begin{array}{l}\n",
    "A0=0A\\neq A\\\\\n",
    "A+0=A\n",
    "\\end{array}\n",
    "$"
   ]
  },
  {
   "cell_type": "code",
   "execution_count": 12,
   "id": "3f787b75-2948-4319-9e8b-36af1478d9a7",
   "metadata": {},
   "outputs": [
    {
     "name": "stdout",
     "output_type": "stream",
     "text": [
      "A@I == A:   True\n",
      "A == A@I:   True\n",
      "A == A+I:   False\n",
      "A == A+Z:   True\n",
      "A+Z == A@I: True\n"
     ]
    }
   ],
   "source": [
    "# Matrix size\n",
    "n = 4\n",
    "\n",
    "A = np.round(np.random.randn(n))\n",
    "I = np.eye(n)\n",
    "Z = np.zeros(n)\n",
    "\n",
    "# Test both identities\n",
    "print(\"A@I == A:  \", np.array_equal(A@I, A))\n",
    "print(\"A == A@I:  \", np.array_equal(A, A@I))\n",
    "print(\"A == A+I:  \", np.array_equal(A, A+I))\n",
    "print(\"A == A+Z:  \", np.array_equal(A, A+Z))\n",
    "print(\"A+Z == A@I:\", np.array_equal(A+Z, A@I))"
   ]
  },
  {
   "cell_type": "markdown",
   "id": "21539631-2627-48aa-a5dd-5e5af304fb47",
   "metadata": {},
   "source": [
    "## Additive and multiplicative symmetric matrices\n",
    "Symmetric matrix via the **additive** method:\n",
    "$$\\large\n",
    " \\begin{array}{l}\n",
    "S=\\left( A+A^{T}\\right) /2\\\\\n",
    "S=S^{T}\\\\\n",
    "\\text{iff} \\ A\\ \\text{is} \\ n\\times n\\ \\ \\ \\ \\ \\ \\ \\text{(if A is a square matrix)}\\\\\n",
    "\\\\\n",
    "\\text{Example:}\\\\\n",
    "\\begin{bmatrix}\n",
    "a & b & c\\\\\n",
    "d & e & f\\\\\n",
    "g & h & i\n",
    "\\end{bmatrix} +\\begin{bmatrix}\n",
    "a & d & g\\\\\n",
    "b & e & h\\\\\n",
    "c & f & i\n",
    "\\end{bmatrix} =\\begin{bmatrix}\n",
    "a+a & b+d & c+g\\\\\n",
    "b+d & e+e & h+f\\\\\n",
    "c+g & h+f & i+i\n",
    "\\end{bmatrix}\n",
    "\\end{array}\n",
    "$$\n",
    "\n",
    "<br>\n",
    "\n",
    "Multiplicative symmetric matrices ($A^{T}A$ and $AA^T$):\n",
    "$$\\large\n",
    " \\begin{array}{l}\n",
    "\\underset{n\\times m}{A^{T}} \\ \\underset{m\\times n}{A} =\\underset{n\\times n}{S}\\\\\n",
    "\\\\\n",
    "\\underset{m\\times n}{A} \\ \\underset{n\\times m}{A^{T}} =\\underset{m\\times m}{S}\\\\\n",
    "\\\\\n",
    "\\text{Example:}\\\\\n",
    "\\begin{bmatrix}\n",
    "a & b & c\\\\\n",
    "d & e & f\n",
    "\\end{bmatrix}\\begin{bmatrix}\n",
    "a & d\\\\\n",
    "b & e\\\\\n",
    "c & f\n",
    "\\end{bmatrix} =\\begin{bmatrix}\n",
    "a^{2} +b^{2} +c^{2} & ad+be+cf\\\\\n",
    "ad+be+cf & d^{2} +e^{2} +f^{2}\n",
    "\\end{bmatrix}\n",
    "\\end{array}\n",
    "$$"
   ]
  },
  {
   "cell_type": "code",
   "execution_count": 13,
   "id": "97bbbc07-6be7-49ff-a875-169343cfb107",
   "metadata": {},
   "outputs": [
    {
     "name": "stdout",
     "output_type": "stream",
     "text": [
      "[[0. 0. 0. 0. 0.]\n",
      " [0. 0. 0. 0. 0.]\n",
      " [0. 0. 0. 0. 0.]\n",
      " [0. 0. 0. 0. 0.]\n",
      " [0. 0. 0. 0. 0.]]\n"
     ]
    }
   ],
   "source": [
    "# The additive method\n",
    "# Specify sizes\n",
    "m = 5\n",
    "n = 5\n",
    "\n",
    "# Create matrices\n",
    "A = np.random.randn(m,n)\n",
    "S = (A + A.T)/2\n",
    "\n",
    "# A symmetric matrix minus its transpose should be all zeros\n",
    "print(S-S.T)"
   ]
  },
  {
   "cell_type": "code",
   "execution_count": 14,
   "id": "bd1dfc01-effa-4170-91e2-a5c20a2ed4b5",
   "metadata": {},
   "outputs": [
    {
     "name": "stdout",
     "output_type": "stream",
     "text": [
      "(3, 3)\n",
      "(5, 5)\n",
      "\n",
      "[[0. 0. 0.]\n",
      " [0. 0. 0.]\n",
      " [0. 0. 0.]]\n",
      "[[0. 0. 0. 0. 0.]\n",
      " [0. 0. 0. 0. 0.]\n",
      " [0. 0. 0. 0. 0.]\n",
      " [0. 0. 0. 0. 0.]\n",
      " [0. 0. 0. 0. 0.]]\n"
     ]
    }
   ],
   "source": [
    "# The multiplicative method\n",
    "# Specify sizes\n",
    "m = 5\n",
    "n = 3\n",
    "\n",
    "# Create matrices\n",
    "A   = np.random.randn(m,n)\n",
    "AtA = A.T@A\n",
    "AAt = A@A.T\n",
    "\n",
    "# First, show that they are square\n",
    "print(AtA.shape)\n",
    "print(AAt.shape), print()\n",
    "\n",
    "# Next, show that they are symmetric\n",
    "print(AtA - AtA.T)\n",
    "print(AAt - AAt.T)"
   ]
  },
  {
   "cell_type": "markdown",
   "id": "c15d89c0-22c1-405f-8120-2a20d6754741",
   "metadata": {},
   "source": [
    "## Element-wise (Hadamard) multiplication\n",
    "Multiplying each corresponding element of each matrix.\n",
    "\n",
    "$$\\large\n",
    "\\begin{bmatrix}\n",
    "0 & 1 & 2\\\\\n",
    "-1 & 6 & 3\n",
    "\\end{bmatrix} \\odot \\begin{bmatrix}\n",
    "3 & 8 & 5\\\\\n",
    "4 & 1 & -5\n",
    "\\end{bmatrix} =\\begin{bmatrix}\n",
    "0 & 8 & 10\\\\\n",
    "-4 & 6 & -15\n",
    "\\end{bmatrix}\n",
    "$$"
   ]
  },
  {
   "cell_type": "code",
   "execution_count": 15,
   "id": "5f1a44e1-0702-4557-a717-b4d663b3fe59",
   "metadata": {},
   "outputs": [
    {
     "name": "stdout",
     "output_type": "stream",
     "text": [
      "[[-0.21 -0.6 ]\n",
      " [ 0.26 -0.55]\n",
      " [ 0.74 -0.15]\n",
      " [-0.14  0.14]\n",
      " [-0.03  0.7 ]]\n",
      "\n",
      "[[-0.21 -0.6 ]\n",
      " [ 0.26 -0.55]\n",
      " [ 0.74 -0.15]\n",
      " [-0.14  0.14]\n",
      " [-0.03  0.7 ]]\n",
      "\n",
      "[[0. 0.]\n",
      " [0. 0.]\n",
      " [0. 0.]\n",
      " [0. 0.]\n",
      " [0. 0.]]\n"
     ]
    }
   ],
   "source": [
    "# Sizes\n",
    "m = 5\n",
    "n = 2\n",
    "\n",
    "# Two matrices must be the same size\n",
    "A = np.random.randn(m,n)\n",
    "B = np.random.randn(m,n)\n",
    "\n",
    "# Note the differenct syntax compared to @ for matrix multiplication\n",
    "C1 = np.multiply(A, B)\n",
    "C2 = A*B\n",
    "\n",
    "print(np.round(C1, 2)), print()\n",
    "print(np.round(C2, 2)), print()\n",
    "print(C1-C2)"
   ]
  },
  {
   "cell_type": "markdown",
   "id": "8fc8a936-c30d-475b-8981-51ab80b50fd4",
   "metadata": {},
   "source": [
    "### Quiz: Matrix operation equality\n",
    "Consider matrices A, B, and C, all of size $4\\times 6$. The * here indicates Hadamard multiplication. Do the following two operations give the same result? Why or why not? First think of your answer, then you can test it for random matrices in MATLAB or Python.\n",
    "\n",
    "$\n",
    "C(A+B)\n",
    "\\\\\n",
    "BC + CA\n",
    "$"
   ]
  },
  {
   "cell_type": "code",
   "execution_count": 16,
   "id": "96eff2fc-8b38-4583-ba90-86bea2ef68ee",
   "metadata": {},
   "outputs": [
    {
     "name": "stdout",
     "output_type": "stream",
     "text": [
      "C(A+B):\n",
      "[[ 0.12 -0.51  0.06]\n",
      " [ 0.28 -0.04  3.38]]\n",
      "\n",
      "B*C + C*A:\n",
      "[[ 0.12 -0.51  0.06]\n",
      " [ 0.28 -0.04  3.38]]\n"
     ]
    }
   ],
   "source": [
    "# Sizes\n",
    "m = 2\n",
    "n = 3\n",
    "\n",
    "# Two matrices must be the same size\n",
    "A = np.random.randn(m,n)\n",
    "B = np.random.randn(m,n)\n",
    "C = np.random.randn(m,n)\n",
    "\n",
    "print(f\"C(A+B):\\n{np.round(C*(A+B), 2)}\\n\")\n",
    "print(f\"B*C + C*A:\\n{np.round(B*C + C*A, 2)}\")"
   ]
  },
  {
   "cell_type": "markdown",
   "id": "9da18a47-ff78-4a13-80f9-fa26bea98e4d",
   "metadata": {},
   "source": [
    "## Code challenge: symmetry of combined symmetric matrices\n",
    "What happens when two symmetric matrices are combined?\n",
    "1. Create two symmetric matrices\n",
    "2. Compute sum, multiplication, and Hadamard multiplication of the two matrices\n",
    "3. Determine whether the result is still symmetric"
   ]
  },
  {
   "cell_type": "code",
   "execution_count": 17,
   "id": "c30c7b7d-e010-471d-9e76-9ce914691fc6",
   "metadata": {},
   "outputs": [
    {
     "name": "stdout",
     "output_type": "stream",
     "text": [
      "Sum:\t\tYES, it's symmetric\n",
      "[[ 2  4  9]\n",
      " [ 4 15 10]\n",
      " [ 9 10 14]]\n",
      "\n",
      "Multiplication:\tNO, it's not symmetric\n",
      "[[23 30 29]\n",
      " [52 84 70]\n",
      " [69 90 87]]\n",
      "\n",
      "Hadamard:\tYES, it's symmetric\n",
      "[[ 1  4 18]\n",
      " [ 4 56 24]\n",
      " [18 24 45]]\n"
     ]
    }
   ],
   "source": [
    "# Two symmetric matrices\n",
    "A = np.array([[1,2,3], [2,7,6], [3,6,9]])\n",
    "B = np.array([[1,2,6], [2,8,4], [6,4,5]])\n",
    "\n",
    "add = A + B\n",
    "mult = A@B\n",
    "had = A*B\n",
    "\n",
    "print(f\"Sum:\\t\\tYES, it's symmetric\\n{add}\\n\")\n",
    "print(f\"Multiplication:\\tNO, it's not symmetric\\n{mult}\\n\")\n",
    "print(f\"Hadamard:\\tYES, it's symmetric\\n{had}\")"
   ]
  },
  {
   "cell_type": "markdown",
   "id": "0a1ed92e-268e-4e1b-9b37-aacbecf679d8",
   "metadata": {},
   "source": [
    "## Multiplication of two symmetric matrices\n",
    "The product of two symmetric matrices is not symmetric."
   ]
  },
  {
   "cell_type": "code",
   "execution_count": 18,
   "id": "37e6daa9-4636-4642-b490-e9212d73345e",
   "metadata": {},
   "outputs": [
    {
     "name": "stdout",
     "output_type": "stream",
     "text": [
      "Multiplication:\tNO, it's not symmetric\n",
      "[[23 30 29]\n",
      " [52 84 70]\n",
      " [69 90 87]]\n",
      "\n"
     ]
    }
   ],
   "source": [
    "# Two symmetric matrices\n",
    "A = np.array([[1,2,3], [2,7,6], [3,6,9]])\n",
    "B = np.array([[1,2,6], [2,8,4], [6,4,5]])\n",
    "\n",
    "mult = A@B\n",
    "\n",
    "print(f\"Multiplication:\\tNO, it's not symmetric\\n{mult}\\n\")"
   ]
  },
  {
   "cell_type": "markdown",
   "id": "2b4e4ef3-a2b2-45a5-b864-a8c1f182f849",
   "metadata": {},
   "source": [
    "## Code challenge: standard and Hadamard multiplication for diagonal matrices\n",
    "1. Create two matrices (3x3): \"full\" and diagonal matrix\n",
    "2. Multiply each matrix by itself ($A\\times A$): standard and hadamard multiplication"
   ]
  },
  {
   "cell_type": "code",
   "execution_count": 19,
   "id": "fb7b1bf1-0b90-4df0-8954-ebc966249b9c",
   "metadata": {},
   "outputs": [
    {
     "name": "stdout",
     "output_type": "stream",
     "text": [
      "Standard multiplication A:\n",
      "[[ 7.45 -3.63  2.52]\n",
      " [ 0.3   1.61  0.45]\n",
      " [ 1.83 -2.01  4.78]]\n",
      "\n",
      "Hadamard multiplication A:\n",
      "[[3.94 1.27 4.48]\n",
      " [0.08 1.96 0.13]\n",
      " [3.28 0.01 0.98]]\n",
      "\n",
      "Standard multiplication B:\n",
      "[[4.19 0.   0.  ]\n",
      " [0.   2.24 0.  ]\n",
      " [0.   0.   1.01]]\n",
      "\n",
      "Hadamard multiplication B:\n",
      "[[4.19 0.   0.  ]\n",
      " [0.   2.24 0.  ]\n",
      " [0.   0.   1.01]]\n"
     ]
    }
   ],
   "source": [
    "# 1. Create two matrices (3x3): \"full\" and diagonal matrix\n",
    "A = np.random.randn(3, 3)\n",
    "B = np.diag(np.random.randn(3))\n",
    "\n",
    "# 2. Multiply each matrix by itself (A*A): standard and hadamard multiplication\n",
    "stdA = A@A\n",
    "hadA = A*A\n",
    "\n",
    "stdB = B@B\n",
    "hadB = B*B\n",
    "\n",
    "print(f\"Standard multiplication A:\\n{np.round(stdA, 2)}\\n\")\n",
    "print(f\"Hadamard multiplication A:\\n{np.round(hadA, 2)}\\n\")\n",
    "print(f\"Standard multiplication B:\\n{np.round(stdB, 2)}\\n\")\n",
    "print(f\"Hadamard multiplication B:\\n{np.round(hadB, 2)}\")"
   ]
  },
  {
   "cell_type": "markdown",
   "id": "794e2dc5-4522-4f60-af50-5b6a5af03f3f",
   "metadata": {},
   "source": [
    "## Code challenge: Fourier transform via matrix multiplication!\n",
    "Implement the Fourier transform via matrix multiplication.\n",
    "\n",
    "Create the Fourier matrix and multiply it with a random vector to get another vector of Fourier coefficients.\n",
    "\n",
    "Formula:\n",
    "$$\\large\n",
    " \\begin{array}{l}\n",
    "F_{j,k} =\\omega ^{m}\\\\\n",
    "w=e^{-2\\pi \\sqrt{-1/n}}\\\\\n",
    "m=( j-1)( k-1)\\\\\n",
    "X=Fx\n",
    "\\end{array}\n",
    "$$"
   ]
  },
  {
   "cell_type": "code",
   "execution_count": 20,
   "id": "cada53e8-9a43-4d52-948d-ecd841c8ece0",
   "metadata": {},
   "outputs": [
    {
     "data": {
      "image/png": "[encoded data removed]",
      "text/plain": [
       "<Figure size 400x400 with 1 Axes>"
      ]
     },
     "metadata": {
      "needs_background": "light"
     },
     "output_type": "display_data"
    },
    {
     "name": "stdout",
     "output_type": "stream",
     "text": [
      "X1 == X2: True\n"
     ]
    },
    {
     "data": {
      "image/png": "[encoded data removed]",
      "text/plain": [
       "<Figure size 400x400 with 1 Axes>"
      ]
     },
     "metadata": {
      "needs_background": "light"
     },
     "output_type": "display_data"
    },
    {
     "data": {
      "image/png": "[encoded data removed]",
      "text/plain": [
       "<Figure size 400x400 with 1 Axes>"
      ]
     },
     "metadata": {
      "needs_background": "light"
     },
     "output_type": "display_data"
    }
   ],
   "source": [
    "# Define Fourier matrix\n",
    "n = 52\n",
    "F = np.zeros((n,n), dtype=np.complex_)\n",
    "w = np.e**(-2*np.pi*1j/n)\n",
    "\n",
    "# Compute Fourier matrix\n",
    "for j in range(1, n+1):\n",
    "    for k in range(1, n+1):\n",
    "        m = (j-1)*(k-1)\n",
    "        F[j-1][k-1] = w**m\n",
    "\n",
    "# Fourier image\n",
    "plt.figure(figsize=(5,5), dpi=80)\n",
    "plt.imshow(F.real, cmap='jet')\n",
    "plt.show()\n",
    "\n",
    "# Define vector\n",
    "x = np.random.randn(n)\n",
    "\n",
    "# Multiplication\n",
    "X1 = F@x\n",
    "X2 = np.fft.fft(x)\n",
    "print(f'X1 == X2: {np.allclose(X1, X2)}')\n",
    "\n",
    "# Plot them\n",
    "plt.figure(figsize=(5,5), dpi=80)\n",
    "plt.plot(abs(X1))\n",
    "plt.plot(abs(X2), marker='o', color='r', linestyle='None')\n",
    "plt.show()\n",
    "\n",
    "plt.figure(figsize=(5,5), dpi=80)\n",
    "plt.plot(F.real[:,25])\n",
    "plt.show()"
   ]
  },
  {
   "cell_type": "markdown",
   "id": "283ba550-402f-46a9-adb7-6c7841b9af4e",
   "metadata": {
    "tags": []
   },
   "source": [
    "## Frobenius dot product\n",
    "Method 1:\n",
    "1. Element-wise multiplication\n",
    "2. Sum all elements\n",
    "\n",
    "Method 2:\n",
    "1. Vectorize both matrices\n",
    "2. Compute vector dot product\n",
    "\n",
    "Method 3: (most computationally efficient)\n",
    "\n",
    "$\\large\n",
    "\\langle A,B\\rangle _{F} =tr\\left( A^{T} B\\right)\n",
    "$\n",
    "\n",
    "### Vectorizing a matrix\n",
    "Converting a matrix into a vector by concatening the matrix **column-wise**.\n",
    "\n",
    "$$\\large\n",
    "vec\\left(\\begin{bmatrix}\n",
    "a & c & e\\\\\n",
    "b & d & f\n",
    "\\end{bmatrix}\\right) =\\begin{bmatrix}\n",
    "a\\\\\n",
    "b\\\\\n",
    "c\\\\\n",
    "d\\\\\n",
    "e\\\\\n",
    "f\n",
    "\\end{bmatrix}\n",
    "$$\n",
    "\n",
    "### The transpose-trace trick\n",
    "$$\\large\n",
    " \\begin{bmatrix}\n",
    "a & b & c\\\\\n",
    "d & e & f\n",
    "\\end{bmatrix}\\begin{bmatrix}\n",
    "a & d\\\\\n",
    "b & e\\\\\n",
    "c & f\n",
    "\\end{bmatrix} =\\begin{bmatrix}\n",
    "a^{2} +b^{2} +c^{2} & \\\\\n",
    " & d^{2} +e^{2} +f^{2}\n",
    "\\end{bmatrix}\n",
    "$$\n",
    "\n",
    "### Frobenius norm, aka Euclidean norm\n",
    "\n",
    "$$\\large\n",
    "norm( A) =\\sqrt{\\langle A,A\\rangle _{F}} =\\sqrt{tr\\left( A^{T} A\\right)}\n",
    "$$"
   ]
  },
  {
   "cell_type": "code",
   "execution_count": 21,
   "id": "75614036-36ea-4679-8bd8-0bf2e63f7038",
   "metadata": {},
   "outputs": [
    {
     "name": "stdout",
     "output_type": "stream",
     "text": [
      "5.419\n",
      "5.419\n",
      "\n",
      "6.148\n",
      "6.148\n"
     ]
    }
   ],
   "source": [
    "# Matrix sizes\n",
    "m = 9\n",
    "n = 4\n",
    "\n",
    "# The two matrices must be the same size\n",
    "A = np.random.randn(m,n)\n",
    "B = np.random.randn(m,n)\n",
    "\n",
    "# First vectorize, then vector-dot-product\n",
    "Av = np.reshape(A, m*n, order='F') # order='F' reshapes by columns instead of rows\n",
    "Bv = np.reshape(B, m*n, order='F')\n",
    "frob_dp = np.dot(Av, Bv)\n",
    "print(np.round(frob_dp, 3))\n",
    "\n",
    "# Trace method\n",
    "frob_dp2 = np.trace(A.T@B)\n",
    "print(np.round(frob_dp2, 3)), print()\n",
    "\n",
    "# Matrix norm\n",
    "Anorm = np.linalg.norm(A, 'fro')\n",
    "Anorm2 = np.sqrt(np.trace(A.T@A))\n",
    "print(np.round(Anorm, 3))\n",
    "print(np.round(Anorm2, 3))"
   ]
  },
  {
   "cell_type": "markdown",
   "id": "4aa6aca8-911e-43e9-ba98-26b731e55114",
   "metadata": {},
   "source": [
    "## Matrix norms\n",
    "### Frobenius norm, a.k.a., Euclidean norm\n",
    "Similar to the vector norm:\n",
    "- Square all individual matrix elements, add them together, take the square root. \n",
    "    \n",
    "$$\\large\n",
    "norm( A) =\\sqrt{\\langle A,A\\rangle _{F}} =\\sqrt{tr\\left( A^{T} A\\right)}\n",
    "$$\n",
    "\n",
    "### Induced 2-norm\n",
    "How much $A$ scales vector $x$.\n",
    "\n",
    "$$\\large\n",
    "\\| A\\| _{p} =sup\\frac{\\| Ax\\| _{p}}{\\| x\\| _{p}} ,\\ \\ \\ \\ \\ x\\neq 0\n",
    "$$\n",
    "\n",
    "### Schatten p-norm\n",
    "Sum of singular values of the matrix. $\\sigma$  = singular values of the matrix.\n",
    "\n",
    "$$\\large\n",
    "\\| A\\| _{p} =\\left(\\sum _{i=1}^{r} \\sigma _{i}^{p}\\right)^{1/p}\n",
    "$$"
   ]
  },
  {
   "cell_type": "code",
   "execution_count": 22,
   "id": "f6a1123e-bb61-4315-9c9b-1f7ddbb9a053",
   "metadata": {},
   "outputs": [
    {
     "name": "stdout",
     "output_type": "stream",
     "text": [
      "Frobenius norm: \t16.432\n",
      "Induced 2-norm: \t16.392\n",
      "Schatten p-norm:\t16.432\n"
     ]
    }
   ],
   "source": [
    "# Create a matrix\n",
    "A = np.array([[1,2,3], [4,5,6], [7,7,9]])\n",
    "\n",
    "# Optional orthogonal matrix to show that 2-norm is 1\n",
    "Q,R = np.linalg.qr(np.random.randn(5,5))\n",
    "# A = Q\n",
    "\n",
    "# Frobenius norm\n",
    "normFrob = np.linalg.norm(A,'fro')\n",
    "\n",
    "# Induced 2-norm\n",
    "normInd2 = np.linalg.norm(A,2)\n",
    "# note: computed as below\n",
    "lamb = np.sqrt( np.max(np.linalg.eig(A.T@A)[0]) )\n",
    "\n",
    "# Schatten p-norm\n",
    "p = 2\n",
    "s = np.linalg.svd(A)[1] # get singular values\n",
    "normSchat = np.sum(s**p)**(1/p)\n",
    "\n",
    "\n",
    "# % show all norms for comparison\n",
    "print(f\"Frobenius norm: \\t{np.round(normFrob, 3)}\")\n",
    "print(f\"Induced 2-norm: \\t{np.round(normInd2, 3)}\")\n",
    "print(f\"Schatten p-norm:\\t{np.round(normSchat, 3)}\")"
   ]
  },
  {
   "cell_type": "markdown",
   "id": "379cfd3b-d3fd-4000-bc8d-af2f292cb3f2",
   "metadata": {},
   "source": [
    "## Code challenge: conditions for self-adjoint\n",
    "$$\\large\n",
    " \\begin{array}{l}\n",
    "\\langle Av,\\ w\\rangle =\\langle v,\\ Aw\\rangle \\ \\ \\ \\ \\ \\ \\ v\\neq w\\\\\n",
    "\\\\\n",
    "( Av)^{T} w=v^{T} A^{T} w=v^{T} Aw\n",
    "\\end{array}\n",
    "$$\n",
    "\n",
    "1. List 2-3 conditions for this equality to hold.\n",
    "2. Prove the equality when those conditions are met.\n",
    "3. Illustrate in code."
   ]
  },
  {
   "cell_type": "code",
   "execution_count": 24,
   "id": "2216f53d-3062-4939-a317-08d7f7705cd8",
   "metadata": {},
   "outputs": [
    {
     "name": "stdout",
     "output_type": "stream",
     "text": [
      "(Av).T w:\t 15.7\n",
      "(v.T)(A.T)w: \t 15.7\n",
      "v.T(Aw): \t 15.7\n"
     ]
    }
   ],
   "source": [
    "# 1. List 2-3 conditions for this equality to hold\n",
    "\"\"\"\n",
    "1. A is square (m*m).\n",
    "2. A is symmetric.\n",
    "3. v and w are the same size (m*1)\n",
    "\"\"\"\n",
    "\n",
    "# 2. Prove the equality when those conditions are met\n",
    "A = np.array([[1,2,3], [2,7,6], [3,6,9]])\n",
    "v = np.random.randn(3)\n",
    "w = np.random.randn(3)\n",
    "\n",
    "print(f\"(Av).T w:\\t {np.round((A@v).T@w, 2)}\")\n",
    "print(f\"(v.T)(A.T)w: \\t {np.round(v.T@A.T@w, 2)}\")\n",
    "print(f\"v.T(Aw): \\t {np.round(v.T@(A@w), 2)}\")"
   ]
  },
  {
   "cell_type": "code",
   "execution_count": null,
   "id": "8b800b77-5c4d-469d-84c6-37a1a6a5b81c",
   "metadata": {},
   "outputs": [],
   "source": []
  }
 ],
 "metadata": {
  "kernelspec": {
   "display_name": "Python 3 (ipykernel)",
   "language": "python",
   "name": "python3"
  },
  "language_info": {
   "codemirror_mode": {
    "name": "ipython",
    "version": 3
   },
   "file_extension": ".py",
   "mimetype": "text/x-python",
   "name": "python",
   "nbconvert_exporter": "python",
   "pygments_lexer": "ipython3",
   "version": "3.9.12"
  }
 },
 "nbformat": 4,
 "nbformat_minor": 5
}
