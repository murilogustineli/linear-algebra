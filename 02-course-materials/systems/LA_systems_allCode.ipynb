{
 "cells": [
  {
   "cell_type": "markdown",
   "metadata": {},
   "source": [
    "#     COURSE: Linear algebra: theory and implementation\n",
    "##    SECTION: Solving systems of equations\n",
    "\n",
    "#### Instructor: sincxpress.com\n",
    "##### Course url: https://www.udemy.com/course/linear-algebra-theory-and-implementation/?couponCode=202110"
   ]
  },
  {
   "cell_type": "code",
   "execution_count": null,
   "metadata": {},
   "outputs": [],
   "source": [
    "import numpy as np\n",
    "import matplotlib.pyplot as plt\n",
    "import math\n",
    "from mpl_toolkits.mplot3d import Axes3D\n",
    "from IPython import display\n",
    "import time\n",
    "from sympy import *"
   ]
  },
  {
   "cell_type": "markdown",
   "metadata": {},
   "source": [
    "\n",
    "---\n",
    "# VIDEO: Systems of equations: algebra and geometry\n",
    "---\n"
   ]
  },
  {
   "cell_type": "code",
   "execution_count": null,
   "metadata": {},
   "outputs": [],
   "source": [
    "\n",
    "# 3 these are the coefficients of the equation:\n",
    "# ay = bx + c;\n",
    "eq1o = [1., 2, 1] # [a b c]\n",
    "eq2o = [2., 1, 3]\n",
    "\n",
    "\n",
    "for i in range(10):\n",
    "    \n",
    "    # clear plot\n",
    "    plt.cla()\n",
    "    \n",
    "    # randomly update equations\n",
    "    eq1 = np.add(eq2o,np.random.randn(1)*eq1o)\n",
    "    eq2 = np.add(eq1o,np.random.randn(1)*eq2o)\n",
    "    \n",
    "    # plot new lines (solutions)\n",
    "    y = ([eq1[1]*-3, eq1[1]*3] + eq1[2])/eq1[0]\n",
    "    plt.plot([-3,3],y)\n",
    "    \n",
    "    y = ([eq2[1]*-3, eq2[1]*3] + eq2[2])/eq2[0]\n",
    "    plt.plot([-3,3],y)\n",
    "    plt.axis([-3,3,-3,6])\n",
    "    \n",
    "    # pause to allow inspection\n",
    "    display.clear_output(wait=True)\n",
    "    display.display(plt.gcf())\n",
    "    time.sleep(.1)\n",
    "    "
   ]
  },
  {
   "cell_type": "code",
   "execution_count": null,
   "metadata": {},
   "outputs": [],
   "source": [
    "# these are the coefficients of the equation:\n",
    "# az = bx + cy + d\n",
    "eq1o = [1, 2, 3, -1] # [a b c d]\n",
    "eq2o = [2, 1, 3,  3]\n",
    "\n",
    "# set up for 3D plot\n",
    "fig = plt.figure()\n",
    "ax = fig.gca(projection='3d')\n",
    "\n",
    "\n",
    "for i in range(0,10):\n",
    "    \n",
    "#     plt.cla()\n",
    "    \n",
    "    # randomly update equations\n",
    "    eq1 = np.add(eq2o,np.random.randn(1)*eq1o)\n",
    "    eq2 = np.add(eq1o,np.random.randn(1)*eq2o)\n",
    "    \n",
    "    # plot new lines (solutions)\n",
    "    y = ([eq1[1]*-3, eq1[1]*3] + eq1[3])/eq1[0]\n",
    "    z = ([eq1[2]*-3, eq1[2]*3] + eq1[3])/eq1[0]\n",
    "    ax.plot([-3,3],y,z)\n",
    "    \n",
    "    # plot new lines (solutions)\n",
    "    y = ([eq2[1]*-3, eq2[1]*3] + eq2[3])/eq2[0]\n",
    "    z = ([eq2[2]*-3, eq2[2]*3] + eq2[3])/eq2[0]\n",
    "    ax.plot([-3,3],y,z)\n",
    "    \n",
    "    # axis limits\n",
    "    ax.set_xlim3d(-3,6)\n",
    "    ax.set_ylim3d(-3,6)\n",
    "    ax.set_zlim3d(-1,10)\n",
    "    \n",
    "    # pause to allow inspection\n",
    "    display.clear_output(wait=True)\n",
    "    display.display(plt.gcf())\n",
    "    time.sleep(.1)\n",
    "    \n",
    "    "
   ]
  },
  {
   "cell_type": "markdown",
   "metadata": {},
   "source": [
    "\n",
    "---\n",
    "# VIDEO: Reduced row echelon form\n",
    "---\n"
   ]
  },
  {
   "cell_type": "code",
   "execution_count": null,
   "metadata": {},
   "outputs": [],
   "source": [
    "# make some random matrices (using sympy package)\n",
    "A = Matrix( np.random.randn(4,4) )\n",
    "B = Matrix( np.random.randn(4,3) )\n",
    "\n",
    "# compute RREF\n",
    "rrefA = A.rref()\n",
    "rrefB = B.rref()\n",
    "\n",
    "# print out the matrix and its rref\n",
    "print(np.array(rrefA[0]))\n",
    "print(' ')\n",
    "print(np.array(rrefB[0]))\n"
   ]
  }
 ],
 "metadata": {
  "kernelspec": {
   "display_name": "Python 3",
   "language": "python",
   "name": "python3"
  },
  "language_info": {
   "codemirror_mode": {
    "name": "ipython",
    "version": 3
   },
   "file_extension": ".py",
   "mimetype": "text/x-python",
   "name": "python",
   "nbconvert_exporter": "python",
   "pygments_lexer": "ipython3",
   "version": "3.7.3"
  }
 },
 "nbformat": 4,
 "nbformat_minor": 2
}
