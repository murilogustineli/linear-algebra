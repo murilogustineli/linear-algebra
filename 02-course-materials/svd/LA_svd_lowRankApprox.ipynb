{
 "cells": [
  {
   "cell_type": "markdown",
   "metadata": {},
   "source": [
    "#     COURSE: Linear algebra: theory and implementation\n",
    "##    SECTION: Singular value decomposition\n",
    "###     VIDEO: SVD for low-rank approximations\n",
    "\n",
    "#### Instructor: sincxpress.com\n",
    "##### Course url: https://www.udemy.com/course/linear-algebra-theory-and-implementation/?couponCode=202110"
   ]
  },
  {
   "cell_type": "code",
   "execution_count": null,
   "metadata": {},
   "outputs": [],
   "source": [
    "import numpy as np\n",
    "import matplotlib.pyplot as plt"
   ]
  },
  {
   "cell_type": "code",
   "execution_count": null,
   "metadata": {},
   "outputs": [],
   "source": [
    "# number of components (singular \"layers\") to keep\n",
    "nComps = 5\n",
    "\n",
    "# reduced matrices\n",
    "Ur = U[:,0:nComps]\n",
    "Sr = S[0:nComps]\n",
    "Vr = V[0:nComps,:]\n",
    "\n",
    "# low-rank apporoximation\n",
    "reconImage = Ur@np.diag(Sr)@Vr\n",
    "\n",
    "# rank (confirm same as nComps)\n",
    "print( 'rank =',np.linalg.matrix_rank(reconImage) )"
   ]
  },
  {
   "cell_type": "code",
   "execution_count": null,
   "metadata": {},
   "outputs": [],
   "source": [
    "# error map and percent difference from original matrix\n",
    "errormap = (reconImage-A)**2\n",
    "\n",
    "# show the results!\n",
    "plt.subplot(131)\n",
    "plt.imshow(A)\n",
    "plt.axis('off')\n",
    "plt.title('Original')\n",
    "\n",
    "plt.subplot(132)\n",
    "plt.imshow(reconImage)\n",
    "plt.axis('off')\n",
    "plt.title('Low-rank')\n",
    "\n",
    "plt.subplot(133)\n",
    "plt.imshow(errormap,vmin=-1,vmax=1)\n",
    "plt.axis('off')\n",
    "plt.title('error')\n",
    "plt.show()\n"
   ]
  }
 ],
 "metadata": {
  "kernelspec": {
   "display_name": "Python 3",
   "language": "python",
   "name": "python3"
  },
  "language_info": {
   "codemirror_mode": {
    "name": "ipython",
    "version": 3
   },
   "file_extension": ".py",
   "mimetype": "text/x-python",
   "name": "python",
   "nbconvert_exporter": "python",
   "pygments_lexer": "ipython3",
   "version": "3.7.3"
  }
 },
 "nbformat": 4,
 "nbformat_minor": 2
}
