{
 "cells": [
  {
   "cell_type": "markdown",
   "metadata": {},
   "source": [
    "#     COURSE: Linear algebra: theory and implementation\n",
    "##    SECTION: Quadratic form and definiteness\n",
    "###     VIDEO: The quadratic form in geometry\n",
    "\n",
    "#### Instructor: sincxpress.com\n",
    "##### Course url: https://www.udemy.com/course/linear-algebra-theory-and-implementation/?couponCode=202110"
   ]
  },
  {
   "cell_type": "code",
   "execution_count": null,
   "metadata": {},
   "outputs": [],
   "source": [
    "import numpy as np\n",
    "import matplotlib.pyplot as plt\n",
    "from mpl_toolkits.mplot3d import Axes3D\n",
    "from matplotlib import cm"
   ]
  },
  {
   "cell_type": "code",
   "execution_count": null,
   "metadata": {},
   "outputs": [],
   "source": [
    "# some different matrices\n",
    "S = np.zeros((4,), dtype=np.object)\n",
    "\n",
    "S[0] = [ [ 4, 4], [4, 9] ]\n",
    "S[1] = [ [-4,-1], [3,-5] ]\n",
    "S[2] = [ [ 0, 1], [2, 0] ]\n",
    "S[3] = [ [ 1, 1], [1, 1] ]\n",
    "\n",
    "# range for vector w\n",
    "n = 30\n",
    "wRange = np.linspace(-2,2,n)\n",
    "\n",
    "# initialize quadratic form matrix\n",
    "qf = np.zeros( (n,n) )\n",
    "\n",
    "\n",
    "for i in range(4):\n",
    "    \n",
    "    # compute QF\n",
    "    for xi in range(n):\n",
    "        for yi in range(n):\n",
    "            # this w\n",
    "            w = np.transpose([ wRange[xi], wRange[yi] ])\n",
    "            \n",
    "            # QF\n",
    "            qf[xi,yi] = w.T@S[i]@w\n",
    "    \n",
    "    # show the map\n",
    "    plt.subplot(2,2,i+1)\n",
    "    plt.imshow(qf,extent=[wRange[0],wRange[-1],wRange[0],wRange[-1]])\n",
    "\n",
    "plt.show()"
   ]
  },
  {
   "cell_type": "code",
   "execution_count": null,
   "metadata": {},
   "outputs": [],
   "source": [
    "# 3D plotting code\n",
    "\n",
    "mycmap = plt.get_cmap('gist_earth')\n",
    "X,Y = np.meshgrid(wRange,wRange)\n",
    "\n",
    "for i in range(4):\n",
    "    \n",
    "    for xi in range(n):\n",
    "        for yi in range(n):\n",
    "            w = np.array([ wRange[xi], wRange[yi] ])\n",
    "            qf[xi,yi] = w.T@S[i]@w\n",
    "    \n",
    "    # show the map \n",
    "    fig = plt.figure(figsize=(10,6))\n",
    "    ax1 = fig.add_subplot(221+i, projection='3d')\n",
    "    surf1 = ax1.plot_surface(X, Y, qf.T, cmap=mycmap)\n",
    "    ax1.view_init(azim=-30, elev=30)\n",
    "\n",
    "plt.show()"
   ]
  },
  {
   "cell_type": "code",
   "execution_count": null,
   "metadata": {},
   "outputs": [],
   "source": [
    "# compute and visualize the normalized quadratic form\n",
    "\n",
    "A = np.array([[-2,3],[2,8]])\n",
    "\n",
    "n = 30\n",
    "xi = np.linspace(-2,2,n)\n",
    "\n",
    "# for the visualization\n",
    "X,Y = np.meshgrid(xi,xi)\n",
    "\n",
    "# initialize\n",
    "qf  = np.zeros((n,n))\n",
    "qfN = np.zeros((n,n))\n",
    "\n",
    "for i in range(n):\n",
    "    for j in range(n):\n",
    "        \n",
    "        # create x (coordinate) vector\n",
    "        x = np.transpose([ xi[i],xi[j] ])\n",
    "\n",
    "        # compute the quadratic forms\n",
    "        qf[i,j]  = x.T@A@x\n",
    "        qfN[i,j] = qf[i,j] / (x.T@x)\n",
    "\n",
    "\n",
    "fig = plt.figure(figsize=(5,5))\n",
    "ax1 = fig.add_subplot(111, projection='3d')\n",
    "surf1 = ax1.plot_surface(X, Y, qf.T, cmap=mycmap)\n",
    "ax1.view_init(azim=-30, elev=30)\n",
    "ax1.set_title('Non-normalized quadratic form')\n",
    "\n",
    "fig = plt.figure(figsize=(5,5))\n",
    "ax1 = fig.add_subplot(111, projection='3d')\n",
    "surf1 = ax1.plot_surface(X, Y, qfN.T, cmap=mycmap, antialiased=False)\n",
    "ax1.view_init(azim=-30, elev=30)\n",
    "ax1.set_title('Normalized quadratic form')\n",
    "\n",
    "plt.show()"
   ]
  }
 ],
 "metadata": {
  "kernelspec": {
   "display_name": "Python 3",
   "language": "python",
   "name": "python3"
  },
  "language_info": {
   "codemirror_mode": {
    "name": "ipython",
    "version": 3
   },
   "file_extension": ".py",
   "mimetype": "text/x-python",
   "name": "python",
   "nbconvert_exporter": "python",
   "pygments_lexer": "ipython3",
   "version": "3.7.3"
  }
 },
 "nbformat": 4,
 "nbformat_minor": 2
}
