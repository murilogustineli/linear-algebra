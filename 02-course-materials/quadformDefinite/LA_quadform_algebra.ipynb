{
 "cells": [
  {
   "cell_type": "markdown",
   "metadata": {},
   "source": [
    "#     COURSE: Linear algebra: theory and implementation\n",
    "##    SECTION: Quadratic form and definiteness\n",
    "###     VIDEO: The quadratic form in algbebra\n",
    "\n",
    "#### Instructor: sincxpress.com\n",
    "##### Course url: https://www.udemy.com/course/linear-algebra-theory-and-implementation/?couponCode=202110"
   ]
  },
  {
   "cell_type": "code",
   "execution_count": null,
   "metadata": {},
   "outputs": [],
   "source": [
    "import numpy as np\n",
    "import matplotlib.pyplot as plt"
   ]
  },
  {
   "cell_type": "code",
   "execution_count": null,
   "metadata": {},
   "outputs": [],
   "source": [
    "# matrix and vector\n",
    "S = [ [ 1,  3, -2], \n",
    "      [ 0,  3,  4],\n",
    "      [-5, -2,  4] ]\n",
    "\n",
    "w = np.transpose([ [-2, 4, 3] ])\n",
    "\n",
    "# compute the quadratic form\n",
    "qf = w.T@S@w\n",
    "\n",
    "print(qf)"
   ]
  },
  {
   "cell_type": "code",
   "execution_count": null,
   "metadata": {},
   "outputs": [],
   "source": [
    "n = len(w) # used for plotting\n",
    "\n",
    "# show the matrices\n",
    "plt.subplot(131)\n",
    "plt.imshow(S)\n",
    "plt.axis('off')\n",
    "plt.title('Matrix S')\n",
    "\n",
    "plt.subplot(132)\n",
    "plt.imshow(w)\n",
    "plt.axis('off')\n",
    "plt.title('Vector w')\n",
    "\n",
    "plt.subplot(133)\n",
    "plt.imshow(qf)\n",
    "plt.title('Quadratic form: w$^T$Sw')\n",
    "plt.axis('off')\n",
    "\n",
    "plt.show()"
   ]
  },
  {
   "cell_type": "code",
   "execution_count": null,
   "metadata": {},
   "outputs": [],
   "source": []
  }
 ],
 "metadata": {
  "kernelspec": {
   "display_name": "Python 3",
   "language": "python",
   "name": "python3"
  },
  "language_info": {
   "codemirror_mode": {
    "name": "ipython",
    "version": 3
   },
   "file_extension": ".py",
   "mimetype": "text/x-python",
   "name": "python",
   "nbconvert_exporter": "python",
   "pygments_lexer": "ipython3",
   "version": "3.7.3"
  }
 },
 "nbformat": 4,
 "nbformat_minor": 2
}
