{
 "cells": [
  {
   "cell_type": "markdown",
   "metadata": {},
   "source": [
    "#     COURSE: Linear algebra: theory and implementation\n",
    "##    SECTION: Quadratic form and definiteness\n",
    "###     VIDEO: Quadratic form of generalized eigendecomposition\n",
    "\n",
    "#### Instructor: sincxpress.com\n",
    "##### Course url: https://www.udemy.com/course/linear-algebra-theory-and-implementation/?couponCode=202110"
   ]
  },
  {
   "cell_type": "code",
   "execution_count": null,
   "metadata": {},
   "outputs": [],
   "source": [
    "import numpy as np\n",
    "import matplotlib.pyplot as plt\n",
    "from mpl_toolkits.mplot3d import Axes3D\n",
    "from matplotlib import cm\n",
    "from scipy import linalg"
   ]
  },
  {
   "cell_type": "code",
   "execution_count": null,
   "metadata": {},
   "outputs": [],
   "source": [
    "# create two symmetric matrices\n",
    "m = 14\n",
    "n = 1000\n",
    "\n",
    "# create A as random sine-modulated noise, then its covariance matrix\n",
    "A = np.zeros((m,n))\n",
    "for i in range(n):\n",
    "    A[:,i] = np.random.randn(m) * np.cos(np.linspace(0,np.pi,m))\n",
    "\n",
    "A = A@A.T\n",
    "\n",
    "\n",
    "# B is the same thing, just different random numbers\n",
    "B = np.zeros((m,n))\n",
    "for i in range(n):\n",
    "    B[:,i] = np.random.randn(m) * np.cos(np.linspace(0,np.pi,m))\n",
    "\n",
    "B = B@B.T\n",
    "\n",
    "\n",
    "# generalized eigendecomposition\n",
    "evals,evecs = linalg.eigh(A,B)"
   ]
  },
  {
   "cell_type": "code",
   "execution_count": null,
   "metadata": {
    "scrolled": true
   },
   "outputs": [],
   "source": [
    "## some plotting\n",
    "\n",
    "fig = plt.subplots(1,figsize=(10,6))\n",
    "\n",
    "# W'W\n",
    "plt.subplot(231)\n",
    "plt.imshow(evecs.T@evecs,extent=[-m,m,-m,m])\n",
    "plt.xticks([])\n",
    "plt.title('W$^T$W')\n",
    "\n",
    "# one row of W'W\n",
    "tmp = evecs.T@evecs\n",
    "plt.subplot(234)\n",
    "plt.plot(tmp[1,:],'s-')\n",
    "plt.title('W$_j^T$W')\n",
    "\n",
    "# W'AW\n",
    "plt.subplot(232)\n",
    "plt.imshow(evecs.T@A@evecs,extent=[-m,m,-m,m])\n",
    "plt.xticks([])\n",
    "plt.title('W$^T$AW')\n",
    "\n",
    "# one row of W'AW\n",
    "plt.subplot(235)\n",
    "plt.plot(np.diag(evecs.T@A@evecs),'s-')\n",
    "plt.plot(evals,'r.')\n",
    "plt.title('diag(W$^T$AW)')\n",
    "\n",
    "# W'BW\n",
    "plt.subplot(233)\n",
    "plt.imshow(evecs.T@B@evecs,extent=[-m,m,-m,m])\n",
    "plt.xticks([])\n",
    "plt.title('W$^T$BW')\n",
    "\n",
    "# diagonal of W'BW\n",
    "plt.subplot(236)\n",
    "plt.plot(np.diag(evecs.T@B@evecs),'s-')\n",
    "plt.title('diag(W$^T$BW)')\n",
    "\n",
    "plt.show()\n"
   ]
  },
  {
   "cell_type": "code",
   "execution_count": null,
   "metadata": {},
   "outputs": [],
   "source": []
  }
 ],
 "metadata": {
  "kernelspec": {
   "display_name": "Python 3",
   "language": "python",
   "name": "python3"
  },
  "language_info": {
   "codemirror_mode": {
    "name": "ipython",
    "version": 3
   },
   "file_extension": ".py",
   "mimetype": "text/x-python",
   "name": "python",
   "nbconvert_exporter": "python",
   "pygments_lexer": "ipython3",
   "version": "3.7.3"
  }
 },
 "nbformat": 4,
 "nbformat_minor": 2
}
