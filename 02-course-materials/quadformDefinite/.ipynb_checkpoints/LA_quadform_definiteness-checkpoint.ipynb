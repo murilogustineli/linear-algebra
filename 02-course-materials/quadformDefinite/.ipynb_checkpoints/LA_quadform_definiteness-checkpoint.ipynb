{
 "cells": [
  {
   "cell_type": "markdown",
   "metadata": {},
   "source": [
    "#     COURSE: Linear algebra: theory and implementation\n",
    "##    SECTION: Quadratic form and definiteness\n",
    "###     VIDEO: Matrix definiteness, geometry, and eigenvalues\n",
    "\n",
    "#### Instructor: sincxpress.com\n",
    "##### Course url: https://www.udemy.com/course/linear-algebra-theory-and-implementation/?couponCode=202110"
   ]
  },
  {
   "cell_type": "code",
   "execution_count": null,
   "metadata": {},
   "outputs": [],
   "source": [
    "import numpy as np\n",
    "import matplotlib.pyplot as plt"
   ]
  },
  {
   "cell_type": "code",
   "execution_count": null,
   "metadata": {},
   "outputs": [],
   "source": [
    "# some different matrices\n",
    "S = np.zeros((5,), dtype=np.object)\n",
    "S[0] = [ [ 4, 4], [ 4, 9] ]\n",
    "S[1] = [ [-4,-1], [-3,-5] ]\n",
    "S[2] = [ [ 0, 1], [ 2, 0] ]\n",
    "S[3] = [ [ 1, 1], [ 1, 1] ]\n",
    "S[4] = [ [-1,-2], [-3,-6] ]\n",
    "\n",
    "\n",
    "\n",
    "# range for vector w\n",
    "n = 30\n",
    "wr = 2\n",
    "wRange = np.linspace(-wr,wr,n)\n",
    "\n",
    "# initialize quadratic form matrix\n",
    "qf = np.zeros( (n,n) )\n",
    "\n",
    "\n",
    "fig = plt.subplots(1,figsize=(8,8))\n",
    "\n",
    "for i in range(5):\n",
    "    \n",
    "    # compute QF\n",
    "    for xi in range(n):\n",
    "        for yi in range(n):\n",
    "            # this w\n",
    "            w = np.transpose([ wRange[xi], wRange[yi] ])\n",
    "            \n",
    "            # QF\n",
    "            qf[xi,yi] = w.T@S[i]@w\n",
    "    \n",
    "    # show the map\n",
    "    plt.subplot(2,3,i+1)\n",
    "    plt.imshow(qf.T,extent=[-wr,wr,-wr,wr])\n",
    "    \n",
    "    ## compute the matrix's definiteness based on the eigenvalues\n",
    "    \n",
    "    # get eigenvalues\n",
    "    evals = np.linalg.eig(S[i])[0]\n",
    "    \n",
    "    # we care about their signs\n",
    "    esign = np.sign(evals)\n",
    "    \n",
    "    # test for signs (note: this test is valid only for 2x2 matrices!)\n",
    "    if sum(esign)==2:\n",
    "        defcat = 'Pos. def.'\n",
    "    elif sum(esign)==1:\n",
    "        defcat = 'Pos. semidef.'\n",
    "    elif sum(esign)==0:\n",
    "        defcat = 'Indeterminant'\n",
    "    elif sum(esign)==-1:\n",
    "        defcat = 'Neg. semidef.'\n",
    "    elif sum(esign)==-2:\n",
    "        defcat = 'Neg. def.'\n",
    "    \n",
    "    # add title\n",
    "    plt.title(defcat)\n",
    "\n",
    "plt.show()"
   ]
  }
 ],
 "metadata": {
  "kernelspec": {
   "display_name": "Python 3",
   "language": "python",
   "name": "python3"
  },
  "language_info": {
   "codemirror_mode": {
    "name": "ipython",
    "version": 3
   },
   "file_extension": ".py",
   "mimetype": "text/x-python",
   "name": "python",
   "nbconvert_exporter": "python",
   "pygments_lexer": "ipython3",
   "version": "3.7.3"
  }
 },
 "nbformat": 4,
 "nbformat_minor": 2
}
