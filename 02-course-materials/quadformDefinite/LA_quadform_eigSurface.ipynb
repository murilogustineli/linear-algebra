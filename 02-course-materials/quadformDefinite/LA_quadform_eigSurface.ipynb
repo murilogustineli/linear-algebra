{
 "cells": [
  {
   "cell_type": "markdown",
   "metadata": {},
   "source": [
    "#     COURSE: Linear algebra: theory and implementation\n",
    "##    SECTION: Quadratic form and definiteness\n",
    "###     VIDEO: Eigenvectors and the quadratic form surface\n",
    "\n",
    "#### Instructor: sincxpress.com\n",
    "##### Course url: https://www.udemy.com/course/linear-algebra-theory-and-implementation/?couponCode=202110"
   ]
  },
  {
   "cell_type": "code",
   "execution_count": null,
   "metadata": {},
   "outputs": [],
   "source": [
    "import numpy as np\n",
    "import matplotlib.pyplot as plt"
   ]
  },
  {
   "cell_type": "code",
   "execution_count": null,
   "metadata": {},
   "outputs": [],
   "source": [
    "# a happy little symmetric matrix\n",
    "A = [ [1,2],[2,3] ]\n",
    "\n",
    "# range for vector w\n",
    "n = 30\n",
    "wRange = np.linspace(-2,2,n)\n",
    "\n",
    "# initialize quadratic form matrix\n",
    "qf = np.zeros( (n,n) )\n",
    "\n",
    "# compute QF\n",
    "for xi in range(n):\n",
    "    for yi in range(n):\n",
    "        # this w\n",
    "        w = np.transpose([ wRange[xi], wRange[yi] ])\n",
    "\n",
    "        # QF\n",
    "        qf[xi,yi] = w.T@A@w / (w.T@w)\n",
    "\n",
    "\n",
    "# compute eigendecomposition\n",
    "D,V = np.linalg.eig(A)\n",
    "\n",
    "# scale up eigenvectors\n",
    "V = V*2\n",
    "\n",
    "# show the surface\n",
    "plt.imshow(qf,extent=[-2,2,-2,2])\n",
    "\n",
    "# show the eigenvectors\n",
    "plt.plot( [0,V[0,0]],[0,V[1,0]]  )\n",
    "plt.plot( [0,V[0,1]],[0,V[1,1]]  )\n",
    "plt.show()\n"
   ]
  },
  {
   "cell_type": "code",
   "execution_count": null,
   "metadata": {},
   "outputs": [],
   "source": []
  }
 ],
 "metadata": {
  "kernelspec": {
   "display_name": "Python 3",
   "language": "python",
   "name": "python3"
  },
  "language_info": {
   "codemirror_mode": {
    "name": "ipython",
    "version": 3
   },
   "file_extension": ".py",
   "mimetype": "text/x-python",
   "name": "python",
   "nbconvert_exporter": "python",
   "pygments_lexer": "ipython3",
   "version": "3.7.3"
  }
 },
 "nbformat": 4,
 "nbformat_minor": 2
}
