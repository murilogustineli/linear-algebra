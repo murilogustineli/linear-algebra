{
 "cells": [
  {
   "cell_type": "markdown",
   "metadata": {},
   "source": [
    "#     COURSE: Linear algebra: theory and implementation\n",
    "##    SECTION: Matrix rank\n",
    "###      VIDEO: Computing rank: theory and practice\n",
    "\n",
    "#### Instructor: sincxpress.com\n",
    "##### Course url: https://www.udemy.com/course/linear-algebra-theory-and-implementation/?couponCode=202110"
   ]
  },
  {
   "cell_type": "code",
   "execution_count": null,
   "metadata": {},
   "outputs": [],
   "source": [
    "import numpy as np\n",
    "import matplotlib.pyplot as plt\n",
    "import math"
   ]
  },
  {
   "cell_type": "code",
   "execution_count": null,
   "metadata": {},
   "outputs": [],
   "source": [
    "# make a matrix\n",
    "m = 4\n",
    "n = 6\n",
    "\n",
    "# create a random matrix\n",
    "A = np.random.randn(m,n)\n",
    "\n",
    "# what is the largest possible rank?\n",
    "ra = np.linalg.matrix_rank(A)\n",
    "print('rank = ' + str(ra))\n",
    "\n",
    "# set last column to be repeat of penultimate column\n",
    "B = A\n",
    "B[:,-1] = B[:,-2]\n",
    "\n",
    "rb = np.linalg.matrix_rank(B)\n",
    "# print('rank = ' + str(rb))"
   ]
  },
  {
   "cell_type": "code",
   "execution_count": null,
   "metadata": {},
   "outputs": [],
   "source": [
    "## adding noise to a rank-deficient matrix\n",
    "\n",
    "# square for convenience\n",
    "A = np.round( 10*np.random.randn(m,m) )\n",
    "\n",
    "# reduce the rank\n",
    "A[:,-1] = A[:,-2]\n",
    "\n",
    "# noise level\n",
    "noiseamp = .001\n",
    "\n",
    "# add the noise\n",
    "B = A + noiseamp*np.random.randn(m,m)\n",
    "\n",
    "print('rank (w/o noise) = ' + str(np.linalg.matrix_rank(A)))\n",
    "print('rank (with noise) = ' + str(np.linalg.matrix_rank(B)))\n"
   ]
  }
 ],
 "metadata": {
  "kernelspec": {
   "display_name": "Python 3",
   "language": "python",
   "name": "python3"
  },
  "language_info": {
   "codemirror_mode": {
    "name": "ipython",
    "version": 3
   },
   "file_extension": ".py",
   "mimetype": "text/x-python",
   "name": "python",
   "nbconvert_exporter": "python",
   "pygments_lexer": "ipython3",
   "version": "3.7.3"
  }
 },
 "nbformat": 4,
 "nbformat_minor": 2
}
