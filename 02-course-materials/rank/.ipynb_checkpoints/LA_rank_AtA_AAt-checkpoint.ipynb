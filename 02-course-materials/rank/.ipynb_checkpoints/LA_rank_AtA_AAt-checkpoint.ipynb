{
 "cells": [
  {
   "cell_type": "code",
   "execution_count": null,
   "metadata": {},
   "outputs": [],
   "source": [
    "import numpy as np\n",
    "import matplotlib.pyplot as plt\n",
    "import math"
   ]
  },
  {
   "cell_type": "markdown",
   "metadata": {},
   "source": [
    "\n",
    "---\n",
    "# VIDEO: Computing rank: theory and practice\n",
    "---\n"
   ]
  },
  {
   "cell_type": "code",
   "execution_count": null,
   "metadata": {},
   "outputs": [],
   "source": [
    "# make a matrix\n",
    "m = 4\n",
    "n = 6\n",
    "\n",
    "# create a random matrix\n",
    "A = np.random.randn(m,n)\n",
    "\n",
    "# what is the largest possible rank?\n",
    "ra = np.linalg.matrix_rank(A)\n",
    "print('rank = ' + str(ra))\n",
    "\n",
    "# set last column to be repeat of penultimate column\n",
    "B = A\n",
    "B[:,-1] = B[:,-2]\n",
    "\n",
    "rb = np.linalg.matrix_rank(B)\n",
    "# print('rank = ' + str(rb))"
   ]
  },
  {
   "cell_type": "code",
   "execution_count": null,
   "metadata": {},
   "outputs": [],
   "source": [
    "## adding noise to a rank-deficient matrix\n",
    "\n",
    "# square for convenience\n",
    "A = np.round( 10*np.random.randn(m,m) )\n",
    "\n",
    "# reduce the rank\n",
    "A[:,-1] = A[:,-2]\n",
    "\n",
    "# noise level\n",
    "noiseamp = .001\n",
    "\n",
    "# add the noise\n",
    "B = A + noiseamp*np.random.randn(m,m)\n",
    "\n",
    "print('rank (w/o noise) = ' + str(np.linalg.matrix_rank(A)))\n",
    "print('rank (with noise) = ' + str(np.linalg.matrix_rank(B)))\n"
   ]
  },
  {
   "cell_type": "markdown",
   "metadata": {},
   "source": [
    "\n",
    "---\n",
    "# VIDEO: Rank of A^TA and AA^T\n",
    "---\n"
   ]
  },
  {
   "cell_type": "code",
   "execution_count": null,
   "metadata": {},
   "outputs": [],
   "source": [
    "# matrix sizes\n",
    "m = 14\n",
    "n =  3\n",
    "\n",
    "# create matrices\n",
    "A = np.round( 10*np.random.randn(m,n) )\n",
    "\n",
    "AtA = A.T@A\n",
    "AAt = A@A.T\n",
    "\n",
    "# get matrix sizes\n",
    "sizeAtA = AtA.shape\n",
    "sizeAAt = AAt.shape\n",
    "\n",
    "# print info!\n",
    "print('AtA: %dx%d, rank=%d' %(sizeAtA[0],sizeAtA[1],np.linalg.matrix_rank(AtA)))\n",
    "print('AAt: %dx%d, rank=%d' %(sizeAAt[0],sizeAAt[1],np.linalg.matrix_rank(AAt)))\n"
   ]
  },
  {
   "cell_type": "markdown",
   "metadata": {},
   "source": [
    "\n",
    "---\n",
    "# VIDEO: Making a matrix full-rank by \"shifting\"\n",
    "---\n"
   ]
  },
  {
   "cell_type": "code",
   "execution_count": null,
   "metadata": {},
   "outputs": [],
   "source": [
    "# size of matrix\n",
    "m = 30\n",
    "\n",
    "# create the square symmetric matrix\n",
    "A = np.random.randn(m,m)\n",
    "A = np.round( 10*A.T@A )\n",
    "\n",
    "# reduce the rank\n",
    "A[:,0] = A[:,1]\n",
    "\n",
    "# shift amount (l=lambda)\n",
    "l = .01\n",
    "\n",
    "# new matrix\n",
    "B = A + l*np.eye(m,m)\n",
    "\n",
    "# print information\n",
    "print('rank(w/o shift) = %d' %np.linalg.matrix_rank(A))\n",
    "print('rank(with shift) = %d' %np.linalg.matrix_rank(B))\n"
   ]
  }
 ],
 "metadata": {
  "kernelspec": {
   "display_name": "Python 3",
   "language": "python",
   "name": "python3"
  },
  "language_info": {
   "codemirror_mode": {
    "name": "ipython",
    "version": 3
   },
   "file_extension": ".py",
   "mimetype": "text/x-python",
   "name": "python",
   "nbconvert_exporter": "python",
   "pygments_lexer": "ipython3",
   "version": "3.7.3"
  }
 },
 "nbformat": 4,
 "nbformat_minor": 2
}
