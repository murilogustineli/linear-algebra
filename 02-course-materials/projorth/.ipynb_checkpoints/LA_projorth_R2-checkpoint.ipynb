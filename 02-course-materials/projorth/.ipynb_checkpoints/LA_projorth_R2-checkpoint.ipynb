{
 "cells": [
  {
   "cell_type": "markdown",
   "metadata": {},
   "source": [
    "#     COURSE: Linear algebra: theory and implementation\n",
    "##    SECTION: Projections and orthogonalization\n",
    "### VIDEO: Projections in R^2\n",
    "\n",
    "#### Instructor: sincxpress.com\n",
    "##### Course url: https://www.udemy.com/course/linear-algebra-theory-and-implementation/?couponCode=202110"
   ]
  },
  {
   "cell_type": "code",
   "execution_count": 1,
   "metadata": {},
   "outputs": [],
   "source": [
    "import numpy as np\n",
    "import matplotlib.pyplot as plt"
   ]
  },
  {
   "cell_type": "code",
   "execution_count": null,
   "metadata": {},
   "outputs": [],
   "source": [
    "\n",
    "# point b\n",
    "b = np.array([4,1])\n",
    "\n",
    "# line a\n",
    "a = np.array([ 2, 5 ])\n",
    "\n",
    "# beta\n",
    "beta = (a.T@b) / (a.T@a)\n",
    "\n",
    "# draw!\n",
    "plt.plot(b[0],b[1],'ko',label='b')\n",
    "plt.plot([0, a[0]],[0, a[1]],'b',label='a')\n",
    "\n",
    "# now plot projection line\n",
    "plt.plot([b[0], beta*a[0]],[b[1], beta*a[1]],'r--',label=r'b-$\\beta$a')\n",
    "plt.axis('square')\n",
    "plt.grid()\n",
    "plt.legend()\n",
    "plt.axis((-6, 6, -6, 6))\n",
    "\n",
    "plt.show()"
   ]
  }
 ],
 "metadata": {
  "kernelspec": {
   "display_name": "Python 3",
   "language": "python",
   "name": "python3"
  },
  "language_info": {
   "codemirror_mode": {
    "name": "ipython",
    "version": 3
   },
   "file_extension": ".py",
   "mimetype": "text/x-python",
   "name": "python",
   "nbconvert_exporter": "python",
   "pygments_lexer": "ipython3",
   "version": "3.7.3"
  }
 },
 "nbformat": 4,
 "nbformat_minor": 2
}
