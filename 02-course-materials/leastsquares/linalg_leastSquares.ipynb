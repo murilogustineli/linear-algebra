{
 "cells": [
  {
   "cell_type": "code",
   "execution_count": null,
   "metadata": {},
   "outputs": [],
   "source": [
    "import numpy as np\n",
    "import matplotlib.pyplot as plt\n",
    "from sympy import *\n",
    "import scipy.io as sio\n",
    "from mpl_toolkits.mplot3d import Axes3D"
   ]
  },
  {
   "cell_type": "markdown",
   "metadata": {},
   "source": [
    "\n",
    "---\n",
    "# VIDEO: Least-squares via row-reduction\n",
    "---\n"
   ]
  },
  {
   "cell_type": "code",
   "execution_count": null,
   "metadata": {},
   "outputs": [],
   "source": [
    "m = 10\n",
    "n = 3\n",
    "\n",
    "# create data\n",
    "X = np.random.randn(m,n) # \"design matrix\"\n",
    "y = np.random.randn(m,1) # \"outcome measures (data)\"\n",
    "\n",
    "np.shape(y)"
   ]
  },
  {
   "cell_type": "code",
   "execution_count": null,
   "metadata": {},
   "outputs": [],
   "source": [
    "# try directly applying RREF\n",
    "Xy = Matrix( np.concatenate([X,y],axis=1) )\n",
    "print( Xy.rref() )"
   ]
  },
  {
   "cell_type": "code",
   "execution_count": null,
   "metadata": {},
   "outputs": [],
   "source": [
    "# now reapply to the normal equations\n",
    "XtX = X.T@X\n",
    "Xty = X.T@y\n",
    "normEQ = Matrix( np.concatenate( [XtX,Xty],axis=1 ) )\n",
    "\n",
    "Xsol = normEQ.rref()\n",
    "Xsol = Xsol[0]\n",
    "beta = Xsol[:,-1]\n",
    "\n",
    "print(np.array(Xsol)), print(' ')\n",
    "print(beta), print(' ')\n",
    "\n",
    "# compare to left-inverse\n",
    "beta2 = np.linalg.inv(XtX) @ Xty\n",
    "print(beta2), print(' ')\n",
    "\n",
    "# and with the python solver\n",
    "beta3 = np.linalg.solve(XtX,Xty)\n",
    "print(beta3)"
   ]
  },
  {
   "cell_type": "markdown",
   "metadata": {},
   "source": [
    "\n",
    "---\n",
    "# VIDEO: Least-squares example 1\n",
    "---\n"
   ]
  },
  {
   "cell_type": "code",
   "execution_count": null,
   "metadata": {},
   "outputs": [],
   "source": [
    "# data\n",
    "data = np.array([[-4,0,-3,1,2,8,5,8]]).T\n",
    "N    = len(data)\n",
    "\n",
    "# design matrix\n",
    "X = np.ones([N,1])\n",
    "# fit the model\n",
    "b = np.linalg.solve(X.T@X,X.T@data)\n",
    "\n",
    "# compare against the mean\n",
    "m = np.mean(data)\n",
    "\n",
    "# print the results\n",
    "print(b,m)"
   ]
  },
  {
   "cell_type": "code",
   "execution_count": null,
   "metadata": {},
   "outputs": [],
   "source": [
    "# compute the model-predicted values\n",
    "yHat = X@b\n",
    "\n",
    "# plot data and model prediction\n",
    "plt.plot(np.arange(1,N+1),data,'bs-',label='Data')\n",
    "plt.plot(np.arange(1,N+1),yHat,'ro--',label='Model pred.')\n",
    "\n",
    "plt.legend()\n",
    "plt.show()"
   ]
  },
  {
   "cell_type": "code",
   "execution_count": null,
   "metadata": {},
   "outputs": [],
   "source": [
    "\n",
    "# new design matrix\n",
    "X = np.array([np.arange(0,N)]).T\n",
    "\n",
    "# fit the model\n",
    "b = np.linalg.solve(X.T@X,X.T@data)\n",
    "\n",
    "# compute the model-predicted values\n",
    "yHat = X@b\n",
    "\n",
    "# plot data and model prediction\n",
    "plt.plot(np.arange(1,N+1),data,'bs-',label='Data')\n",
    "plt.plot(np.arange(1,N+1),yHat,'ro--',label='Model pred.')\n",
    "\n",
    "plt.legend()\n",
    "plt.show()"
   ]
  },
  {
   "cell_type": "code",
   "execution_count": null,
   "metadata": {},
   "outputs": [],
   "source": [
    "\n",
    "# design matrix\n",
    "X = np.concatenate( [np.ones([N,1]),np.array([np.arange(0,N)]).T],axis=1)\n",
    "# fit the model\n",
    "b = np.linalg.solve(X.T@X,X.T@data)\n",
    "\n",
    "# compute the model-predicted values\n",
    "yHat = X@b\n",
    "\n",
    "# plot data and model prediction\n",
    "plt.plot(np.arange(1,N+1),data,'bs-',label='Data')\n",
    "plt.plot(np.arange(1,N+1),yHat,'ro--',label='Model pred.')\n",
    "\n",
    "plt.legend()\n",
    "plt.show()"
   ]
  },
  {
   "cell_type": "code",
   "execution_count": null,
   "metadata": {},
   "outputs": [],
   "source": [
    "## now with nonlinearity in the design matrix\n",
    "\n",
    "# design matrix\n",
    "X = np.concatenate( [np.ones([N,1]),np.array([np.arange(0,N)**2]).T],axis=1)\n",
    "# fit the model\n",
    "b = np.linalg.solve(X.T@X,X.T@data)\n",
    "\n",
    "# compute the model-predicted values\n",
    "yHat = X@b\n",
    "\n",
    "# plot data and model prediction\n",
    "plt.plot(np.arange(1,N+1),data,'bs-',label='Data')\n",
    "plt.plot(np.arange(1,N+1),yHat,'ro--',label='Model pred.')\n",
    "\n",
    "plt.legend()\n",
    "plt.show()"
   ]
  },
  {
   "cell_type": "markdown",
   "metadata": {},
   "source": [
    "\n",
    "---\n",
    "# VIDEO: Least-squares example 2\n",
    "---\n"
   ]
  },
  {
   "cell_type": "code",
   "execution_count": null,
   "metadata": {},
   "outputs": [],
   "source": [
    "\n",
    "# load data\n",
    "data = sio.loadmat('EEG_RT_data.mat')\n",
    "rts = data['rts']\n",
    "rts = rts[0]\n",
    "EEGdata = data['EEGdata']\n",
    "frex = data['frex']\n",
    "frex = frex[0]\n",
    "\n",
    "nTrials = len(rts)\n",
    "nFrex = len(frex)\n",
    "\n",
    "\n",
    "# show the data\n",
    "plt.plot(rts,'ks-')\n",
    "plt.xlabel('Trial')\n",
    "plt.show()\n",
    "\n",
    "plt.imshow(EEGdata,origin='lower')\n",
    "plt.xlabel('Trial'), plt.ylabel('Frequency')\n",
    "plt.show()"
   ]
  },
  {
   "cell_type": "code",
   "execution_count": null,
   "metadata": {},
   "outputs": [],
   "source": [
    "# create and fit the model for one frequency\n",
    "\n",
    "X = np.concatenate( [np.ones([nTrials-1,1]),                   # intercept\n",
    "                     np.reshape(rts[0:-1],(nTrials-1,1)),      # RTs\n",
    "                     np.reshape(EEGdata[10,:-1],(nTrials-1,1)) # brain\n",
    "                    ],axis=1)\n",
    "\n",
    "b1 = np.linalg.solve(X.T@X,X.T@rts[1:])\n",
    "b2 = np.linalg.lstsq(X,rts[1:],rcond=None)[0]\n",
    "print(b1)\n",
    "print(b2)"
   ]
  },
  {
   "cell_type": "code",
   "execution_count": null,
   "metadata": {},
   "outputs": [],
   "source": [
    "# initialize beta coefficients vector\n",
    "b = np.zeros(len(frex))\n",
    "\n",
    "# loop over frequencies\n",
    "for fi in np.arange(0,len(frex)):\n",
    "    \n",
    "    # design matrix\n",
    "    X = np.concatenate( [np.ones([nTrials,1]),                 # intercept\n",
    "                         np.reshape(EEGdata[fi,:],(nTrials,1)) # brain\n",
    "                        ],axis=1)\n",
    "    \n",
    "    # compute parameters\n",
    "    t = np.linalg.lstsq(X,rts,rcond=None)[0]\n",
    "    b[fi] = t[1]\n",
    "\n",
    "\n",
    "# plots\n",
    "plt.figure(figsize=(12,10))\n",
    "plt.subplot(211)\n",
    "plt.plot(frex,b,'rs-')\n",
    "plt.xlabel('Frequency (Hz)')\n",
    "plt.ylabel('beta-coefficient')\n",
    "\n",
    "plt.subplot(223)\n",
    "plt.plot(EEGdata[8,:],rts,'ks')\n",
    "plt.ylabel('RTs')\n",
    "plt.xlabel('Brain energy at ' + str(int(frex[8])) + ' Hz')\n",
    "\n",
    "plt.subplot(224)\n",
    "plt.plot(EEGdata[23,:],rts,'ks')\n",
    "plt.ylabel('RTs')\n",
    "plt.xlabel('Brain energy at ' + str(int(frex[23])) + ' Hz')\n",
    "plt.show()\n"
   ]
  },
  {
   "cell_type": "code",
   "execution_count": null,
   "metadata": {},
   "outputs": [],
   "source": []
  }
 ],
 "metadata": {
  "kernelspec": {
   "display_name": "Python 3",
   "language": "python",
   "name": "python3"
  },
  "language_info": {
   "codemirror_mode": {
    "name": "ipython",
    "version": 3
   },
   "file_extension": ".py",
   "mimetype": "text/x-python",
   "name": "python",
   "nbconvert_exporter": "python",
   "pygments_lexer": "ipython3",
   "version": "3.7.3"
  }
 },
 "nbformat": 4,
 "nbformat_minor": 2
}
