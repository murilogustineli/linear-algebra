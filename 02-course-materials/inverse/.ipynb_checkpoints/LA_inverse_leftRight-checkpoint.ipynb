{
 "cells": [
  {
   "cell_type": "code",
   "execution_count": null,
   "metadata": {},
   "outputs": [],
   "source": [
    "import numpy as np\n",
    "from sympy import *\n",
    "import matplotlib.pyplot as plt"
   ]
  },
  {
   "cell_type": "markdown",
   "metadata": {},
   "source": [
    "\n",
    "---\n",
    "# VIDEO: Concept and uses of the inverse\n",
    "---\n"
   ]
  },
  {
   "cell_type": "code",
   "execution_count": null,
   "metadata": {},
   "outputs": [],
   "source": [
    "# size of square matrix\n",
    "m = 3\n",
    "\n",
    "# generate random matrix\n",
    "A = np.random.randn(m,m)\n",
    "\n",
    "# compute its inverse\n",
    "Ainv = np.linalg.inv(A)\n",
    "\n",
    "# and check the multiplication\n",
    "idm = A@Ainv\n",
    "\n",
    "# print the matrix. Note the computer rounding errors on the off-diagonals\n",
    "print(idm)"
   ]
  },
  {
   "cell_type": "code",
   "execution_count": null,
   "metadata": {},
   "outputs": [],
   "source": [
    "# show in an image\n",
    "plt.subplot(131)\n",
    "plt.imshow(A)\n",
    "plt.title('Matrix A')\n",
    "\n",
    "plt.subplot(132)\n",
    "plt.imshow(Ainv)\n",
    "plt.title('Matrix $A^{-1}$')\n",
    "\n",
    "plt.subplot(133)\n",
    "plt.imshow(idm)\n",
    "plt.title('AA$^{-1}$')\n",
    "\n",
    "plt.show()"
   ]
  },
  {
   "cell_type": "code",
   "execution_count": null,
   "metadata": {},
   "outputs": [],
   "source": []
  },
  {
   "cell_type": "markdown",
   "metadata": {},
   "source": [
    "\n",
    "---\n",
    "# VIDEO: Computing the inverse via row reduction\n",
    "---\n"
   ]
  },
  {
   "cell_type": "code",
   "execution_count": null,
   "metadata": {},
   "outputs": [],
   "source": [
    "\n",
    "# matrix size\n",
    "m = 4\n",
    "\n",
    "# random integers matrix\n",
    "A = Matrix( np.round(10*np.random.randn(m,m)),dtype='float' )\n",
    "\n",
    "# augment A and identity\n",
    "Aaug = Matrix( np.concatenate((A,np.eye(m,m)),axis=1) )\n",
    "print('Size of Aaug:',Aaug.shape)\n",
    "\n",
    "# rref\n",
    "Asol = Aaug.rref()\n",
    "Asol = Asol[0]\n",
    "Ainvrref = Asol[:,m:m*2]\n",
    "Ainv = A.inv()"
   ]
  },
  {
   "cell_type": "code",
   "execution_count": null,
   "metadata": {},
   "outputs": [],
   "source": [
    "# show the augemented matrices\n",
    "plt.subplot(211)\n",
    "plt.imshow(matrix2numpy(Aaug,dtype='float'),vmin=-5,vmax=5)\n",
    "plt.title('A|I'), plt.axis('off')\n",
    "\n",
    "plt.subplot(212)\n",
    "plt.imshow(matrix2numpy(Asol,dtype='float'))\n",
    "plt.title('I|A$^{-1}$'), plt.axis('off')\n",
    "\n",
    "plt.show()"
   ]
  },
  {
   "cell_type": "code",
   "execution_count": null,
   "metadata": {},
   "outputs": [],
   "source": [
    "# show the square matrices\n",
    "plt.subplot(131)\n",
    "plt.imshow(matrix2numpy(A,dtype='float'))\n",
    "plt.title('Matrix A'), plt.axis('off')\n",
    "\n",
    "plt.subplot(132)\n",
    "plt.imshow(matrix2numpy(Ainvrref,dtype='float'))\n",
    "plt.title('A$^{-1}$ from rref'), plt.axis('off')\n",
    "\n",
    "plt.subplot(133)\n",
    "plt.imshow(matrix2numpy(Ainv,dtype='float'))\n",
    "plt.title('A$^{-1}$ from inv()'), plt.axis('off')\n",
    "\n",
    "plt.show()"
   ]
  },
  {
   "cell_type": "code",
   "execution_count": null,
   "metadata": {},
   "outputs": [],
   "source": []
  },
  {
   "cell_type": "markdown",
   "metadata": {},
   "source": [
    "\n",
    "---\n",
    "# VIDEO: Left inverse and right inverse\n",
    "---\n"
   ]
  },
  {
   "cell_type": "code",
   "execution_count": null,
   "metadata": {},
   "outputs": [],
   "source": [
    "# m>n for left inverse,\n",
    "# m<n for right inverse\n",
    "m = 6\n",
    "n = 3\n",
    "\n",
    "# create matrices\n",
    "A = np.random.randn(m,n)\n",
    "AtA = A.T@A\n",
    "AAt = A@A.T\n",
    "\n",
    "# inspect ranks\n",
    "print('Shape of A^TA:', np.shape(AtA) )\n",
    "print('Rank of A^TA:', np.linalg.matrix_rank(AtA) )\n",
    "print('Shape of AA^T:', np.shape(AAt) )\n",
    "print('Rank of AA^T:', np.linalg.matrix_rank(AAt) ) \n",
    "\n",
    "# left inverse\n",
    "Aleft = np.linalg.inv(AtA)@A.T\n",
    "\n",
    "# right inverse\n",
    "Aright = A.T@np.linalg.inv(AAt)\n",
    "\n",
    "# now test!\n",
    "I_left  = Aleft  @ A\n",
    "I_right = A @ Aright\n",
    "\n",
    "print(I_left), print(' ')\n",
    "print(I_right), print(' ')\n",
    "\n",
    "\n",
    "# and then test using the inverse function\n",
    "AtA_inv = np.linalg.inv(AtA)\n",
    "I_AtA   = AtA_inv @ AtA\n",
    "\n",
    "AAt_inv = np.linalg.inv(AAt)\n",
    "I_AAt   = AAt_inv @ AAt\n",
    "\n",
    "print(I_AtA), print(' ')\n",
    "print(I_AAt)"
   ]
  },
  {
   "cell_type": "code",
   "execution_count": null,
   "metadata": {},
   "outputs": [],
   "source": [
    "## show images\n",
    "plt.subplot(331)\n",
    "plt.imshow(A), plt.axis('off')\n",
    "plt.title('A')\n",
    "\n",
    "plt.subplot(332)\n",
    "plt.imshow(AtA), plt.axis('off')\n",
    "plt.title('A$^T$A')\n",
    "\n",
    "plt.subplot(333)\n",
    "plt.imshow(AAt), plt.axis('off')\n",
    "plt.title('AA$^T$')\n",
    "\n",
    "plt.subplot(335)\n",
    "plt.imshow(Aleft), plt.axis('off')\n",
    "plt.title('$(A^TA)^{-1}A^T$')\n",
    "\n",
    "plt.subplot(336)\n",
    "plt.imshow(Aright), plt.axis('off')\n",
    "plt.title('$A^T(AA^T)^{-1}$')\n",
    "\n",
    "plt.subplot(338)\n",
    "plt.imshow(I_left), plt.axis('off')\n",
    "plt.title('[ $(A^TA)^{-1}A^T ]$  A')\n",
    "\n",
    "plt.subplot(339)\n",
    "plt.imshow(I_right), plt.axis('off')\n",
    "plt.title('A  [ $A^T(AA^T)^{-1}$ ]')\n",
    "\n",
    "plt.show()"
   ]
  },
  {
   "cell_type": "code",
   "execution_count": null,
   "metadata": {},
   "outputs": [],
   "source": []
  },
  {
   "cell_type": "markdown",
   "metadata": {},
   "source": [
    "\n",
    "---\n",
    "# VIDEO: The pseudoinverse, part 1\n",
    "---\n"
   ]
  },
  {
   "cell_type": "code",
   "execution_count": null,
   "metadata": {},
   "outputs": [],
   "source": [
    "# pseudoinverse of rectangular matrix A\n",
    "\n",
    "pseudoInvA = np.linalg.pinv(A)\n",
    "\n",
    "plt.subplot(131)\n",
    "plt.imshow(A), plt.axis('off')\n",
    "plt.title('A')\n",
    "\n",
    "plt.subplot(132)\n",
    "plt.imshow(pseudoInvA), plt.axis('off')\n",
    "plt.title('Pseudoinverse of A')\n",
    "\n",
    "plt.subplot(133)\n",
    "plt.imshow(pseudoInvA@A), plt.axis('off')\n",
    "plt.title('A$^*$A')\n",
    "\n",
    "plt.show()"
   ]
  },
  {
   "cell_type": "code",
   "execution_count": null,
   "metadata": {},
   "outputs": [],
   "source": [
    "# create random matrix\n",
    "n = 50\n",
    "A = np.random.randn(n,n)\n",
    "\n",
    "# make rank deficient by repeating a column\n",
    "A[:,n-1] = A[:,n-2]\n",
    "\n",
    "# rank of A!\n",
    "print('rank =',np.linalg.matrix_rank(A))"
   ]
  },
  {
   "cell_type": "code",
   "execution_count": null,
   "metadata": {},
   "outputs": [],
   "source": [
    "# compute the pseudoinverse\n",
    "Ai = np.linalg.pinv(A)\n",
    "\n",
    "\n",
    "# and show the matrices\n",
    "plt.subplot(221)\n",
    "plt.imshow(A), plt.axis('off')\n",
    "plt.title('A')\n",
    "\n",
    "plt.subplot(222)\n",
    "plt.imshow(Ai), plt.axis('off')\n",
    "plt.title('A$^*$')\n",
    "\n",
    "plt.subplot(223)\n",
    "plt.imshow(Ai@A), plt.axis('off')\n",
    "plt.title('A$^*$A')\n",
    "\n",
    "plt.subplot(224)\n",
    "plt.imshow(A@Ai), plt.axis('off')\n",
    "plt.title('AA$^*$')\n",
    "\n",
    "plt.show()"
   ]
  },
  {
   "cell_type": "code",
   "execution_count": null,
   "metadata": {},
   "outputs": [],
   "source": []
  }
 ],
 "metadata": {
  "kernelspec": {
   "display_name": "Python 3",
   "language": "python",
   "name": "python3"
  },
  "language_info": {
   "codemirror_mode": {
    "name": "ipython",
    "version": 3
   },
   "file_extension": ".py",
   "mimetype": "text/x-python",
   "name": "python",
   "nbconvert_exporter": "python",
   "pygments_lexer": "ipython3",
   "version": "3.7.3"
  }
 },
 "nbformat": 4,
 "nbformat_minor": 2
}
