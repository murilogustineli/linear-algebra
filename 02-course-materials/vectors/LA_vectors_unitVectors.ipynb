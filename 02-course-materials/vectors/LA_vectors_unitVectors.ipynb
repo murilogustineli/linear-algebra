{
 "cells": [
  {
   "cell_type": "markdown",
   "metadata": {},
   "source": [
    "#     COURSE: Linear algebra: theory and implementation\n",
    "##    SECTION: Vectors\n",
    "###      VIDEO: Unit vector\n",
    "\n",
    "#### Instructor: sincxpress.com\n",
    "##### Course url: https://www.udemy.com/course/linear-algebra-theory-and-implementation/?couponCode=202110"
   ]
  },
  {
   "cell_type": "code",
   "execution_count": null,
   "metadata": {},
   "outputs": [],
   "source": [
    "import numpy as np\n",
    "import matplotlib.pyplot as plt"
   ]
  },
  {
   "cell_type": "code",
   "execution_count": null,
   "metadata": {},
   "outputs": [],
   "source": [
    "# vector\n",
    "v1 = np.array([ -3, 6 ])\n",
    "\n",
    "# mu\n",
    "mu = 1/np.linalg.norm(v1)\n",
    "\n",
    "v1n = v1*mu\n",
    "\n",
    "# plot them\n",
    "plt.plot([0, v1n[0]],[0, v1n[1]],'r',label='v1-norm',linewidth=5)\n",
    "plt.plot([0, v1[0]],[0, v1[1]],'b',label='v1')\n",
    "\n",
    "# axis square\n",
    "plt.axis('square')\n",
    "plt.axis(( -6, 6, -6, 6 ))\n",
    "plt.grid()\n",
    "plt.legend()\n",
    "plt.show()"
   ]
  }
 ],
 "metadata": {
  "kernelspec": {
   "display_name": "Python 3",
   "language": "python",
   "name": "python3"
  },
  "language_info": {
   "codemirror_mode": {
    "name": "ipython",
    "version": 3
   },
   "file_extension": ".py",
   "mimetype": "text/x-python",
   "name": "python",
   "nbconvert_exporter": "python",
   "pygments_lexer": "ipython3",
   "version": "3.7.3"
  }
 },
 "nbformat": 4,
 "nbformat_minor": 2
}
