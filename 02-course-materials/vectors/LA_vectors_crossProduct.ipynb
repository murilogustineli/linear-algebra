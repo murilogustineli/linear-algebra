{
 "cells": [
  {
   "cell_type": "markdown",
   "metadata": {},
   "source": [
    "#     COURSE: Linear algebra: theory and implementation\n",
    "##    SECTION: Vectors\n",
    "###      VIDEO: Vector cross product\n",
    "\n",
    "#### Instructor: sincxpress.com\n",
    "##### Course url: https://www.udemy.com/course/linear-algebra-theory-and-implementation/?couponCode=202110"
   ]
  },
  {
   "cell_type": "code",
   "execution_count": null,
   "metadata": {},
   "outputs": [],
   "source": [
    "import numpy as np\n",
    "import matplotlib.pyplot as plt\n",
    "from mpl_toolkits.mplot3d import Axes3D"
   ]
  },
  {
   "cell_type": "code",
   "execution_count": null,
   "metadata": {},
   "outputs": [],
   "source": [
    "# create vectors\n",
    "v1  = [ -3,  2, 5 ]\n",
    "v2  = [  4, -3, 0 ]\n",
    "\n",
    "# Python's cross-product function\n",
    "v3a = np.cross( v1,v2 )\n",
    "\n",
    "# \"manual\" method\n",
    "v3b = [ [v1[1]*v2[2] - v1[2]*v2[1]],\n",
    "        [v1[2]*v2[0] - v1[0]*v2[2]],\n",
    "        [v1[0]*v2[1] - v1[1]*v2[0]] ]\n",
    "\n",
    "print(v3a,v3b)\n",
    "\n",
    "\n",
    "fig = plt.figure()\n",
    "ax = fig.gca(projection='3d')\n",
    "\n",
    "# draw plane defined by span of v1 and v2\n",
    "xx, yy = np.meshgrid(np.linspace(-10,10,10),np.linspace(-10,10,10))\n",
    "z1 = (-v3a[0]*xx - v3a[1]*yy)/v3a[2]\n",
    "ax.plot_surface(xx,yy,z1,alpha=.2)\n",
    "\n",
    "## plot the two vectors\n",
    "ax.plot([0, v1[0]],[0, v1[1]],[0, v1[2]],'k')\n",
    "ax.plot([0, v2[0]],[0, v2[1]],[0, v2[2]],'k')\n",
    "ax.plot([0, v3a[0]],[0, v3a[1]],[0, v3a[2]],'r')\n",
    "\n",
    "\n",
    "ax.view_init(azim=150,elev=45)\n",
    "plt.show()"
   ]
  },
  {
   "cell_type": "code",
   "execution_count": null,
   "metadata": {},
   "outputs": [],
   "source": []
  }
 ],
 "metadata": {
  "kernelspec": {
   "display_name": "Python 3",
   "language": "python",
   "name": "python3"
  },
  "language_info": {
   "codemirror_mode": {
    "name": "ipython",
    "version": 3
   },
   "file_extension": ".py",
   "mimetype": "text/x-python",
   "name": "python",
   "nbconvert_exporter": "python",
   "pygments_lexer": "ipython3",
   "version": "3.7.3"
  }
 },
 "nbformat": 4,
 "nbformat_minor": 2
}
