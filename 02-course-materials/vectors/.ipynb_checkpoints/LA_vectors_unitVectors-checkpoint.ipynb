{
 "cells": [
  {
   "cell_type": "code",
   "execution_count": null,
   "metadata": {},
   "outputs": [],
   "source": [
    "import numpy as np\n",
    "import matplotlib.pyplot as plt\n",
    "from mpl_toolkits.mplot3d import Axes3D"
   ]
  },
  {
   "cell_type": "markdown",
   "metadata": {},
   "source": [
    "\n",
    "---\n",
    "# VIDEO: Algebraic and geometric interpretations\n",
    "---\n"
   ]
  },
  {
   "cell_type": "code",
   "execution_count": null,
   "metadata": {},
   "outputs": [],
   "source": [
    "\n",
    "# 2-dimensional vector\n",
    "v2 = [ 3, -2 ]\n",
    "\n",
    "# 3-dimensional vector\n",
    "v3 = [ 4, -3, 2 ]\n",
    "\n",
    "# row to column (or vice-versa):\n",
    "v3t = np.transpose(v3)\n",
    "\n",
    "\n",
    "# plot them\n",
    "plt.plot([0,v2[0]],[0,v2[1]])\n",
    "plt.axis('equal')\n",
    "plt.plot([-4, 4],[0, 0],'k--')\n",
    "plt.plot([0, 0],[-4, 4],'k--')\n",
    "plt.grid()\n",
    "plt.axis((-4, 4, -4, 4))\n",
    "plt.show()\n",
    "\n",
    "\n",
    "# plot the 3D vector\n",
    "fig = plt.figure(figsize=plt.figaspect(1))\n",
    "ax = plt.axes(None, projection='3d')\n",
    "ax.plot([0, v3[0]],[0, v3[1]],[0, v3[2]],linewidth=3)\n",
    "\n",
    "# make the plot look nicer\n",
    "ax.plot([0, 0],[0, 0],[-4, 4],'k--')\n",
    "ax.plot([0, 0],[-4, 4],[0, 0],'k--')\n",
    "ax.plot([-4, 4],[0, 0],[0, 0],'k--')\n",
    "plt.show()"
   ]
  },
  {
   "cell_type": "markdown",
   "metadata": {},
   "source": [
    "\n",
    "---\n",
    "# VIDEO: Vector addition/subtraction\n",
    "---\n"
   ]
  },
  {
   "cell_type": "code",
   "execution_count": null,
   "metadata": {},
   "outputs": [],
   "source": [
    "\n",
    "# two vectors in R2\n",
    "v1 = np.array([ 3, -1 ])\n",
    "v2 = np.array([ 2,  4 ])\n",
    "\n",
    "v3 = v1 + v2\n",
    "\n",
    "\n",
    "# plot them\n",
    "plt.plot([0, v1[0]],[0, v1[1]],'b',label='v1')\n",
    "plt.plot([0, v2[0]]+v1[0],[0, v2[1]]+v1[1],'r',label='v2')\n",
    "plt.plot([0, v3[0]],[0, v3[1]],'k',label='v1+v2')\n",
    "\n",
    "plt.legend()\n",
    "plt.axis('square')\n",
    "plt.axis((-6, 6, -6, 6 ))\n",
    "plt.grid()\n",
    "plt.show()\n"
   ]
  },
  {
   "cell_type": "markdown",
   "metadata": {},
   "source": [
    "\n",
    "---\n",
    "# VIDEO: Vector-scalar multiplication\n",
    "---\n"
   ]
  },
  {
   "cell_type": "code",
   "execution_count": null,
   "metadata": {},
   "outputs": [],
   "source": [
    "# vector and scalar\n",
    "v1 = np.array([ 3, -1 ])\n",
    "l  = 2.3\n",
    "v1m = v1*l # scalar-modulated\n",
    "\n",
    "# plot them\n",
    "plt.plot([0, v1[0]],[0, v1[1]],'b',label='$v_1$')\n",
    "plt.plot([0, v1m[0]],[0, v1m[1]],'r:',label='$\\lambda v_1$')\n",
    "\n",
    "plt.legend()\n",
    "plt.axis('square')\n",
    "axlim = max([max(abs(v1)),max(abs(v1m))])*1.5 # dynamic axis lim\n",
    "plt.axis((-axlim,axlim,-axlim,axlim))\n",
    "plt.grid()\n",
    "plt.show()"
   ]
  },
  {
   "cell_type": "markdown",
   "metadata": {},
   "source": [
    "\n",
    "---\n",
    "# VIDEO: Vector-vector multiplication: the dot product\n",
    "---\n"
   ]
  },
  {
   "cell_type": "code",
   "execution_count": null,
   "metadata": {},
   "outputs": [],
   "source": [
    "## many ways to compute the dot product\n",
    "\n",
    "v1 = np.array([ 1, 2, 3, 4, 5, 6 ])\n",
    "v2 = np.array([ 0, -4,  -3, 6, 5 ])\n",
    "\n",
    "# method 1\n",
    "dp1 = sum( np.multiply(v1,v2) )\n",
    "\n",
    "# method 2\n",
    "dp2 = np.dot( v1,v2 )\n",
    "\n",
    "# method 3\n",
    "dp3 = np.matmul( v1,v2 )\n",
    "\n",
    "# method 4\n",
    "dp4 = 0  # initialize\n",
    "\n",
    "# loop over elements\n",
    "for i in range(len(v1)):\n",
    "    \n",
    "    # multiply corresponding element and sum\n",
    "    dp4 = dp4 + v1[i]*v2[i]\n",
    "\n",
    "\n",
    "print(dp1,dp2,dp3,dp4)"
   ]
  },
  {
   "cell_type": "markdown",
   "metadata": {},
   "source": [
    "# VIDEO: Dot product properties: associative and distributive"
   ]
  },
  {
   "cell_type": "code",
   "execution_count": null,
   "metadata": {},
   "outputs": [],
   "source": [
    "## Distributive property\n",
    "\n",
    "# create random vectors\n",
    "n = 10\n",
    "a = np.random.randn(n)\n",
    "b = np.random.randn(n)\n",
    "c = np.random.randn(n)\n",
    "\n",
    "# the two results\n",
    "res1 = np.dot( a , (b+c) )\n",
    "res2 = np.dot(a,b) + np.dot(a,c)\n",
    "\n",
    "# compare them\n",
    "print([ res1,res2 ])"
   ]
  },
  {
   "cell_type": "code",
   "execution_count": null,
   "metadata": {},
   "outputs": [],
   "source": [
    "## Associative property\n",
    "\n",
    "# create random vectors\n",
    "n = 5\n",
    "a = np.random.randn(n)\n",
    "b = np.random.randn(n)\n",
    "c = np.random.randn(n)\n",
    "\n",
    "# the two results\n",
    "res1 = np.dot( a , np.dot(b,c) )\n",
    "res2 = np.dot( np.dot(a,b) , c )\n",
    "\n",
    "# compare them\n",
    "print(res1)\n",
    "print(res2)\n",
    "\n",
    "\n",
    "### special cases where associative property works!\n",
    "# 1) one vector is the zeros vector\n",
    "# 2) a==b==c\n"
   ]
  },
  {
   "cell_type": "markdown",
   "metadata": {},
   "source": [
    "\n",
    "---\n",
    "# VIDEO: Vector length\n",
    "---\n"
   ]
  },
  {
   "cell_type": "code",
   "execution_count": null,
   "metadata": {},
   "outputs": [],
   "source": [
    "# a vector\n",
    "v1 = np.array([ 1, 2, 3, 4, 5, 6 ])\n",
    "\n",
    "# methods 1-4, just like with the regular dot product, e.g.:\n",
    "vl1 = np.sqrt( sum( np.multiply(v1,v1)) )\n",
    "\n",
    "# method 5: take the norm\n",
    "vl2 = np.linalg.norm(v1)\n",
    "\n",
    "print(vl1,vl2)"
   ]
  },
  {
   "cell_type": "markdown",
   "metadata": {},
   "source": [
    "\n",
    "---\n",
    "# VIDEO: The dot product from a geometric perspective\n",
    "---\n"
   ]
  },
  {
   "cell_type": "code",
   "execution_count": null,
   "metadata": {},
   "outputs": [],
   "source": [
    "\n",
    "# two vectors\n",
    "v1 = np.array([ 2,  4, -3 ])\n",
    "v2 = np.array([ 0, -3, -3 ])\n",
    "\n",
    "# compute the angle (radians) between two vectors\n",
    "ang = np.arccos( np.dot(v1,v2) / (np.linalg.norm(v1)*np.linalg.norm(v2)) )\n",
    "\n",
    "\n",
    "# draw them\n",
    "fig = plt.figure()\n",
    "ax = fig.gca(projection='3d')\n",
    "ax.plot([0, v1[0]],[0, v1[1]],[0, v1[2]],'b')\n",
    "ax.plot([0, v2[0]],[0, v2[1]],[0, v2[2]],'r')\n",
    "\n",
    "plt.axis((-6, 6, -6, 6))\n",
    "plt.title('Angle between vectors: %s rad.' %ang)\n",
    "plt.show()\n"
   ]
  },
  {
   "cell_type": "code",
   "execution_count": null,
   "metadata": {},
   "outputs": [],
   "source": [
    "## equivalence of algebraic and geometric dot product formulas\n",
    "\n",
    "# two vectors\n",
    "v1 = np.array([ 2,  4, -3 ])\n",
    "v2 = np.array([ 0, -3, -3 ])\n",
    "\n",
    "\n",
    "# algebraic\n",
    "dp_a = np.dot( v1,v2 )\n",
    "\n",
    "# geometric\n",
    "dp_g = np.linalg.norm(v1)*np.linalg.norm(v2)*np.cos(ang)\n",
    "\n",
    "# print dot product to command\n",
    "print(dp_a)\n",
    "print(dp_g)\n"
   ]
  },
  {
   "cell_type": "markdown",
   "metadata": {},
   "source": [
    "\n",
    "---\n",
    "# VIDEO: Vector Hadamard multiplication\n",
    "---\n"
   ]
  },
  {
   "cell_type": "code",
   "execution_count": null,
   "metadata": {},
   "outputs": [],
   "source": [
    "\n",
    "# create vectors\n",
    "w1 = [ 1, 3, 5 ]\n",
    "w2 = [ 3, 4, 2 ]\n",
    "\n",
    "w3 = np.multiply(w1,w2)\n",
    "print(w3)\n"
   ]
  },
  {
   "cell_type": "markdown",
   "metadata": {},
   "source": [
    "\n",
    "---\n",
    "# VIDEO: Vector outer product\n",
    "---\n"
   ]
  },
  {
   "cell_type": "code",
   "execution_count": null,
   "metadata": {},
   "outputs": [],
   "source": [
    "\n",
    "v1 = np.array([  1, 2, 3 ])\n",
    "v2 = np.array([ -1, 0, 1 ])\n",
    "\n",
    "# outer product\n",
    "np.outer(v1,v2)\n",
    "\n",
    "# terrible programming, but helps conceptually:\n",
    "op = np.zeros((len(v1),len(v2)))\n",
    "for i in range(0,len(v1)):\n",
    "    for j in range(0,len(v2)):\n",
    "        op[i,j] = v1[i] * v2[j]\n",
    "\n",
    "print(op)"
   ]
  },
  {
   "cell_type": "markdown",
   "metadata": {},
   "source": [
    "\n",
    "---\n",
    "# VIDEO: Vector cross product\n",
    "---\n"
   ]
  },
  {
   "cell_type": "code",
   "execution_count": null,
   "metadata": {},
   "outputs": [],
   "source": [
    "# create vectors\n",
    "v1  = [ -3,  2, 5 ]\n",
    "v2  = [  4, -3, 0 ]\n",
    "\n",
    "# Python's cross-product function\n",
    "v3a = np.cross( v1,v2 )\n",
    "\n",
    "# \"manual\" method\n",
    "v3b = [ [v1[1]*v2[2] - v1[2]*v2[1]],\n",
    "        [v1[2]*v2[0] - v1[0]*v2[2]],\n",
    "        [v1[0]*v2[1] - v1[1]*v2[0]] ]\n",
    "\n",
    "print(v3a,v3b)\n",
    "\n",
    "\n",
    "fig = plt.figure()\n",
    "ax = fig.gca(projection='3d')\n",
    "\n",
    "# draw plane defined by span of v1 and v2\n",
    "xx, yy = np.meshgrid(np.linspace(-10,10,10),np.linspace(-10,10,10))\n",
    "z1 = (-v3a[0]*xx - v3a[1]*yy)/v3a[2]\n",
    "ax.plot_surface(xx,yy,z1,alpha=.2)\n",
    "\n",
    "## plot the two vectors\n",
    "ax.plot([0, v1[0]],[0, v1[1]],[0, v1[2]],'k')\n",
    "ax.plot([0, v2[0]],[0, v2[1]],[0, v2[2]],'k')\n",
    "ax.plot([0, v3a[0]],[0, v3a[1]],[0, v3a[2]],'r')\n",
    "\n",
    "\n",
    "ax.view_init(azim=150,elev=45)\n",
    "plt.show()"
   ]
  },
  {
   "cell_type": "markdown",
   "metadata": {},
   "source": [
    "\n",
    "---\n",
    "# VIDEO: Hermitian transpose (a.k.a. conjugate transpose)\n",
    "---\n"
   ]
  },
  {
   "cell_type": "code",
   "execution_count": null,
   "metadata": {},
   "outputs": [],
   "source": [
    "# create a complex number\n",
    "z = np.complex(3,4)\n",
    "\n",
    "# magnitude\n",
    "print( np.linalg.norm(z) )\n",
    "\n",
    "# by transpose?\n",
    "print( np.transpose(z)*z )\n",
    "\n",
    "# by Hermitian transpose\n",
    "print( np.transpose(z.conjugate())*z )\n",
    "\n",
    "\n",
    "# complex vector\n",
    "v = np.array( [ 3, 4j, 5+2j, np.complex(2,-5) ] )\n",
    "print( v.T )\n",
    "print( np.transpose(v) )\n",
    "print( np.transpose(v.conjugate()) )"
   ]
  },
  {
   "cell_type": "markdown",
   "metadata": {},
   "source": [
    "\n",
    "---\n",
    "# VIDEO: Unit vector\n",
    "---\n"
   ]
  },
  {
   "cell_type": "code",
   "execution_count": null,
   "metadata": {},
   "outputs": [],
   "source": [
    "\n",
    "# vector\n",
    "v1 = np.array([ -3, 6 ])\n",
    "\n",
    "# mu\n",
    "mu = 1/np.linalg.norm(v1)\n",
    "\n",
    "v1n = v1*mu\n",
    "\n",
    "# plot them\n",
    "plt.plot([0, v1n[0]],[0, v1n[1]],'r',label='v1-norm',linewidth=5)\n",
    "plt.plot([0, v1[0]],[0, v1[1]],'b',label='v1')\n",
    "\n",
    "# axis square\n",
    "plt.axis('square')\n",
    "plt.axis(( -6, 6, -6, 6 ))\n",
    "plt.grid()\n",
    "plt.legend()\n",
    "plt.show()"
   ]
  },
  {
   "cell_type": "markdown",
   "metadata": {},
   "source": [
    "\n",
    "---\n",
    "# VIDEO: Span\n",
    "---\n"
   ]
  },
  {
   "cell_type": "code",
   "execution_count": null,
   "metadata": {},
   "outputs": [],
   "source": [
    "# set S\n",
    "S1 = np.array([1, 1, 0])\n",
    "S2 = np.array([1, 7, 0])\n",
    "\n",
    "# vectors v and w\n",
    "v = np.array([1, 2, 0])\n",
    "w = np.array([3, 2, 1])\n",
    "\n",
    "# draw vectors\n",
    "fig = plt.figure()\n",
    "ax = fig.gca(projection='3d')\n",
    "ax.plot([0, S1[0]],[0, S1[1]],[.1, S1[2]+.1],'r',linewidth=3)\n",
    "ax.plot([0, S2[0]],[0, S2[1]],[.1, S2[2]+.1],'r',linewidth=3)\n",
    "\n",
    "ax.plot([0, v[0]],[0, v[1]],[.1, v[2]+.1],'g',linewidth=3)\n",
    "ax.plot([0, w[0]],[0, w[1]],[0, w[2]],'b')\n",
    "\n",
    "# now draw plane\n",
    "xx, yy = np.meshgrid(range(-15,16), range(-15,16))\n",
    "cp = np.cross(S1,S2)\n",
    "z1 = (-cp[0]*xx - cp[1]*yy)*1./cp[2]\n",
    "ax.plot_surface(xx,yy,z1)\n",
    "\n",
    "plt.show()"
   ]
  }
 ],
 "metadata": {
  "kernelspec": {
   "display_name": "Python 3",
   "language": "python",
   "name": "python3"
  },
  "language_info": {
   "codemirror_mode": {
    "name": "ipython",
    "version": 3
   },
   "file_extension": ".py",
   "mimetype": "text/x-python",
   "name": "python",
   "nbconvert_exporter": "python",
   "pygments_lexer": "ipython3",
   "version": "3.7.3"
  }
 },
 "nbformat": 4,
 "nbformat_minor": 2
}
