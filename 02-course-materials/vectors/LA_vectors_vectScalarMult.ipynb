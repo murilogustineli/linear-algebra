{
 "cells": [
  {
   "cell_type": "markdown",
   "metadata": {},
   "source": [
    "#     COURSE: Linear algebra: theory and implementation\n",
    "##    SECTION: Vectors\n",
    "###      VIDEO: Vector-scalar multiplication\n",
    "\n",
    "#### Instructor: sincxpress.com\n",
    "##### Course url: https://www.udemy.com/course/linear-algebra-theory-and-implementation/?couponCode=202110"
   ]
  },
  {
   "cell_type": "code",
   "execution_count": null,
   "metadata": {},
   "outputs": [],
   "source": [
    "import numpy as np\n",
    "import matplotlib.pyplot as plt\n",
    "from mpl_toolkits.mplot3d import Axes3D"
   ]
  },
  {
   "cell_type": "code",
   "execution_count": null,
   "metadata": {},
   "outputs": [],
   "source": [
    "# vector and scalar\n",
    "v1 = np.array([ 3, -1 ])\n",
    "l  = 2.3\n",
    "v1m = v1*l # scalar-modulated\n",
    "\n",
    "# plot them\n",
    "plt.plot([0, v1[0]],[0, v1[1]],'b',label='$v_1$')\n",
    "plt.plot([0, v1m[0]],[0, v1m[1]],'r:',label='$\\lambda v_1$')\n",
    "\n",
    "plt.legend()\n",
    "plt.axis('square')\n",
    "axlim = max([max(abs(v1)),max(abs(v1m))])*1.5 # dynamic axis lim\n",
    "plt.axis((-axlim,axlim,-axlim,axlim))\n",
    "plt.grid()\n",
    "plt.show()"
   ]
  }
 ],
 "metadata": {
  "kernelspec": {
   "display_name": "Python 3",
   "language": "python",
   "name": "python3"
  },
  "language_info": {
   "codemirror_mode": {
    "name": "ipython",
    "version": 3
   },
   "file_extension": ".py",
   "mimetype": "text/x-python",
   "name": "python",
   "nbconvert_exporter": "python",
   "pygments_lexer": "ipython3",
   "version": "3.7.3"
  }
 },
 "nbformat": 4,
 "nbformat_minor": 2
}
