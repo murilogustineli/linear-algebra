{
 "cells": [
  {
   "cell_type": "markdown",
   "metadata": {},
   "source": [
    "#     COURSE: Linear algebra: theory and implementation\n",
    "##    SECTION: Vectors\n",
    "###      VIDEO: The dot product from a geometric perspective\n",
    "\n",
    "#### Instructor: sincxpress.com\n",
    "##### Course url: https://www.udemy.com/course/linear-algebra-theory-and-implementation/?couponCode=202110"
   ]
  },
  {
   "cell_type": "code",
   "execution_count": null,
   "metadata": {},
   "outputs": [],
   "source": [
    "import numpy as np\n",
    "import matplotlib.pyplot as plt"
   ]
  },
  {
   "cell_type": "code",
   "execution_count": null,
   "metadata": {},
   "outputs": [],
   "source": [
    "\n",
    "# two vectors\n",
    "v1 = np.array([ 2,  4, -3 ])\n",
    "v2 = np.array([ 0, -3, -3 ])\n",
    "\n",
    "# compute the angle (radians) between two vectors\n",
    "ang = np.arccos( np.dot(v1,v2) / (np.linalg.norm(v1)*np.linalg.norm(v2)) )\n",
    "\n",
    "\n",
    "# draw them\n",
    "fig = plt.figure()\n",
    "ax = fig.gca(projection='3d')\n",
    "ax.plot([0, v1[0]],[0, v1[1]],[0, v1[2]],'b')\n",
    "ax.plot([0, v2[0]],[0, v2[1]],[0, v2[2]],'r')\n",
    "\n",
    "plt.axis((-6, 6, -6, 6))\n",
    "plt.title('Angle between vectors: %s rad.' %ang)\n",
    "plt.show()\n"
   ]
  },
  {
   "cell_type": "code",
   "execution_count": null,
   "metadata": {},
   "outputs": [],
   "source": [
    "## equivalence of algebraic and geometric dot product formulas\n",
    "\n",
    "# two vectors\n",
    "v1 = np.array([ 2,  4, -3 ])\n",
    "v2 = np.array([ 0, -3, -3 ])\n",
    "\n",
    "\n",
    "# algebraic\n",
    "dp_a = np.dot( v1,v2 )\n",
    "\n",
    "# geometric\n",
    "dp_g = np.linalg.norm(v1)*np.linalg.norm(v2)*np.cos(ang)\n",
    "\n",
    "# print dot product to command\n",
    "print(dp_a)\n",
    "print(dp_g)\n"
   ]
  }
 ],
 "metadata": {
  "kernelspec": {
   "display_name": "Python 3",
   "language": "python",
   "name": "python3"
  },
  "language_info": {
   "codemirror_mode": {
    "name": "ipython",
    "version": 3
   },
   "file_extension": ".py",
   "mimetype": "text/x-python",
   "name": "python",
   "nbconvert_exporter": "python",
   "pygments_lexer": "ipython3",
   "version": "3.7.3"
  }
 },
 "nbformat": 4,
 "nbformat_minor": 2
}
