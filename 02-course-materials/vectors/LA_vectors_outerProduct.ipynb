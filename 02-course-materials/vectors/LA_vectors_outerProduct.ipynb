{
 "cells": [
  {
   "cell_type": "markdown",
   "metadata": {},
   "source": [
    "#     COURSE: Linear algebra: theory and implementation\n",
    "##    SECTION: Vectors\n",
    "###      VIDEO: Vector outer product\n",
    "\n",
    "#### Instructor: sincxpress.com\n",
    "##### Course url: https://www.udemy.com/course/linear-algebra-theory-and-implementation/?couponCode=202110"
   ]
  },
  {
   "cell_type": "code",
   "execution_count": null,
   "metadata": {},
   "outputs": [],
   "source": [
    "import numpy as np"
   ]
  },
  {
   "cell_type": "code",
   "execution_count": null,
   "metadata": {},
   "outputs": [],
   "source": [
    "# two vectors\n",
    "v1 = np.array([  1, 2, 3 ])\n",
    "v2 = np.array([ -1, 0, 1 ])\n",
    "\n",
    "# outer product\n",
    "np.outer(v1,v2)\n",
    "\n",
    "# terrible programming, but helps conceptually:\n",
    "op = np.zeros((len(v1),len(v2)))\n",
    "for i in range(0,len(v1)):\n",
    "    for j in range(0,len(v2)):\n",
    "        op[i,j] = v1[i] * v2[j]\n",
    "\n",
    "print(op)"
   ]
  }
 ],
 "metadata": {
  "kernelspec": {
   "display_name": "Python 3",
   "language": "python",
   "name": "python3"
  },
  "language_info": {
   "codemirror_mode": {
    "name": "ipython",
    "version": 3
   },
   "file_extension": ".py",
   "mimetype": "text/x-python",
   "name": "python",
   "nbconvert_exporter": "python",
   "pygments_lexer": "ipython3",
   "version": "3.7.3"
  }
 },
 "nbformat": 4,
 "nbformat_minor": 2
}
