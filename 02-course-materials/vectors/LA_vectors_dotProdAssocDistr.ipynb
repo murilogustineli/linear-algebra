{
 "cells": [
  {
   "cell_type": "markdown",
   "metadata": {},
   "source": [
    "#     COURSE: Linear algebra: theory and implementation\n",
    "##    SECTION: Vectors\n",
    "###      VIDEO: Dot product properties: associative and distributive\n",
    "\n",
    "#### Instructor: sincxpress.com\n",
    "##### Course url: https://www.udemy.com/course/linear-algebra-theory-and-implementation/?couponCode=202110"
   ]
  },
  {
   "cell_type": "code",
   "execution_count": null,
   "metadata": {},
   "outputs": [],
   "source": [
    "import numpy as np\n",
    "import matplotlib.pyplot as plt\n",
    "from mpl_toolkits.mplot3d import Axes3D"
   ]
  },
  {
   "cell_type": "code",
   "execution_count": null,
   "metadata": {},
   "outputs": [],
   "source": [
    "## Distributive property\n",
    "\n",
    "# create random vectors\n",
    "n = 10\n",
    "a = np.random.randn(n)\n",
    "b = np.random.randn(n)\n",
    "c = np.random.randn(n)\n",
    "\n",
    "# the two results\n",
    "res1 = np.dot( a , (b+c) )\n",
    "res2 = np.dot(a,b) + np.dot(a,c)\n",
    "\n",
    "# compare them\n",
    "print([ res1,res2 ])"
   ]
  },
  {
   "cell_type": "code",
   "execution_count": null,
   "metadata": {},
   "outputs": [],
   "source": [
    "## Associative property\n",
    "\n",
    "# create random vectors\n",
    "n = 5\n",
    "a = np.random.randn(n)\n",
    "b = np.random.randn(n)\n",
    "c = np.random.randn(n)\n",
    "\n",
    "# the two results\n",
    "res1 = np.dot( a , np.dot(b,c) )\n",
    "res2 = np.dot( np.dot(a,b) , c )\n",
    "\n",
    "# compare them\n",
    "print(res1)\n",
    "print(res2)\n",
    "\n",
    "\n",
    "### special cases where associative property works!\n",
    "# 1) one vector is the zeros vector\n",
    "# 2) a==b==c\n"
   ]
  }
 ],
 "metadata": {
  "kernelspec": {
   "display_name": "Python 3",
   "language": "python",
   "name": "python3"
  },
  "language_info": {
   "codemirror_mode": {
    "name": "ipython",
    "version": 3
   },
   "file_extension": ".py",
   "mimetype": "text/x-python",
   "name": "python",
   "nbconvert_exporter": "python",
   "pygments_lexer": "ipython3",
   "version": "3.7.3"
  }
 },
 "nbformat": 4,
 "nbformat_minor": 2
}
