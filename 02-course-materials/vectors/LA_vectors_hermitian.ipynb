{
 "cells": [
  {
   "cell_type": "markdown",
   "metadata": {},
   "source": [
    "#     COURSE: Linear algebra: theory and implementation\n",
    "##    SECTION: Vectors\n",
    "###      VIDEO: Hermitian transpose (a.k.a. conjugate transpose)\n",
    "\n",
    "#### Instructor: sincxpress.com\n",
    "##### Course url: https://www.udemy.com/course/linear-algebra-theory-and-implementation/?couponCode=202110"
   ]
  },
  {
   "cell_type": "code",
   "execution_count": null,
   "metadata": {},
   "outputs": [],
   "source": [
    "import numpy as np"
   ]
  },
  {
   "cell_type": "code",
   "execution_count": null,
   "metadata": {},
   "outputs": [],
   "source": [
    "# create a complex number\n",
    "z = np.complex(3,4)\n",
    "\n",
    "# magnitude\n",
    "print( np.linalg.norm(z) )\n",
    "\n",
    "# by transpose?\n",
    "print( np.transpose(z)*z )\n",
    "\n",
    "# by Hermitian transpose\n",
    "print( np.transpose(z.conjugate())*z )\n",
    "\n",
    "\n",
    "# complex vector\n",
    "v = np.array( [ 3, 4j, 5+2j, np.complex(2,-5) ] )\n",
    "print( v.T )\n",
    "print( np.transpose(v) )\n",
    "print( np.transpose(v.conjugate()) )"
   ]
  }
 ],
 "metadata": {
  "kernelspec": {
   "display_name": "Python 3",
   "language": "python",
   "name": "python3"
  },
  "language_info": {
   "codemirror_mode": {
    "name": "ipython",
    "version": 3
   },
   "file_extension": ".py",
   "mimetype": "text/x-python",
   "name": "python",
   "nbconvert_exporter": "python",
   "pygments_lexer": "ipython3",
   "version": "3.7.3"
  }
 },
 "nbformat": 4,
 "nbformat_minor": 2
}
