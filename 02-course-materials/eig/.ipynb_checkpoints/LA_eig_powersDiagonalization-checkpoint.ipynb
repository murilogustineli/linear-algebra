{
 "cells": [
  {
   "cell_type": "markdown",
   "metadata": {},
   "source": [
    "#     COURSE: Linear algebra: theory and implementation\n",
    "##    SECTION: Eigendecomposition\n",
    "###     VIDEO: Matrix powers via diagonalization\n",
    "\n",
    "#### Instructor: sincxpress.com\n",
    "##### Course url: https://www.udemy.com/course/linear-algebra-theory-and-implementation/?couponCode=202110"
   ]
  },
  {
   "cell_type": "code",
   "execution_count": null,
   "metadata": {},
   "outputs": [],
   "source": [
    "import numpy as np\n",
    "import matplotlib.pyplot as plt\n",
    "from mpl_toolkits.mplot3d import Axes3D"
   ]
  },
  {
   "cell_type": "code",
   "execution_count": null,
   "metadata": {},
   "outputs": [],
   "source": [
    "## matrix powers\n",
    "\n",
    "A = np.random.rand(2,2)\n",
    "\n",
    "# compute matrix power directly\n",
    "print( np.linalg.matrix_power(A,3) ) # A@A@A\n",
    "print(' ')\n",
    "\n",
    "# and via eigendecomposition\n",
    "D,V = np.linalg.eig(A)\n",
    "D = np.diag(D)\n",
    "\n",
    "# reproduce via diagonalization\n",
    "print(V @ np.linalg.matrix_power(D,3) @ np.linalg.inv(V) )"
   ]
  },
  {
   "cell_type": "code",
   "execution_count": null,
   "metadata": {},
   "outputs": [],
   "source": [
    "## eigenvalues of A and A^3\n",
    "\n",
    "# create a symmetric matrix\n",
    "A = np.random.rand(3,3)\n",
    "A = A@A.T\n",
    "\n",
    "D,V   = np.linalg.eig(A)\n",
    "D3,V3 = np.linalg.eig( A@A@A )\n",
    "\n",
    "print(V), print(' ')\n",
    "print(V3)\n",
    "\n",
    "plt.subplot(221)\n",
    "plt.imshow(V)\n",
    "plt.axis('off')\n",
    "plt.title('evecs of A')\n",
    "\n",
    "plt.subplot(223)\n",
    "plt.imshow(V3)\n",
    "plt.axis('off')\n",
    "plt.title('evecs of A^3')\n",
    "\n",
    "plt.show()"
   ]
  },
  {
   "cell_type": "code",
   "execution_count": null,
   "metadata": {},
   "outputs": [],
   "source": [
    "## plot the eigenvectors and eigenvalues\n",
    "\n",
    "fig = plt.figure()\n",
    "ax = fig.gca(projection='3d')\n",
    "\n",
    "# plot eigenvectors of A\n",
    "ax.plot([0,V[0,0]],[0,V[1,0]],[0,V[2,0]],'r')\n",
    "ax.plot([0,V[0,1]],[0,V[1,1]],[0,V[2,1]],'k')\n",
    "ax.plot([0,V[0,2]],[0,V[1,2]],[0,V[2,2]],'b')\n",
    "\n",
    "# plot eigenvectors of A^3\n",
    "ax.plot([0,V3[0,0]],[0,V3[1,0]],[0,V3[2,0]],'r--')\n",
    "ax.plot([0,V3[0,1]],[0,V3[1,1]],[0,V3[2,1]],'k--')\n",
    "ax.plot([0,V3[0,2]],[0,V3[1,2]],[0,V3[2,2]],'b--')\n",
    "\n",
    "plt.show()\n",
    "\n",
    "## show the eigenvalues\n",
    "plt.plot([1,2,3],D,'bs-',label='A')\n",
    "plt.plot([1.1,2.1,3.1],D3,'rs-',label='A^3')\n",
    "plt.title('Eigenvalues')\n",
    "plt.legend()\n",
    "plt.show()"
   ]
  },
  {
   "cell_type": "code",
   "execution_count": null,
   "metadata": {},
   "outputs": [],
   "source": [
    "print(D), print(' ')\n",
    "print(D3), print(' ')\n",
    "print(D**3)"
   ]
  },
  {
   "cell_type": "code",
   "execution_count": null,
   "metadata": {},
   "outputs": [],
   "source": []
  }
 ],
 "metadata": {
  "kernelspec": {
   "display_name": "Python 3",
   "language": "python",
   "name": "python3"
  },
  "language_info": {
   "codemirror_mode": {
    "name": "ipython",
    "version": 3
   },
   "file_extension": ".py",
   "mimetype": "text/x-python",
   "name": "python",
   "nbconvert_exporter": "python",
   "pygments_lexer": "ipython3",
   "version": "3.7.3"
  }
 },
 "nbformat": 4,
 "nbformat_minor": 2
}
