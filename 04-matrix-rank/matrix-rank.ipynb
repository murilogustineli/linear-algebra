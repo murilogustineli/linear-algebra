{
 "cells": [
  {
   "cell_type": "markdown",
   "id": "068189d0-1355-4e95-bc58-145d39c6bb17",
   "metadata": {},
   "source": [
    "# Linear Algebra\n",
    "## Matrix Rank"
   ]
  },
  {
   "cell_type": "code",
   "execution_count": 1,
   "id": "b252cd36-93bf-4a38-b829-81a6bfdf2d8c",
   "metadata": {},
   "outputs": [],
   "source": [
    "import numpy as np\n",
    "import matplotlib.pyplot as plt\n",
    "import math"
   ]
  },
  {
   "cell_type": "markdown",
   "id": "f85e7ef6-5ea1-4b59-a738-d38992cfdc22",
   "metadata": {},
   "source": [
    "## Rank: concepts, terms, and applications\n",
    "The **rank** of a matrix is a **single number** that provides insight into the amount of **information** that is contained in the matrix. A rank is related to the dimensionality of information contained in the matrix.\n",
    "\n",
    "Six important things to know about matrix rank:\n",
    "1. Terminology:\n",
    "    - $r\\ \\text{or} \\ rank( A)$\n",
    "    - Rank is a non-negative integer\n",
    "\n",
    "\n",
    "2. Maximum possible rank: $max(r) = min(m,n)$\n",
    "    - $r\\in \\mathbb{N} ,\\ s.t.\\ \\ \\ 0\\leq r\\leq min\\{m,n\\}$\n",
    "\n",
    "\n",
    "3. Rank is a property of the matrix\n",
    "    - $rank(C(A))$\n",
    "    - $rank(R(A))$\n",
    "\n",
    "\n",
    "4. More terminology:\n",
    "\n",
    "$$\n",
    " \\begin{array}{l}\n",
    "rank\\left(\\underset{m\\times m}{A}\\right) =m\\ \\ \\ \\Rightarrow \\ \\ \\ \\text{\"Full rank matrix\"}\\\\\n",
    "\\\\\n",
    "rank\\left(\\underset{m >n}{A}\\right) =n\\ \\ \\ \\ \\Rightarrow \\ \\ \\ \\text{\"Full column matrix\"}\\\\\n",
    "\\\\\n",
    "rank\\left(\\underset{m< n}{A}\\right) =m\\ \\ \\ \\Rightarrow \\ \\ \\ \\text{\"Full row matrix\"}\\\\\n",
    "\\\\\n",
    "rank\\left(\\underset{m\\times n}{A}\\right) < m,n\\ \\ \\ \\Rightarrow \\ \\ \\ \\text{\"Reduced rank\"\n",
    "\"Rank deficient\"\n",
    "\"Degenerate\"\n",
    "\"Low-rank\"\n",
    "\"Singular\"\n",
    "\"Loser\"\n",
    "\"Dummy\"}\n",
    "\\end{array}\n",
    "$$\n",
    "\n",
    "\n",
    "5. Rank = dimensionality of information\n",
    "\n",
    "\n",
    "6. The rank of a matrix is the **largest number of columns** (or rows) that can form a **linearly independent set**."
   ]
  },
  {
   "cell_type": "code",
   "execution_count": null,
   "id": "8b820a60-fc99-4093-a309-ee242189058a",
   "metadata": {},
   "outputs": [],
   "source": []
  }
 ],
 "metadata": {
  "kernelspec": {
   "display_name": "Python 3 (ipykernel)",
   "language": "python",
   "name": "python3"
  },
  "language_info": {
   "codemirror_mode": {
    "name": "ipython",
    "version": 3
   },
   "file_extension": ".py",
   "mimetype": "text/x-python",
   "name": "python",
   "nbconvert_exporter": "python",
   "pygments_lexer": "ipython3",
   "version": "3.9.12"
  }
 },
 "nbformat": 4,
 "nbformat_minor": 5
}
