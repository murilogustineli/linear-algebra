{
 "cells": [
  {
   "cell_type": "markdown",
   "id": "068189d0-1355-4e95-bc58-145d39c6bb17",
   "metadata": {},
   "source": [
    "# Linear Algebra\n",
    "## Matrix Rank"
   ]
  },
  {
   "cell_type": "code",
   "execution_count": null,
   "id": "b252cd36-93bf-4a38-b829-81a6bfdf2d8c",
   "metadata": {},
   "outputs": [],
   "source": [
    "import numpy as np\n",
    "import matplotlib.pyplot as plt\n",
    "import math"
   ]
  },
  {
   "cell_type": "code",
   "execution_count": null,
   "id": "0344ddb8-9a52-44b9-8f82-4e526bea7448",
   "metadata": {},
   "outputs": [],
   "source": []
  }
 ],
 "metadata": {
  "kernelspec": {
   "display_name": "Python 3 (ipykernel)",
   "language": "python",
   "name": "python3"
  },
  "language_info": {
   "codemirror_mode": {
    "name": "ipython",
    "version": 3
   },
   "file_extension": ".py",
   "mimetype": "text/x-python",
   "name": "python",
   "nbconvert_exporter": "python",
   "pygments_lexer": "ipython3",
   "version": "3.9.12"
  }
 },
 "nbformat": 4,
 "nbformat_minor": 5
}
