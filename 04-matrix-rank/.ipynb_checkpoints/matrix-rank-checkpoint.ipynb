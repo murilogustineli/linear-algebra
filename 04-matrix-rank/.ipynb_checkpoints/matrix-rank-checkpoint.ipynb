{
 "cells": [
  {
   "cell_type": "markdown",
   "id": "068189d0-1355-4e95-bc58-145d39c6bb17",
   "metadata": {},
   "source": [
    "# Linear Algebra\n",
    "## Matrix Rank"
   ]
  },
  {
   "cell_type": "code",
   "execution_count": 1,
   "id": "b252cd36-93bf-4a38-b829-81a6bfdf2d8c",
   "metadata": {},
   "outputs": [],
   "source": [
    "import numpy as np\n",
    "import matplotlib.pyplot as plt\n",
    "import math"
   ]
  },
  {
   "cell_type": "markdown",
   "id": "f85e7ef6-5ea1-4b59-a738-d38992cfdc22",
   "metadata": {},
   "source": [
    "## Rank: concepts, terms, and applications\n",
    "The **rank** of a matrix is a **single number** that provides insight into the amount of **information** that is contained in the matrix. A rank is related to the dimensionality of information contained in the matrix.\n",
    "\n",
    "Six important things to know about matrix rank:\n",
    "1. Terminology:\n",
    "    - $r\\ \\text{or} \\ rank( A)$\n",
    "    - Rank is a non-negative integer.\n",
    "\n",
    "\n",
    "2. Maximum possible rank: \n",
    "    - $max(r) = min(m,n)$\n",
    "    - $r\\in \\mathbb{N} ,\\ s.t.\\ \\ \\ 0\\leq r\\leq min\\{m,n\\}$\n",
    "\n",
    "\n",
    "3. Rank is a property of the matrix, not columns or rows.\n",
    "    - $rank(C(A))$\n",
    "    - $rank(R(A))$\n",
    "\n",
    "\n",
    "4. More terminology:\n",
    "\n",
    "$$\n",
    " \\begin{array}{l}\n",
    "rank\\left(\\underset{m\\times m}{A}\\right) =m\\ \\ \\ \\Rightarrow \\ \\ \\ \\text{\"Full rank matrix\"}\\\\\n",
    "\\\\\n",
    "rank\\left(\\underset{m >n}{A}\\right) =n\\ \\ \\ \\ \\Rightarrow \\ \\ \\ \\text{\"Full column matrix\"}\\\\\n",
    "\\\\\n",
    "rank\\left(\\underset{m< n}{A}\\right) =m\\ \\ \\ \\Rightarrow \\ \\ \\ \\text{\"Full row matrix\"}\\\\\n",
    "\\\\\n",
    "rank\\left(\\underset{m\\times n}{A}\\right) < m,n\\ \\ \\ \\Rightarrow \\ \\ \\ \\text{\"Reduced rank\"\n",
    "\"Rank deficient\"\n",
    "\"Degenerate\"\n",
    "\"Low-rank\"\n",
    "\"Singular\"\n",
    "\"Loser\"\n",
    "\"Dummy\"}\n",
    "\\end{array}\n",
    "$$\n",
    "\n",
    "\n",
    "5. Rank = dimensionality of information.\n",
    "\n",
    "\n",
    "6. The rank of a matrix is the **largest number of columns** (or rows) that can form a **linearly independent set**."
   ]
  },
  {
   "cell_type": "markdown",
   "id": "30d0f8fb-64d9-42f8-8a7f-20a2b857bcf7",
   "metadata": {},
   "source": [
    "## Computing matrix rank: theory and practice\n",
    "Methods to compute rank:\n",
    "1. Count the number of columns in a linearly independent set.\n",
    "    - By visual inspection and a bit of guesswork.\n",
    "    - By applying methods used to solve systems of simultaneous linear equations.\n",
    "2. Apply row reduction to reduce matrix to echelon form, and count the number of pivots.\n",
    "    - Tedious and time-consuming for large matrices or matrices with decimal entries.\n",
    "3. Compute the Singular Value Decomposition (SVD) and count the number of non-zero singular values.\n",
    "4. Compute the Eigendecomposition and count the number of non-zero eigenvalues.\n",
    "\n"
   ]
  },
  {
   "cell_type": "code",
   "execution_count": 2,
   "id": "36eafdbd-3ad1-4176-8a0e-fd1a91c706a8",
   "metadata": {},
   "outputs": [
    {
     "name": "stdout",
     "output_type": "stream",
     "text": [
      "Rank matrix A = 4\n",
      "Rank matrix B = 4\n",
      "Rank matrix B = 3\n"
     ]
    }
   ],
   "source": [
    "# Size\n",
    "m = 4\n",
    "n = 6\n",
    "\n",
    "# Create a random matrix\n",
    "A = np.random.randn(m, n)\n",
    "# print(np.round(A, 2))\n",
    "\n",
    "# What is the largest possible rank? 𝑚𝑎𝑥(𝑟)=𝑚𝑖𝑛(𝑚,𝑛)\n",
    "ra = np.linalg.matrix_rank(A)\n",
    "print(f\"Rank matrix A = {ra}\")\n",
    "\n",
    "# Set last column to be repeat of penultimate column\n",
    "B = A\n",
    "B[:,-1] = B[:,-2]\n",
    "# print(np.round(B, 2))\n",
    "\n",
    "rb = np.linalg.matrix_rank(B)\n",
    "print(f\"Rank matrix B = {rb}\")\n",
    "\n",
    "# Set last row to be repeat of penultimate row\n",
    "B[-1,:] = B[-2,:]\n",
    "# print(np.round(B, 2))\n",
    "\n",
    "rb2 = np.linalg.matrix_rank(B)\n",
    "print(f\"Rank matrix B = {rb2}\")"
   ]
  },
  {
   "cell_type": "code",
   "execution_count": 3,
   "id": "172f88c0-20b5-404b-a3dc-31afe1d083df",
   "metadata": {},
   "outputs": [
    {
     "name": "stdout",
     "output_type": "stream",
     "text": [
      "Rank w/o noise =  3\n",
      "Rank with noise = 4\n"
     ]
    }
   ],
   "source": [
    "# Adding noise to a rank-deficient matrix\n",
    "# Square matrix\n",
    "A = np.round(10*np.random.randn(m, m))\n",
    "\n",
    "# Reduce the rank\n",
    "A[:,-1] = A[:,-2]\n",
    "\n",
    "# Noise level\n",
    "noiseamp = .000001\n",
    "\n",
    "# Add the noise\n",
    "B = A + noiseamp*np.random.randn(m, m)\n",
    "\n",
    "print(f\"Rank w/o noise =  {np.linalg.matrix_rank(A)}\")\n",
    "print(f\"Rank with noise = {np.linalg.matrix_rank(B)}\")"
   ]
  },
  {
   "cell_type": "markdown",
   "id": "3693fb25-34d7-43dd-bb27-83f73e5e4525",
   "metadata": {
    "tags": []
   },
   "source": [
    "## Rank of added and multiplied matrices\n",
    "Rank of $A + B$: the rule\n",
    "\n",
    "$\n",
    " \\begin{array}{l}\n",
    "rank( A+B) \\leq rank( A) +rank( B)\\\\\n",
    "\\\\\n",
    "\\text{Example:}\\\\\n",
    "\\begin{bmatrix}\n",
    "1 & 0 & 0\\\\\n",
    "0 & 0 & 0\\\\\n",
    "0 & 0 & 0\n",
    "\\end{bmatrix} +\\begin{bmatrix}\n",
    "0 & 0 & 0\\\\\n",
    "0 & 1 & 0\\\\\n",
    "0 & 0 & 0\n",
    "\\end{bmatrix}\n",
    "\\end{array}\n",
    "$\n",
    "\n",
    "Rank of $AB$: the rule\n",
    "\n",
    "$\n",
    " \\begin{array}{l}\n",
    "rank( AB) \\leq min\\{rank( A) ,rank( B)\\}\\\\\n",
    "AB=C\\\\\n",
    "Ab_{j} =c_{j} \\ \\ \\ \\ \\ \\Rightarrow \\ \\ \\ \\ \\ rank( C) \\leq rank( A)\\\\\n",
    "a_{i} B=c_{i} \\ \\ \\ \\ \\ \\Rightarrow \\ \\ \\ \\ \\ rank( C) \\leq rank( B)\n",
    "\\end{array}\n",
    "$"
   ]
  },
  {
   "cell_type": "markdown",
   "id": "93d3088d-86e0-45b2-a734-8db11c794895",
   "metadata": {
    "tags": []
   },
   "source": [
    "## Create reduced-rank matrices using matrix multiplication\n",
    "1. Create a 10x10 matrix with rank = 4 (use matrix multiplication).\n",
    "2. Generalize the procedure to create any MxN with rank r.\n",
    "\n",
    "**Note:** the maximum possible rank of a matrix is the smallest M or N (rows or columns)."
   ]
  },
  {
   "cell_type": "code",
   "execution_count": 4,
   "id": "4353301a-540b-4002-8b0e-bc503ca0f80f",
   "metadata": {},
   "outputs": [
    {
     "name": "stdout",
     "output_type": "stream",
     "text": [
      "Matrix shape: (10, 10)\n",
      "Rank: 4\n",
      "\n",
      "Matrix shape: (8, 47)\n",
      "Rank: 3\n"
     ]
    }
   ],
   "source": [
    "# 1. Create a 10x10 matrix with rank = 4 (use matrix multiplication)\n",
    "m = 10 # Matrix size\n",
    "A = np.round(np.random.randn(m, m), 1)\n",
    "b = np.round(np.array([1,1,1,1,0,0,0,0,0,0]))\n",
    "\n",
    "Ar = A.copy()\n",
    "Ar = A*b\n",
    "# print(f\"Rank: {np.linalg.matrix_rank(Ar)}\")\n",
    "\n",
    "# Another way to solve it\n",
    "A = np.random.randn(10, 4) # MxN\n",
    "B = np.random.randn(4, 10) # NxM\n",
    "C = A@B # MxM\n",
    "\n",
    "print(f\"Matrix shape: {C.shape}\")\n",
    "print(f\"Rank: {np.linalg.matrix_rank(C)}\\n\")\n",
    "\n",
    "# 2. Generalize the procedure to create any MxN with rank r\n",
    "m = 8\n",
    "n = 47\n",
    "r = 3\n",
    "\n",
    "A = np.random.randn(m, r)\n",
    "B = np.random.randn(r, n)\n",
    "C = A@B\n",
    "\n",
    "print(f\"Matrix shape: {C.shape}\")\n",
    "print(f\"Rank: {np.linalg.matrix_rank(C)}\")"
   ]
  },
  {
   "cell_type": "code",
   "execution_count": null,
   "id": "1dc8e664-182b-40e6-b555-07ec19b612c9",
   "metadata": {},
   "outputs": [],
   "source": []
  },
  {
   "cell_type": "markdown",
   "id": "64fc5dae-f4af-4b0a-ad0b-5bfda702d5b2",
   "metadata": {},
   "source": [
    "### Recursion"
   ]
  },
  {
   "cell_type": "code",
   "execution_count": 5,
   "id": "0d0e8a3e-5951-47d2-b249-8e137455bd01",
   "metadata": {},
   "outputs": [
    {
     "name": "stdout",
     "output_type": "stream",
     "text": [
      "0, 1, 1, 2, 3, 5, 8, 13, 21, 34\n",
      "34\n"
     ]
    }
   ],
   "source": [
    "# Fibonacci\n",
    "def fib(n: int) -> list:\n",
    "    \"\"\"\n",
    "    n: number of iterations for the fibonacci sequence\n",
    "    \"\"\"\n",
    "    nums = [0, 1]\n",
    "    a, b = 0, 1\n",
    "    for i in range(n-2):\n",
    "        a, b = b, a+b\n",
    "        nums.append(b)\n",
    "    return nums\n",
    "\n",
    "fibo = fib(n=10)\n",
    "print(*fibo, sep=', ')\n",
    "print(fibo[-1])"
   ]
  },
  {
   "cell_type": "code",
   "execution_count": 6,
   "id": "66eaee51-a090-4b34-b697-ee9c39a44d53",
   "metadata": {},
   "outputs": [
    {
     "data": {
      "text/plain": [
       "34"
      ]
     },
     "execution_count": 6,
     "metadata": {},
     "output_type": "execute_result"
    }
   ],
   "source": [
    "# Recursion\n",
    "def fibo(n):\n",
    "    if n <= 1:\n",
    "        return 1\n",
    "    return fibo(n-1) + fibo(n-2)\n",
    "\n",
    "fibo(n=8)"
   ]
  },
  {
   "cell_type": "code",
   "execution_count": 7,
   "id": "145a7328-534f-4155-972e-2bba666ecd2e",
   "metadata": {},
   "outputs": [
    {
     "data": {
      "text/plain": [
       "120"
      ]
     },
     "execution_count": 7,
     "metadata": {},
     "output_type": "execute_result"
    }
   ],
   "source": [
    "# Recursion\n",
    "def fact(n):\n",
    "    if n <= 1:\n",
    "        return 1\n",
    "    return n * fact(n-1)\n",
    "\n",
    "fact(n=5)"
   ]
  },
  {
   "cell_type": "code",
   "execution_count": 8,
   "id": "0650940a-38a5-4597-a84a-69623ef58e11",
   "metadata": {},
   "outputs": [
    {
     "name": "stdout",
     "output_type": "stream",
     "text": [
      "120\n"
     ]
    }
   ],
   "source": [
    "f = 1\n",
    "n = 5\n",
    "for i in range(n-1, 0, -1):\n",
    "    f += f*i\n",
    "print(f)"
   ]
  },
  {
   "cell_type": "code",
   "execution_count": null,
   "id": "41a1608b-9b6a-4c8b-9234-b98902aea3b1",
   "metadata": {},
   "outputs": [],
   "source": []
  }
 ],
 "metadata": {
  "kernelspec": {
   "display_name": "Python 3 (ipykernel)",
   "language": "python",
   "name": "python3"
  },
  "language_info": {
   "codemirror_mode": {
    "name": "ipython",
    "version": 3
   },
   "file_extension": ".py",
   "mimetype": "text/x-python",
   "name": "python",
   "nbconvert_exporter": "python",
   "pygments_lexer": "ipython3",
   "version": "3.9.12"
  }
 },
 "nbformat": 4,
 "nbformat_minor": 5
}
