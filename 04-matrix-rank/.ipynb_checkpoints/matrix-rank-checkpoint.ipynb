{
 "cells": [
  {
   "cell_type": "markdown",
   "id": "068189d0-1355-4e95-bc58-145d39c6bb17",
   "metadata": {},
   "source": [
    "# Linear Algebra\n",
    "## Matrix Rank"
   ]
  },
  {
   "cell_type": "code",
   "execution_count": 1,
   "id": "b252cd36-93bf-4a38-b829-81a6bfdf2d8c",
   "metadata": {},
   "outputs": [],
   "source": [
    "import numpy as np\n",
    "import matplotlib.pyplot as plt\n",
    "import math"
   ]
  },
  {
   "cell_type": "markdown",
   "id": "f85e7ef6-5ea1-4b59-a738-d38992cfdc22",
   "metadata": {},
   "source": [
    "## Rank: concepts, terms, and applications\n",
    "The **rank** of a matrix is a **single number** that provides insight into the amount of **information** that is contained in the matrix. A rank is related to the dimensionality of information contained in the matrix.\n",
    "\n",
    "Six important things to know about matrix rank:\n",
    "1. Terminology:\n",
    "    - $r\\ \\text{or} \\ rank( A)$\n",
    "    - Rank is a non-negative integer.\n",
    "\n",
    "\n",
    "2. Maximum possible rank: \n",
    "    - $max(r) = min(m,n)$\n",
    "    - $r\\in \\mathbb{N} ,\\ s.t.\\ \\ \\ 0\\leq r\\leq min\\{m,n\\}$\n",
    "\n",
    "\n",
    "3. Rank is a property of the matrix, not columns or rows.\n",
    "    - $rank(C(A))$\n",
    "    - $rank(R(A))$\n",
    "\n",
    "\n",
    "4. More terminology:\n",
    "\n",
    "$$\n",
    " \\begin{array}{l}\n",
    "rank\\left(\\underset{m\\times m}{A}\\right) =m\\ \\ \\ \\Rightarrow \\ \\ \\ \\text{\"Full rank matrix\"}\\\\\n",
    "\\\\\n",
    "rank\\left(\\underset{m >n}{A}\\right) =n\\ \\ \\ \\ \\Rightarrow \\ \\ \\ \\text{\"Full column matrix\"}\\\\\n",
    "\\\\\n",
    "rank\\left(\\underset{m< n}{A}\\right) =m\\ \\ \\ \\Rightarrow \\ \\ \\ \\text{\"Full row matrix\"}\\\\\n",
    "\\\\\n",
    "rank\\left(\\underset{m\\times n}{A}\\right) < m,n\\ \\ \\ \\Rightarrow \\ \\ \\ \\text{\"Reduced rank\"\n",
    "\"Rank deficient\"\n",
    "\"Degenerate\"\n",
    "\"Low-rank\"\n",
    "\"Singular\"\n",
    "\"Loser\"\n",
    "\"Dummy\"}\n",
    "\\end{array}\n",
    "$$\n",
    "\n",
    "\n",
    "5. Rank = dimensionality of information.\n",
    "\n",
    "\n",
    "6. The rank of a matrix is the **largest number of columns** (or rows) that can form a **linearly independent set**."
   ]
  },
  {
   "cell_type": "markdown",
   "id": "30d0f8fb-64d9-42f8-8a7f-20a2b857bcf7",
   "metadata": {},
   "source": [
    "## Computing matrix rank: theory and practice\n",
    "Methods to compute rank:\n",
    "1. Count the number of columns in a linearly independent set.\n",
    "    - By visual inspection and a bit of guesswork.\n",
    "    - By applying methods used to solve systems of simultaneous linear equations.\n",
    "2. Apply row reduction to reduce matrix to echelon form, and count the number of pivots.\n",
    "    - Tedious and time-consuming for large matrices or matrices with decimal entries.\n",
    "3. Compute the Singular Value Decomposition (SVD) and count the number of non-zero singular values.\n",
    "4. Compute the Eigendecomposition and count the number of non-zero eigenvalues.\n",
    "\n"
   ]
  },
  {
   "cell_type": "code",
   "execution_count": 2,
   "id": "36eafdbd-3ad1-4176-8a0e-fd1a91c706a8",
   "metadata": {},
   "outputs": [
    {
     "name": "stdout",
     "output_type": "stream",
     "text": [
      "Rank matrix A = 4\n",
      "Rank matrix B = 4\n",
      "Rank matrix B = 3\n"
     ]
    }
   ],
   "source": [
    "# Size\n",
    "m = 4\n",
    "n = 6\n",
    "\n",
    "# Create a random matrix\n",
    "A = np.random.randn(m, n)\n",
    "# print(np.round(A, 2))\n",
    "\n",
    "# What is the largest possible rank? 𝑚𝑎𝑥(𝑟)=𝑚𝑖𝑛(𝑚,𝑛)\n",
    "ra = np.linalg.matrix_rank(A)\n",
    "print(f\"Rank matrix A = {ra}\")\n",
    "\n",
    "# Set last column to be repeat of penultimate column\n",
    "B = A\n",
    "B[:,-1] = B[:,-2]\n",
    "# print(np.round(B, 2))\n",
    "\n",
    "rb = np.linalg.matrix_rank(B)\n",
    "print(f\"Rank matrix B = {rb}\")\n",
    "\n",
    "# Set last row to be repeat of penultimate row\n",
    "B[-1,:] = B[-2,:]\n",
    "# print(np.round(B, 2))\n",
    "\n",
    "rb2 = np.linalg.matrix_rank(B)\n",
    "print(f\"Rank matrix B = {rb2}\")"
   ]
  },
  {
   "cell_type": "code",
   "execution_count": 3,
   "id": "172f88c0-20b5-404b-a3dc-31afe1d083df",
   "metadata": {},
   "outputs": [
    {
     "name": "stdout",
     "output_type": "stream",
     "text": [
      "Rank w/o noise =  3\n",
      "Rank with noise = 4\n"
     ]
    }
   ],
   "source": [
    "# Adding noise to a rank-deficient matrix\n",
    "# Square matrix\n",
    "A = np.round(10*np.random.randn(m, m))\n",
    "\n",
    "# Reduce the rank\n",
    "A[:,-1] = A[:,-2]\n",
    "\n",
    "# Noise level\n",
    "noiseamp = .000001\n",
    "\n",
    "# Add the noise\n",
    "B = A + noiseamp*np.random.randn(m, m)\n",
    "\n",
    "print(f\"Rank w/o noise =  {np.linalg.matrix_rank(A)}\")\n",
    "print(f\"Rank with noise = {np.linalg.matrix_rank(B)}\")"
   ]
  },
  {
   "cell_type": "markdown",
   "id": "3693fb25-34d7-43dd-bb27-83f73e5e4525",
   "metadata": {
    "tags": []
   },
   "source": [
    "## Rank of added and multiplied matrices\n",
    "Rank of $A + B$: the rule\n",
    "\n",
    "$\n",
    " \\begin{array}{l}\n",
    "rank( A+B) \\leq rank( A) +rank( B)\\\\\n",
    "\\\\\n",
    "\\text{Example:}\\\\\n",
    "\\begin{bmatrix}\n",
    "1 & 0 & 0\\\\\n",
    "0 & 0 & 0\\\\\n",
    "0 & 0 & 0\n",
    "\\end{bmatrix} +\\begin{bmatrix}\n",
    "0 & 0 & 0\\\\\n",
    "0 & 1 & 0\\\\\n",
    "0 & 0 & 0\n",
    "\\end{bmatrix}\n",
    "\\end{array}\n",
    "$\n",
    "\n",
    "Rank of $AB$: the rule\n",
    "\n",
    "$\n",
    " \\begin{array}{l}\n",
    "rank( AB) \\leq min\\{rank( A) ,rank( B)\\}\\\\\n",
    "AB=C\\\\\n",
    "Ab_{j} =c_{j} \\ \\ \\ \\ \\ \\Rightarrow \\ \\ \\ \\ \\ rank( C) \\leq rank( A)\\\\\n",
    "a_{i} B=c_{i} \\ \\ \\ \\ \\ \\Rightarrow \\ \\ \\ \\ \\ rank( C) \\leq rank( B)\n",
    "\\end{array}\n",
    "$"
   ]
  },
  {
   "cell_type": "markdown",
   "id": "93d3088d-86e0-45b2-a734-8db11c794895",
   "metadata": {
    "tags": []
   },
   "source": [
    "## Create reduced-rank matrices using matrix multiplication\n",
    "1. Create a 10x10 matrix with rank = 4 (use matrix multiplication).\n",
    "2. Generalize the procedure to create any MxN with rank r.\n",
    "\n",
    "**Note:** the maximum possible rank of a matrix is the smallest M or N (rows or columns)."
   ]
  },
  {
   "cell_type": "code",
   "execution_count": 4,
   "id": "4353301a-540b-4002-8b0e-bc503ca0f80f",
   "metadata": {},
   "outputs": [
    {
     "name": "stdout",
     "output_type": "stream",
     "text": [
      "Matrix shape: (10, 10)\n",
      "Rank: 4\n",
      "\n",
      "Matrix shape: (8, 47)\n",
      "Rank: 3\n"
     ]
    }
   ],
   "source": [
    "# 1. Create a 10x10 matrix with rank = 4 (use matrix multiplication)\n",
    "m = 10 # Matrix size\n",
    "A = np.round(np.random.randn(m, m), 1)\n",
    "b = np.round(np.array([1,1,1,1,0,0,0,0,0,0]))\n",
    "\n",
    "Ar = A.copy()\n",
    "Ar = A*b\n",
    "# print(f\"Rank: {np.linalg.matrix_rank(Ar)}\")\n",
    "\n",
    "# Another way to solve it\n",
    "A = np.random.randn(10, 4) # MxN\n",
    "B = np.random.randn(4, 10) # NxM\n",
    "C = A@B # MxM\n",
    "\n",
    "print(f\"Matrix shape: {C.shape}\")\n",
    "print(f\"Rank: {np.linalg.matrix_rank(C)}\\n\")\n",
    "\n",
    "# 2. Generalize the procedure to create any MxN with rank r\n",
    "m = 8\n",
    "n = 47\n",
    "r = 3\n",
    "\n",
    "A = np.random.randn(m, r)\n",
    "B = np.random.randn(r, n)\n",
    "C = A@B\n",
    "\n",
    "print(f\"Matrix shape: {C.shape}\")\n",
    "print(f\"Rank: {np.linalg.matrix_rank(C)}\")"
   ]
  },
  {
   "cell_type": "markdown",
   "id": "1434d3a0-6594-43ec-92ab-a1818d541b2b",
   "metadata": {
    "tags": []
   },
   "source": [
    "## Code challenge: scalar multiplication and rank\n",
    "Test whether the matrix rank is invariant to scalar multiplication.\n",
    "\n",
    "$rank(A) \\neq rank(l\\times A)$\n",
    "\n",
    "1. Create two matrices: full-rank and reduced-rank (random)\n",
    "2. Create some scalar\n",
    "3. Display ranks of matrices $F, R, l\\times F, l\\times R$\n",
    "4. Check whether $rank(l\\times F) = l\\times rank(F)$"
   ]
  },
  {
   "cell_type": "code",
   "execution_count": 5,
   "id": "8151d91d-1288-4e31-9abe-98a4f4eb70a6",
   "metadata": {},
   "outputs": [
    {
     "name": "stdout",
     "output_type": "stream",
     "text": [
      "Rank F:   4\n",
      "Rank l*F: 4\n",
      "Rank R:   3\n",
      "Rank l*R: 3\n",
      "\n",
      "rank(l*F) == l*rank(F): False\n"
     ]
    }
   ],
   "source": [
    "# 1. Create two matrices: full-rank and reduced-rank (random)\n",
    "m = 6\n",
    "n = 4\n",
    "\n",
    "F = np.random.randn(m, n)*np.random.randn(n)\n",
    "R = np.random.randn(m, n-1)@np.random.randn(n-1, n)\n",
    "np.linalg.matrix_rank(R)\n",
    "\n",
    "\n",
    "# 2. Create some scalar\n",
    "l = 123456\n",
    "\n",
    "# 3. Display ranks of matrices F, R, l*F, l*R\n",
    "print(f\"Rank F:   {np.linalg.matrix_rank(F)}\")\n",
    "print(f\"Rank l*F: {np.linalg.matrix_rank(l*F)}\")\n",
    "print(f\"Rank R:   {np.linalg.matrix_rank(R)}\")\n",
    "print(f\"Rank l*R: {np.linalg.matrix_rank(l*R)}\\n\")\n",
    "\n",
    "\n",
    "# 4. Check whether rank(l*F) == l*rank(F)\n",
    "print(f\"rank(l*F) == l*rank(F): {np.linalg.matrix_rank(l*F) == l*np.linalg.matrix_rank(F)}\")"
   ]
  },
  {
   "cell_type": "markdown",
   "id": "76439c12-c1ac-45e8-9d10-b51210b481f6",
   "metadata": {},
   "source": [
    "## Rank of $A^{T}A$ and $AA^{T}$\n",
    "$$\\large\n",
    "rank(A) = rank(A^T A) = rank(A^T) = rank(AA^T)\n",
    "$$\n",
    "\n",
    "**Explanation #1**\n",
    "\n",
    "$\n",
    " \\begin{array}{l}\n",
    "A^{T} A=C\\\\\n",
    "A^{T} a_{j} =c_{j}\\\\\n",
    "\\text{Columns} \\ c_{j} \\ \\text{are combinations of columns in} \\ A^{T}\\\\\n",
    "\\Rightarrow \\ C( C) =C\\left( A^{T}\\right)\\\\\n",
    "\\Rightarrow \\ rank( C) =rank\\left( A^{T}\\right)\n",
    "\\end{array}\n",
    "$\n",
    "\n",
    "**Explanation #2**\n",
    "\n",
    "$\n",
    " \\begin{array}{l}\n",
    "Ax=0\\\\\n",
    "A^{T} Ax=0\\\\\n",
    "\\Rightarrow \\ N( A) =N\\left( A^{T} A\\right)\\\\\n",
    "dim( N( A)) =dim\\left( N\\left( A^{T} A\\right)\\right)\\\\\n",
    "\\Rightarrow \\ rank( C) =rank( A)\n",
    "\\end{array}\n",
    "$\n",
    "\n",
    "**Explanation #3**\n",
    "\n",
    "$\n",
    " \\begin{array}{l}\n",
    "A=U\\Sigma V^{T}\\\\\n",
    "A^{T} A=\\left( U\\Sigma V^{T}\\right)^{T} U\\Sigma V^{T}\\\\\n",
    "A^{T} A=V\\Sigma U^{T} U\\Sigma V^{T}\\\\\n",
    "A^{T} A=V\\Sigma ^{2} V^{T}\n",
    "\\end{array}\n",
    "$\n",
    "\n",
    "<br>\n",
    "\n",
    "Summary:\n",
    "$rank(A) = rankA^T A$\n",
    "1. $A^T A$ spans the same space as $A$.\n",
    "2. $A^T A$ has the same dimensionality as $A$.\n",
    "3. $A^T A$ has the same singular values (squared) as $A$."
   ]
  },
  {
   "cell_type": "code",
   "execution_count": 17,
   "id": "31f772ac-7cad-403b-8079-7f914d9a6300",
   "metadata": {},
   "outputs": [
    {
     "name": "stdout",
     "output_type": "stream",
     "text": [
      "AtA: 3x3, rank=3\n",
      "AAt: 14x14, rank=3\n"
     ]
    }
   ],
   "source": [
    "# matrix sizes\n",
    "m = 14\n",
    "n = 3\n",
    "\n",
    "# create matrices\n",
    "A = np.round( 10*np.random.randn(m,n) )\n",
    "\n",
    "AtA = A.T@A\n",
    "AAt = A@A.T\n",
    "\n",
    "# get matrix sizes\n",
    "sizeAtA = AtA.shape\n",
    "sizeAAt = AAt.shape\n",
    "\n",
    "# print info!\n",
    "print(f'AtA: {sizeAtA[0]}x{sizeAtA[1]}, rank={np.linalg.matrix_rank(AtA)}')\n",
    "print(f'AAt: {sizeAAt[0]}x{sizeAAt[1]}, rank={np.linalg.matrix_rank(AAt)}')"
   ]
  },
  {
   "cell_type": "markdown",
   "id": "64fc5dae-f4af-4b0a-ad0b-5bfda702d5b2",
   "metadata": {
    "tags": []
   },
   "source": [
    "### Recursion"
   ]
  },
  {
   "cell_type": "code",
   "execution_count": 7,
   "id": "0d0e8a3e-5951-47d2-b249-8e137455bd01",
   "metadata": {},
   "outputs": [
    {
     "name": "stdout",
     "output_type": "stream",
     "text": [
      "0, 1, 1, 2, 3, 5, 8, 13, 21, 34\n",
      "34\n"
     ]
    }
   ],
   "source": [
    "# Fibonacci\n",
    "def fib(n: int) -> list:\n",
    "    \"\"\"\n",
    "    n: number of iterations for the fibonacci sequence\n",
    "    \"\"\"\n",
    "    nums = [0, 1]\n",
    "    a, b = 0, 1\n",
    "    for i in range(n-2):\n",
    "        a, b = b, a+b\n",
    "        nums.append(b)\n",
    "    return nums\n",
    "\n",
    "fibo = fib(n=10)\n",
    "print(*fibo, sep=', ')\n",
    "print(fibo[-1])"
   ]
  },
  {
   "cell_type": "code",
   "execution_count": 8,
   "id": "66eaee51-a090-4b34-b697-ee9c39a44d53",
   "metadata": {},
   "outputs": [
    {
     "data": {
      "text/plain": [
       "34"
      ]
     },
     "execution_count": 8,
     "metadata": {},
     "output_type": "execute_result"
    }
   ],
   "source": [
    "# Recursion\n",
    "def fibo(n):\n",
    "    if n <= 1:\n",
    "        return 1\n",
    "    return fibo(n-1) + fibo(n-2)\n",
    "\n",
    "fibo(n=8)"
   ]
  },
  {
   "cell_type": "code",
   "execution_count": 9,
   "id": "145a7328-534f-4155-972e-2bba666ecd2e",
   "metadata": {},
   "outputs": [
    {
     "data": {
      "text/plain": [
       "120"
      ]
     },
     "execution_count": 9,
     "metadata": {},
     "output_type": "execute_result"
    }
   ],
   "source": [
    "# Recursion\n",
    "def fact(n):\n",
    "    if n <= 1:\n",
    "        return 1\n",
    "    return n * fact(n-1)\n",
    "\n",
    "fact(n=5)"
   ]
  },
  {
   "cell_type": "code",
   "execution_count": 10,
   "id": "0650940a-38a5-4597-a84a-69623ef58e11",
   "metadata": {},
   "outputs": [
    {
     "name": "stdout",
     "output_type": "stream",
     "text": [
      "120\n"
     ]
    }
   ],
   "source": [
    "f = 1\n",
    "n = 5\n",
    "for i in range(n-1, 0, -1):\n",
    "    f += f*i\n",
    "print(f)"
   ]
  },
  {
   "cell_type": "code",
   "execution_count": null,
   "id": "41a1608b-9b6a-4c8b-9234-b98902aea3b1",
   "metadata": {},
   "outputs": [],
   "source": []
  }
 ],
 "metadata": {
  "kernelspec": {
   "display_name": "Python 3 (ipykernel)",
   "language": "python",
   "name": "python3"
  },
  "language_info": {
   "codemirror_mode": {
    "name": "ipython",
    "version": 3
   },
   "file_extension": ".py",
   "mimetype": "text/x-python",
   "name": "python",
   "nbconvert_exporter": "python",
   "pygments_lexer": "ipython3",
   "version": "3.9.12"
  }
 },
 "nbformat": 4,
 "nbformat_minor": 5
}
