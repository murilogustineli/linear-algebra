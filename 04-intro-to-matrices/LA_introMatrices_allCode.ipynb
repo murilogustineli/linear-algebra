{
 "cells": [
  {
   "cell_type": "markdown",
   "metadata": {},
   "source": [
    "#     COURSE: Linear algebra: theory and implementation\n",
    "##    SECTION: Introduction to matrices\n",
    "\n",
    "#### Instructor: sincxpress.com\n",
    "##### Course url: https://www.udemy.com/course/linear-algebra-theory-and-implementation/?couponCode=202110"
   ]
  },
  {
   "cell_type": "code",
   "execution_count": 1,
   "metadata": {},
   "outputs": [],
   "source": [
    "import numpy as np"
   ]
  },
  {
   "cell_type": "markdown",
   "metadata": {},
   "source": [
    "\n",
    "---\n",
    "# VIDEO: A zoo of matrices\n",
    "---\n"
   ]
  },
  {
   "cell_type": "code",
   "execution_count": 2,
   "metadata": {},
   "outputs": [
    {
     "name": "stdout",
     "output_type": "stream",
     "text": [
      "[[-0.4992457   2.10707765 -0.04144208  0.14267418 -0.14314629]\n",
      " [-1.53823393 -0.66005929 -0.9224859  -0.53118322  1.03893233]\n",
      " [-0.4672792  -0.94144891 -0.35541174 -1.68066966 -0.57389174]\n",
      " [ 0.56847731  1.26573555 -0.02872613 -0.04390629  0.02108804]\n",
      " [-1.07586804 -0.6929481   0.24450567  0.56132055  0.8334327 ]]\n",
      " \n",
      "[[ 0.31025161  0.33893275]\n",
      " [-1.38163097  0.43818471]\n",
      " [ 0.72204267  0.04374088]\n",
      " [ 0.52631054  0.6426914 ]\n",
      " [-0.62607933 -0.66748791]]\n",
      "[[1. 0. 0.]\n",
      " [0. 1. 0.]\n",
      " [0. 0. 1.]]\n",
      " \n",
      "[[0. 0. 0. 0.]\n",
      " [0. 0. 0. 0.]\n",
      " [0. 0. 0. 0.]\n",
      " [0. 0. 0. 0.]]\n",
      " \n",
      "[[1 0 0 0 0]\n",
      " [0 2 0 0 0]\n",
      " [0 0 3 0 0]\n",
      " [0 0 0 5 0]\n",
      " [0 0 0 0 2]]\n",
      " \n",
      "[[-0.39880508  0.          0.          0.          0.        ]\n",
      " [ 0.64255389 -0.14006324  0.          0.          0.        ]\n",
      " [-0.51499118  0.83648653 -0.22222673  0.          0.        ]\n",
      " [-0.4968846   0.14200845 -0.81519529 -2.57901942  0.        ]\n",
      " [-1.72776836  0.5736127   0.4271688   0.232622    0.26969692]]\n",
      " \n",
      "[[-0.49433     0.33325806  0.47237449  0.26300114  1.88386541 -0.03338623]\n",
      " [ 1.02000805  0.71589062  2.58671877 -0.08563239 -0.8589656   0.52717227]\n",
      " [ 0.7733251   1.05439093 -0.05781427 -0.00262002 -0.20917981 -0.05734666]]\n"
     ]
    }
   ],
   "source": [
    "\n",
    "# square vs. rectangular\n",
    "S = np.random.randn(5,5)\n",
    "R = np.random.randn(5,2) # 5 rows, 2 columns\n",
    "print(S), print(' ')\n",
    "print(R)\n",
    "\n",
    "# identity\n",
    "I = np.eye(3)\n",
    "print(I), print(' ')\n",
    "\n",
    "# zeros\n",
    "Z = np.zeros((4,4))\n",
    "print(Z), print(' ')\n",
    "\n",
    "# diagonal\n",
    "D = np.diag([ 1, 2, 3, 5, 2 ])\n",
    "print(D), print(' ')\n",
    "\n",
    "# create triangular matrix from full matrices\n",
    "S = np.random.randn(5,5)\n",
    "U = np.triu(S)\n",
    "L = np.tril(S)\n",
    "print(L), print(' ')\n",
    "\n",
    "# concatenate matrices (sizes must match!)\n",
    "A = np.random.randn(3,2)\n",
    "B = np.random.randn(3,4)\n",
    "C = np.concatenate((A,B),axis=1)\n",
    "print(C)"
   ]
  },
  {
   "cell_type": "markdown",
   "metadata": {},
   "source": [
    "\n",
    "---\n",
    "# VIDEO: Matrix addition and subtraction\n",
    "---\n"
   ]
  },
  {
   "cell_type": "code",
   "execution_count": 3,
   "metadata": {},
   "outputs": [
    {
     "name": "stdout",
     "output_type": "stream",
     "text": [
      "[[-0.40753867  0.52260048  1.75584473 -0.50159822 -1.00069371]\n",
      " [ 0.84560686 -0.6395312   0.78511149  0.18425179  0.10039568]\n",
      " [ 0.27366418 -0.31014789 -0.41836814 -0.15368163 -0.89617635]\n",
      " [ 0.290985    0.21695745  0.71029641 -0.59964882  0.25371206]\n",
      " [-0.67491565  0.47743932 -1.00990784  1.42920153  0.48428454]]\n",
      " \n",
      "[[-0.37753867  0.52260048  1.75584473 -0.50159822 -1.00069371]\n",
      " [ 0.84560686 -0.6095312   0.78511149  0.18425179  0.10039568]\n",
      " [ 0.27366418 -0.31014789 -0.38836814 -0.15368163 -0.89617635]\n",
      " [ 0.290985    0.21695745  0.71029641 -0.56964882  0.25371206]\n",
      " [-0.67491565  0.47743932 -1.00990784  1.42920153  0.51428454]]\n"
     ]
    },
    {
     "data": {
      "text/plain": [
       "(None, None, None)"
      ]
     },
     "execution_count": 3,
     "metadata": {},
     "output_type": "execute_result"
    }
   ],
   "source": [
    "\n",
    "# create random matrices\n",
    "A = np.random.randn(5,4)\n",
    "B = np.random.randn(5,3)\n",
    "C = np.random.randn(5,4)\n",
    "\n",
    "# try to add them\n",
    "# A+B\n",
    "A+C\n",
    "\n",
    "\n",
    "\n",
    "# \"shifting\" a matrix\n",
    "l = .03 # lambda\n",
    "N = 5  # size of square matrix\n",
    "D = np.random.randn(N,N) # can only shift a square matrix\n",
    "\n",
    "Ds = D + l*np.eye(N)\n",
    "print(D), print(' '), print(Ds)"
   ]
  },
  {
   "cell_type": "markdown",
   "metadata": {},
   "source": [
    "\n",
    "---\n",
    "# VIDEO: Matrix-scalar multiplication\n",
    "---\n"
   ]
  },
  {
   "cell_type": "code",
   "execution_count": 4,
   "metadata": {},
   "outputs": [
    {
     "name": "stdout",
     "output_type": "stream",
     "text": [
      "[[ 2  4]\n",
      " [ 4 10]]\n",
      "[[ 2  4]\n",
      " [ 4 10]]\n"
     ]
    }
   ],
   "source": [
    "# define matrix and scalar\n",
    "M = np.array([ [1, 2], [2, 5] ])\n",
    "s = 2\n",
    "\n",
    "# pre- and post-multiplication is the same:\n",
    "print( M*s )\n",
    "print( s*M )\n"
   ]
  },
  {
   "cell_type": "markdown",
   "metadata": {},
   "source": [
    "# VIDEO: Transpose"
   ]
  },
  {
   "cell_type": "code",
   "execution_count": 5,
   "metadata": {},
   "outputs": [
    {
     "name": "stdout",
     "output_type": "stream",
     "text": [
      "[[1 2 3]\n",
      " [2 3 4]]\n",
      "\n",
      "[[1 2]\n",
      " [2 3]\n",
      " [3 4]]\n",
      "\n",
      "[[1 2 3]\n",
      " [2 3 4]]\n",
      "\n",
      "[[1 2]\n",
      " [2 3]\n",
      " [3 4]]\n"
     ]
    }
   ],
   "source": [
    "M = np.array([ [1,2,3],\n",
    "               [2,3,4] ])\n",
    "\n",
    "print(M), print('')\n",
    "print(M.T), print('') # one transpose\n",
    "print(M.T.T), print('') # double-transpose returns the original matrix\n",
    "\n",
    "# can also use the function transpose\n",
    "print(np.transpose(M))"
   ]
  },
  {
   "cell_type": "code",
   "execution_count": 6,
   "metadata": {},
   "outputs": [
    {
     "name": "stdout",
     "output_type": "stream",
     "text": [
      "[[4.+1.j 3.+0.j 2.-4.j]]\n",
      "\n",
      "[[4.+1.j]\n",
      " [3.+0.j]\n",
      " [2.-4.j]]\n",
      "\n",
      "[[4.+1.j]\n",
      " [3.+0.j]\n",
      " [2.-4.j]]\n",
      "\n",
      "[[4.-1.j]\n",
      " [3.-0.j]\n",
      " [2.+4.j]]\n"
     ]
    }
   ],
   "source": [
    "# warning! be careful when using complex matrices\n",
    "C = np.array([ [4+1j , 3 , 2-4j] ])\n",
    "\n",
    "print(C), print('')\n",
    "print(C.T), print('')\n",
    "print(np.transpose(C)), print('')\n",
    "\n",
    "# Note: In MATLAB, the transpose is the Hermitian transpose; \n",
    "#       in Python, you need to call the Hermitian explicitly by first converting from an array into a matrix\n",
    "print(np.matrix(C).H) # note the sign flips!\n"
   ]
  },
  {
   "cell_type": "markdown",
   "metadata": {},
   "source": [
    "\n",
    "---\n",
    "# VIDEO: Diagonal and trace\n",
    "---\n"
   ]
  },
  {
   "cell_type": "code",
   "execution_count": 7,
   "metadata": {},
   "outputs": [
    {
     "name": "stdout",
     "output_type": "stream",
     "text": [
      "[[ -4.   1.   1.  -2.]\n",
      " [ -1.   7.   5.  -2.]\n",
      " [  5.  -3.  -3.   5.]\n",
      " [-12.   8.  -4. -16.]]\n",
      " \n",
      "[ -4.   7.  -3. -16.]\n",
      "[[ -4.   0.   0.   0.]\n",
      " [  0.   7.   0.   0.]\n",
      " [  0.   0.  -3.   0.]\n",
      " [  0.   0.   0. -16.]]\n",
      "-16.0 -16.0\n"
     ]
    }
   ],
   "source": [
    "\n",
    "M = np.round( 6*np.random.randn(4,4) )\n",
    "print(M), print(' ')\n",
    "# extract the diagonals\n",
    "d = np.diag(M)\n",
    "\n",
    "# notice the two ways of using the diag function\n",
    "d = np.diag(M) # input is matrix, output is vector\n",
    "D = np.diag(d) # input is vector, output is matrix\n",
    "print(d)\n",
    "print(D)\n",
    "\n",
    "# trace as sum of diagonal elements\n",
    "tr = np.trace(M)\n",
    "tr2 = sum( np.diag(M) )\n",
    "print(tr,tr2)"
   ]
  },
  {
   "cell_type": "markdown",
   "metadata": {},
   "source": [
    "\n",
    "---\n",
    "# VIDEO: Broadcasting matrix arithmetic\n",
    "---\n"
   ]
  },
  {
   "cell_type": "code",
   "execution_count": 8,
   "metadata": {},
   "outputs": [
    {
     "name": "stdout",
     "output_type": "stream",
     "text": [
      "[[ 1  4  7 10]\n",
      " [ 2  5  8 11]\n",
      " [ 3  6  9 12]]\n",
      " \n",
      "[10, 20, 30, 40]\n",
      " \n",
      "[100, 200, 300]\n",
      " \n"
     ]
    }
   ],
   "source": [
    "# create a matrix\n",
    "A = np.reshape(np.arange(1,13),(3,4),'F') # F=column, C=row\n",
    "\n",
    "# and two vectors\n",
    "r = [ 10, 20, 30, 40 ]\n",
    "c = [ 100, 200, 300 ]\n",
    "\n",
    "print(A), print(' ')\n",
    "print(r), print(' ')\n",
    "print(c), print(' ');"
   ]
  },
  {
   "cell_type": "code",
   "execution_count": 9,
   "metadata": {},
   "outputs": [
    {
     "name": "stdout",
     "output_type": "stream",
     "text": [
      "[[101 104 107 110]\n",
      " [202 205 208 211]\n",
      " [303 306 309 312]]\n"
     ]
    }
   ],
   "source": [
    "# broadcast on the rows\n",
    "# print(A+r), print(' ')\n",
    "\n",
    "# broadcast on the columns\n",
    "# print(A+c)\n",
    "print(A+np.reshape(c,(len(c),1))) # only works for explicit column vectors\n"
   ]
  },
  {
   "cell_type": "code",
   "execution_count": null,
   "metadata": {},
   "outputs": [],
   "source": []
  }
 ],
 "metadata": {
  "kernelspec": {
   "display_name": "Python 3 (ipykernel)",
   "language": "python",
   "name": "python3"
  },
  "language_info": {
   "codemirror_mode": {
    "name": "ipython",
    "version": 3
   },
   "file_extension": ".py",
   "mimetype": "text/x-python",
   "name": "python",
   "nbconvert_exporter": "python",
   "pygments_lexer": "ipython3",
   "version": "3.9.12"
  }
 },
 "nbformat": 4,
 "nbformat_minor": 4
}
