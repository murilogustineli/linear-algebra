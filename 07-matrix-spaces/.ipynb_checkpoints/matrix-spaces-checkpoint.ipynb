{
 "cells": [
  {
   "cell_type": "markdown",
   "id": "3e87c44f-9551-4135-b292-a41fe467cc7c",
   "metadata": {},
   "source": [
    "# Linear Algebra\n",
    "## Matrix Spaces"
   ]
  },
  {
   "cell_type": "code",
   "execution_count": null,
   "id": "ff214cf8-d576-4541-b0b6-847274478142",
   "metadata": {},
   "outputs": [],
   "source": []
  }
 ],
 "metadata": {
  "kernelspec": {
   "display_name": "Python 3 (ipykernel)",
   "language": "python",
   "name": "python3"
  },
  "language_info": {
   "codemirror_mode": {
    "name": "ipython",
    "version": 3
   },
   "file_extension": ".py",
   "mimetype": "text/x-python",
   "name": "python",
   "nbconvert_exporter": "python",
   "pygments_lexer": "ipython3",
   "version": "3.9.12"
  }
 },
 "nbformat": 4,
 "nbformat_minor": 5
}
