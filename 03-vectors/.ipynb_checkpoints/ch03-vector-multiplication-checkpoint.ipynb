{
 "cells": [
  {
   "cell_type": "markdown",
   "id": "6ebfd891",
   "metadata": {},
   "source": [
    "# Linear Algebra\n",
    "## Ch03 - Vector Multiplication"
   ]
  },
  {
   "cell_type": "code",
   "execution_count": null,
   "id": "ab981139",
   "metadata": {},
   "outputs": [],
   "source": [
    "import numpy as np\n",
    "import matplotlib.pyplot as plt\n",
    "import seaborn as sns\n",
    "from mpl_toolkits.mplot3d import Axes3D"
   ]
  },
  {
   "cell_type": "markdown",
   "id": "aedbf293",
   "metadata": {},
   "source": [
    "## Dot product\n",
    "It's one of the most important operations in Linear Algebra. The **dot product** is a single number that represents the relationship between two vectors. For this reason, is also sometimes called the \"scalar-product\".\n",
    "\n",
    "Notation:\n",
    "$$\\large\n",
    "\\alpha =a\\cdot b=\\langle a,b\\rangle =a^{T} b=\\sum _{i=1}^{n} a_{i} b_{i}\n",
    "$$\n"
   ]
  },
  {
   "cell_type": "code",
   "execution_count": null,
   "id": "09777412",
   "metadata": {},
   "outputs": [],
   "source": [
    "# dot product\n",
    "v1 = np.array([2, 5, 4, 7])\n",
    "v2 = np.array([4, 1, 0, 2])\n",
    "np.dot(v1, v2)"
   ]
  },
  {
   "cell_type": "code",
   "execution_count": null,
   "id": "2f12f015",
   "metadata": {},
   "outputs": [],
   "source": [
    "v3 = v1*v2\n",
    "v3"
   ]
  },
  {
   "cell_type": "code",
   "execution_count": null,
   "id": "d376b761",
   "metadata": {},
   "outputs": [],
   "source": [
    "# Four ways to implement dot product\n",
    "v1 = np.array([1, 2, 3, 4, 5])\n",
    "v2 = np.array([0, -4, -3, 6, 5])\n",
    "\n",
    "# Method 1\n",
    "dp1 = sum(np.multiply(v1, v2))\n",
    "\n",
    "# Method 2 (Recommended)\n",
    "dp2 = np.dot(v1, v2)\n",
    "\n",
    "# Method 3\n",
    "dp3 = np.matmul(v1, v2)\n",
    "\n",
    "# Method 4\n",
    "dp4 = v1 @ v2\n",
    "\n",
    "# Method 5\n",
    "dp5 = 0\n",
    "for i in range(len(v1)):\n",
    "    dp5 += v1[i] * v2[i]\n",
    "    \n",
    "print(dp1, dp2, dp3, dp4, dp5)"
   ]
  },
  {
   "cell_type": "markdown",
   "id": "00949772",
   "metadata": {
    "tags": []
   },
   "source": [
    "### Distributive property of dot product\n",
    "\n",
    "$$\\large\n",
    "w^{T}( u+v) \\ =\\ w^{T} u\\ +\\ w^{T} v\n",
    "$$\n",
    "\n",
    "The dot product is defined as the sum of element-wise multiplications. Common terms can be combined across sums, which brings us to the following:\n",
    "\n",
    "$$\\large\n",
    "\\sum _{i=1}^{n} w_{i}( u_{i} +v_{i}) \\ =\\ \\sum _{i=1}^{n} w_{i} u_{i} \\ +\\ \\sum _{i=1}^{n} w_{i} v_{i}\n",
    "$$\n"
   ]
  },
  {
   "cell_type": "code",
   "execution_count": null,
   "id": "b9da1ea9",
   "metadata": {},
   "outputs": [],
   "source": [
    "# Three distinct vectors\n",
    "u = np.array([1, 2])\n",
    "v = np.array([1, 3])\n",
    "w = np.array([2, 3])\n",
    "\n",
    "# Distributive property of dot product\n",
    "print(np.dot(w.T, (u+v)))\n",
    "print(np.dot(w.T, u) + np.dot(w.T, v))"
   ]
  },
  {
   "cell_type": "markdown",
   "id": "20c5fecc",
   "metadata": {},
   "source": [
    "Example of applying the distributive property of the dot product between a vector and itself:\n",
    "\n",
    "$$\\large\n",
    "( u+v)^{T}( u+v) \\ =\\ \\| u+v\\| ^{2} \\ =\\ u^{T} u\\ +\\ 2u^{T} v\\ +\\ v^{T} v\\ =\\ \\| u\\| ^{2} \\ +\\ \\| v\\| ^{2} \\ +\\ 2u^{T} v\n",
    "$$"
   ]
  },
  {
   "cell_type": "code",
   "execution_count": null,
   "id": "c74679f0",
   "metadata": {},
   "outputs": [],
   "source": [
    "# Distributive property to the dot product between a vector and itself\n",
    "np.dot((u+v).T, (u+v))"
   ]
  },
  {
   "cell_type": "markdown",
   "id": "d6cda0a5",
   "metadata": {},
   "source": [
    "### Associative property of dot product\n",
    "The dot product ___is not___ associative.\n",
    "\n",
    "$$\\large\n",
    " \\begin{array}{l}\n",
    "a( b\\cdot c) \\ =\\ ( a\\cdot b) c\\\\\n",
    "\\\\\n",
    "a^{T}\\left( b^{T} c\\right) \\neq \\left( a^{T} b\\right)^{T} c\\\\\n",
    "\\\\\n",
    "\\text{because:} \\ \\\\\n",
    "b^{T} c\\ \\neq a^{T} b\n",
    "\\end{array}\n",
    "$$"
   ]
  },
  {
   "cell_type": "code",
   "execution_count": null,
   "id": "1d998eb9",
   "metadata": {},
   "outputs": [],
   "source": [
    "# Associative property\n",
    "a = np.array([1, 2])\n",
    "b = np.array([1, 3])\n",
    "c = np.array([2, 3])\n",
    "\n",
    "# Compute associative property\n",
    "dp1 = np.dot(a.T, np.dot(b.T, c))\n",
    "dp2 = np.dot(np.dot(a.T, b).T, c)\n",
    "print(dp1, dp2)"
   ]
  },
  {
   "cell_type": "markdown",
   "id": "c5b0d498",
   "metadata": {},
   "source": [
    "## Is the dot product commutative?\n",
    "$$\\large\n",
    "a^{T} b = b^{T} a\n",
    "$$\n",
    "\n",
    "However, matrix multiplication **is NOT commutative!**\n",
    "\n",
    "1. Generate two 100-element random row vectors, compute dot product $a$ with $b$, $b$ with $a$\n",
    "2. Generate two 2-element integer row vectors, repeat"
   ]
  },
  {
   "cell_type": "code",
   "execution_count": null,
   "id": "f61c227e",
   "metadata": {},
   "outputs": [],
   "source": [
    "# 1.Generate two 100-element random row vectors, compute dot product a with b, b with a\n",
    "a = np.random.randn(100)\n",
    "b = np.random.randn(100)\n",
    "\n",
    "ab_dot = np.dot(a, b)\n",
    "ba_dot = np.dot(b, a)\n",
    "\n",
    "print(ab_dot == ba_dot)"
   ]
  },
  {
   "cell_type": "code",
   "execution_count": null,
   "id": "7acac76d",
   "metadata": {},
   "outputs": [],
   "source": [
    "# 2. Generate two 2-element integer row vectors, repeat\n",
    "a = np.array([1, 2])\n",
    "b = np.array([3, 4])\n",
    "\n",
    "ab_dot = np.dot(a, b)\n",
    "ba_dot = np.dot(b, a)\n",
    "\n",
    "print(ab_dot == ba_dot, '\\n')\n",
    "print(np.dot(a, b), np.dot(b, a))"
   ]
  },
  {
   "cell_type": "markdown",
   "id": "cbd0ad4d",
   "metadata": {},
   "source": [
    "## Vector length (a.k.a. magnitude or norm)\n",
    "$$\\large\n",
    "\\| v\\| =\\sqrt{v^{T} v}\n",
    "$$\n",
    "\n",
    "To compute the length of a vector, take the square root of the dot product of the vector with itself."
   ]
  },
  {
   "cell_type": "code",
   "execution_count": null,
   "id": "6c341e5e",
   "metadata": {},
   "outputs": [],
   "source": [
    "# Plot axis\n",
    "def plot_axis(ax=3):\n",
    "    plt.plot([-ax, ax],[0, 0],'k--')\n",
    "    plt.plot([0, 0],[-ax, ax],'k--')\n",
    "    plt.grid(color='blue', linestyle='--', linewidth=1, alpha=0.2)\n",
    "    plt.legend(loc='upper left')\n",
    "    plt.axis([-ax,ax,-ax,ax]);\n",
    "\n",
    "# Two vectors in R2\n",
    "v1 = np.array([2, 0])\n",
    "v2 = np.array([0, 3])\n",
    "v3 = v1 + v2\n",
    "\n",
    "# Plot vectors\n",
    "plt.figure(figsize=(5,5), dpi=100)\n",
    "plt.plot([0, v1[0]],[0, v1[1]],'b',label=v1)\n",
    "plt.plot([0, v2[0]]+v1[0],[0, v2[1]]+v1[1],'r',label=v2)\n",
    "plt.plot([0, v3[0]],[0, v3[1]],'g',label=v3)\n",
    "\n",
    "plot_axis(ax=4)\n",
    "plt.show()"
   ]
  },
  {
   "cell_type": "markdown",
   "id": "90567b7c",
   "metadata": {},
   "source": [
    "Example:\n",
    "\n",
    "$$\\large\n",
    " \\begin{array}{l}\n",
    "v=\\begin{bmatrix}\n",
    "2\\\\\n",
    "3\n",
    "\\end{bmatrix}\\\\\n",
    "\\\\\n",
    "\\| v\\| ^{2} =( v_{1})^{2} +( v_{2})^{2}\\\\\n",
    "\\\\\n",
    "\\| v\\| ^{2} =4+9=13\\\\\n",
    "\\\\\n",
    "\\| v\\| =\\sqrt{13}\\\\\n",
    "\\\\\n",
    "\\| v\\| =\\sqrt{v^{T} v} =\\sqrt{2\\times 2+3\\times 3} =\\sqrt{13}\n",
    "\\end{array}\n",
    "$$"
   ]
  },
  {
   "cell_type": "code",
   "execution_count": null,
   "id": "50a365eb",
   "metadata": {},
   "outputs": [],
   "source": [
    "# A vector\n",
    "v1 = np.array([1, 2, 3, 4, 5, 6])\n",
    "\n",
    "# Methods 1-4, just like with the regular dot product, e.g.:\n",
    "vl1 = np.sqrt(sum(np.multiply(v1, v1)))\n",
    "\n",
    "# Method 5: take the norm\n",
    "vl2 = np.linalg.norm(v1)\n",
    "\n",
    "print(np.round(vl1, 2), np.round(vl2, 2))"
   ]
  },
  {
   "cell_type": "markdown",
   "id": "9bb68719",
   "metadata": {},
   "source": [
    "## The dot product from a geometric perspective\n",
    "Algebra vs. Geometry: They're the same (really!)\n",
    "\n",
    "$$\\large\n",
    " \\begin{array}{l}\n",
    "\\alpha =a^{T} b=\\sum _{i=1}^{n} a_{i} b_{i} =\\| a\\| \\ \\| b\\| \\ cos( \\theta _{ab})\\\\\n",
    "\\\\\n",
    "\\text{Algebraic definition:} \\ a^{T} b=\\sum _{i=1}^{n} a_{i} b_{i}\\\\\n",
    "\\\\\n",
    "\\text{Geometric definition:} \\ \\| a\\| \\ \\| b\\| \\ cos( \\theta _{ab})\n",
    "\\end{array}\n",
    "$$\n",
    "\n",
    "$\\theta$ is the angle between two vectors. We can find the angle with the following formula:\n",
    "\n",
    "$$\\large\n",
    " \\begin{array}{l}\n",
    "\\| a\\| \\ \\| b\\| \\ cos( \\theta _{ab})\\\\\n",
    "\\\\\n",
    "cos( \\theta _{ab}) =\\frac{a^{T} b}{\\| a\\| \\ \\| b\\| }\\\\\n",
    "\\\\\n",
    "\\theta _{ab} =cos^{-1}\\left(\\frac{a^{T} b}{\\| a\\| \\ \\| b\\| }\\right)\n",
    "\\end{array}\n",
    "$$"
   ]
  },
  {
   "cell_type": "code",
   "execution_count": null,
   "id": "d336ab67",
   "metadata": {},
   "outputs": [],
   "source": [
    "# Two vectors\n",
    "v1 = np.array([2,  4, -3])\n",
    "v2 = np.array([0, -3, -3])\n",
    "\n",
    "# Compute the angle (radians) between two vectors\n",
    "ang = np.arccos(np.dot(v1,v2) / np.abs(np.linalg.norm(v1) * np.linalg.norm(v2)))\n",
    "\n",
    "# Plot vectors\n",
    "fig = plt.figure(figsize=(5,5), dpi=100)\n",
    "ax = fig.add_subplot(projection='3d')\n",
    "ax.plot([0, v1[0]],[0, v1[1]],[0, v1[2]],'b')\n",
    "ax.plot([0, v2[0]],[0, v2[1]],[0, v2[2]],'r')\n",
    "\n",
    "plt.axis((-6, 6, -6, 6))\n",
    "plt.title(f\"Angle between vectors: {round(ang, 3)} rad.\")\n",
    "plt.show()"
   ]
  },
  {
   "cell_type": "markdown",
   "id": "3825fd45",
   "metadata": {},
   "source": [
    "### Equivalence of algebraic and geometric dot product formulas"
   ]
  },
  {
   "cell_type": "code",
   "execution_count": null,
   "id": "86ab7d77",
   "metadata": {},
   "outputs": [],
   "source": [
    "# Two vectors\n",
    "v1 = np.array([2,  4, -3])\n",
    "v2 = np.array([0, -3, -3])\n",
    "\n",
    "# Algebraic\n",
    "dp_a = np.dot(v1, v2)\n",
    "\n",
    "# Geometric\n",
    "dp_g = np.linalg.norm(v1) * np.linalg.norm(v2) * np.cos(ang)\n",
    "\n",
    "# Print dot product\n",
    "print(np.round(dp_a))\n",
    "print(np.round(dp_g))"
   ]
  },
  {
   "cell_type": "markdown",
   "id": "88ad8d3a",
   "metadata": {},
   "source": [
    "#### Are the following vectors orthogonal?\n",
    "a = [16 -2 4]\n",
    "\n",
    "b = [.5 2 -1]\n",
    "\n",
    "Take their dot product. **If the dot product is zero, then they are orthogonal!**"
   ]
  },
  {
   "cell_type": "code",
   "execution_count": null,
   "id": "9f312235",
   "metadata": {},
   "outputs": [],
   "source": [
    "# Two vectors\n",
    "a = np.array([16, -2, 4])\n",
    "b = np.array([.5, 2, -1])\n",
    "\n",
    "# Compute the angle (radians) between two vectors\n",
    "dp = np.dot(a, b)\n",
    "dp"
   ]
  },
  {
   "cell_type": "markdown",
   "id": "b786e25f",
   "metadata": {
    "tags": []
   },
   "source": [
    "### Linear weighted combination\n",
    "\n",
    "It's a scalar-vector multiplication and addition.\n",
    "\n",
    "$$\\large\n",
    "w = \\lambda _{1} v_{1} + \\lambda _{2} v_{2} + \\lambda _{3} v_{3} + ... + \\lambda _{n} v_{n}\n",
    "$$"
   ]
  },
  {
   "cell_type": "code",
   "execution_count": null,
   "id": "9751b85d",
   "metadata": {},
   "outputs": [],
   "source": [
    "# Define scalars and vectors\n",
    "l1 = 1\n",
    "l2 = 2\n",
    "l3 = -3\n",
    "v1 = np.array([4, 5, 1])\n",
    "v2 = np.array([-4, 0, -4])\n",
    "v3 = np.array([1, 3, 2])\n",
    "\n",
    "# Linear weighted combination\n",
    "l1*v1 + l2*v2 + l3*v3"
   ]
  },
  {
   "cell_type": "markdown",
   "id": "165102cb",
   "metadata": {
    "tags": []
   },
   "source": [
    "## Outer product\n",
    "Combining two vectors to produce a matrix. The two vectors don't need to have the same size. The result is a $M\\times N$ matrix.\n",
    "\n",
    "**Dot product:**\n",
    "\n",
    "$\\large v^{T}w = 1\\times 1$\n",
    "\n",
    "\n",
    "**Outer product:**\n",
    "\n",
    "$\\large vw^{T} = M\\times N$\n",
    "\n",
    "This notation indicates that the dot product $(v^{T}w)$ is a $1\\times 1$ array (just a single number; a scalar) whereas the outer product $(vw^{T})$ is a matrix whose sizes are defined by the number of elements in the vectors.\n",
    "\n",
    "The outer product can be computed between two vectors with different dimensions.\n",
    "\n",
    "### The outer product formula\n",
    "$$\\large\n",
    "(vw^T)_{ij} = v_i w_j\n",
    "$$\n",
    "\n",
    "Example:\n",
    "\n",
    "$$\\large\n",
    "\\begin{bmatrix}\n",
    "a\\\\\n",
    "b\\\\\n",
    "c\n",
    "\\end{bmatrix}\\begin{bmatrix}\n",
    "d & e & f\n",
    "\\end{bmatrix} =\\begin{bmatrix}\n",
    "ad & ae & af\\\\\n",
    "bd & be & bf\\\\\n",
    "cd & ce & cf\n",
    "\\end{bmatrix}\n",
    "$$"
   ]
  },
  {
   "cell_type": "code",
   "execution_count": null,
   "id": "415a868a",
   "metadata": {},
   "outputs": [],
   "source": [
    "# Define vectors\n",
    "v = np.array([2, 5, 4, 7])\n",
    "w = np.array([4, 1, 0, 2])\n",
    "\n",
    "# Dot vs Outer product\n",
    "dot = np.dot(v, w)\n",
    "out = np.outer(v, w)\n",
    "\n",
    "print(f\"Dot product: {dot}\\n\")\n",
    "print(f\"Outer product: \\n{out}\")"
   ]
  },
  {
   "cell_type": "code",
   "execution_count": null,
   "id": "b66818e5",
   "metadata": {},
   "outputs": [],
   "source": [
    "# Vectors with different dimensions M*N\n",
    "v = np.array([1, 2, 3, 4])\n",
    "w = np.array([4, 1, -1])\n",
    "\n",
    "# Outer product\n",
    "np.outer(v, w)"
   ]
  },
  {
   "cell_type": "code",
   "execution_count": null,
   "id": "fb0a420b",
   "metadata": {},
   "outputs": [],
   "source": [
    "a = np.array([3, 40])\n",
    "b = np.array([10, 2, 30, 4])\n",
    "c = np.outer(a, b)\n",
    "c"
   ]
  },
  {
   "cell_type": "code",
   "execution_count": null,
   "id": "0eb56026",
   "metadata": {},
   "outputs": [],
   "source": [
    "# Using for loops to compute the outer product\n",
    "a = np.array([1, 2, 3])\n",
    "b = np.array([-1, 0, 1])\n",
    "\n",
    "op_np = np.outer(a, b)\n",
    "\n",
    "op = np.zeros((len(a), len(b)))\n",
    "for i in range(len(a)):\n",
    "    for j in range(len(b)):\n",
    "        op[i][j] = a[i] * b[j]\n",
    "        \n",
    "print(f\"NumPy outer product:\\n{op_np}\\\n",
    "       \\n\\nFor loops outer product:\\n{op}\")"
   ]
  },
  {
   "cell_type": "markdown",
   "id": "6c9dd071",
   "metadata": {},
   "source": [
    "## Element-wise product\n",
    "Multiplying each corresponding element in two vectors. Both vectors must have the same size. This operation results in another vector of the same size $M\\times N$\n",
    "\n",
    "$$\\large\n",
    "c=a\\odot b=[ a_{1} b_{1} \\ \\ \\ a_{2} b_{2} \\ \\ \\ ...\\ \\ \\ a_{n} b_{n}]\n",
    "$$\n",
    "\n"
   ]
  },
  {
   "cell_type": "code",
   "execution_count": null,
   "id": "77a5803f",
   "metadata": {},
   "outputs": [],
   "source": [
    "# Two vectors with the same size\n",
    "a = np.array([2, 5, 4, 7])\n",
    "b = np.array([4, 1, 0, 2])\n",
    "\n",
    "# Element-wise product\n",
    "c = a * b\n",
    "c"
   ]
  },
  {
   "cell_type": "markdown",
   "id": "7c6fbd0e",
   "metadata": {},
   "source": [
    "## Cross product\n",
    "Defined only for 3-element vectors. Result is another 3-element vector.\n",
    "\n",
    "$$\\large\n",
    "a\\times b=\\begin{bmatrix}\n",
    "a_{2} b_{3}{} & a_{3} b_{2}\\\\\n",
    "a_{3} b_{1} & a_{1} b_{3}\\\\\n",
    "a_{1} b_{2} & a_{2} b_{1}\n",
    "\\end{bmatrix}\n",
    "$$"
   ]
  },
  {
   "cell_type": "code",
   "execution_count": null,
   "id": "d6bbb7e0",
   "metadata": {},
   "outputs": [],
   "source": [
    "# Two vectors with same size\n",
    "a = np.array([5, 3, 4])\n",
    "b = np.array([-2, 1, -1])\n",
    "\n",
    "# Cross product\n",
    "c = np.cross(a, b)\n",
    "c"
   ]
  },
  {
   "cell_type": "code",
   "execution_count": null,
   "id": "bdc8f339",
   "metadata": {},
   "outputs": [],
   "source": [
    "# Create vectors\n",
    "v1  = np.array([ -3,  2, 5 ])\n",
    "v2  = np.array([  4, -3, 0 ])\n",
    "\n",
    "# NumPy cross-product function\n",
    "v3a = np.cross( v1,v2 )\n",
    "\n",
    "# \"Manual\" method\n",
    "v3b = [ [v1[1]*v2[2] - v1[2]*v2[1]],\n",
    "        [v1[2]*v2[0] - v1[0]*v2[2]],\n",
    "        [v1[0]*v2[1] - v1[1]*v2[0]] ]\n",
    "\n",
    "# Print results\n",
    "print(f\"NumPy cross product: {v3a}\\\n",
    "        \\nManual method: {v3b}\\n\")\n",
    "\n",
    "# Plot graph\n",
    "fig = plt.figure(figsize=(5,5), dpi=100)\n",
    "ax = fig.add_subplot(projection='3d')\n",
    "\n",
    "# Draw plane defined by span of v1 and v2\n",
    "xx, yy = np.meshgrid(np.linspace(-10,10,10), np.linspace(-10,10,10))\n",
    "z1 = (-v3a[0]*xx - v3a[1]*yy)/v3a[2]\n",
    "ax.plot_surface(xx,yy,z1,alpha=.2)\n",
    "\n",
    "# Plot the two vectors\n",
    "ax.plot([0, v1[0]],[0, v1[1]], [0, v1[2]], 'k')\n",
    "ax.plot([0, v2[0]],[0, v2[1]], [0, v2[2]], 'k')\n",
    "ax.plot([0, v3a[0]],[0, v3a[1]], [0, v3a[2]], 'r')\n",
    "\n",
    "ax.view_init(azim=150, elev=45)\n",
    "plt.show()"
   ]
  },
  {
   "cell_type": "markdown",
   "id": "b6236a8c",
   "metadata": {},
   "source": [
    "## Unit vectors\n",
    "Have magnitude (length) of one: $\\| v\\| =1$\n",
    "\n",
    "Unit vectors allow the creation of orthogonal matrix.\n",
    "\n",
    "$\\large\n",
    "\\mu v\\ \\ \\operatorname{s.t.} \\ \\ \\| \\mu v\\| =1\\ \\ \\ \\operatorname{( s.t.\\ means\\ \"such\\ that\"\\ or\\ \"subject\\ to\")}\n",
    "$\n",
    "\n",
    "$\\mu$ is a scalar used to compute a unit vector in the same direction as vector $v$.\n",
    "\n",
    "### Creating a unit-lenght vector\n",
    "Set $\\mu$ to be the reciprocal (inverse) of the magnitude of the vector. In notation, a unit vector is given a hat to indicate it has a magnitude of one ($v\\rightarrow \\hat{v}$)\n",
    "\n",
    "$$\\large\n",
    "\\hat{v} =\\frac{1}{\\| v\\| } v=\\frac{1}{\\sqrt{\\sum _{i=1}^{n} v_{i}^{2}}} v\n",
    "$$\n",
    "\n",
    "The norm of the vector, $\\| v\\|$, is a scalar, which means:\n",
    "1. Division is allowed (division by a full vector is not defined)\n",
    "2. ___Direction of the vector does not change___\n",
    "\n",
    "Example:\n",
    "\n",
    "$$\\large\n",
    "v=\\begin{bmatrix}\n",
    "0\\\\\n",
    "2\n",
    "\\end{bmatrix} ,\\ \\ \\ \\ \\ \\ \\ \\hat{v} =\\frac{1}{\\sqrt{0^{2} +2^{2}}}\\begin{bmatrix}\n",
    "0\\\\\n",
    "2\n",
    "\\end{bmatrix} =\\begin{bmatrix}\n",
    "0\\\\\n",
    "1\n",
    "\\end{bmatrix}\n",
    "$$\n",
    "\n",
    "Taking $\\mu = \\frac{1}{\\| v\\|}\\| v\\| = 1$ allows for a quick proof tha the unit vector really does have unit lenght:\n",
    "\n",
    "$$\\large\n",
    "\\| \\mu v\\| = \\frac{1}{\\| v\\|}\\| v\\| = 1\n",
    "$$"
   ]
  },
  {
   "cell_type": "code",
   "execution_count": null,
   "id": "158a521d",
   "metadata": {},
   "outputs": [],
   "source": [
    "# Vector\n",
    "v = np.array([3, 6])\n",
    "\n",
    "# Magnitude\n",
    "mu = 1/np.linalg.norm(v)\n",
    "\n",
    "# Unit vector\n",
    "v_unit = v*mu\n",
    "\n",
    "# Print results\n",
    "print(f\"Original vector:  {v}\")\n",
    "print(f\"Unit vector:      {np.round(v_unit, 2)}\")\n",
    "print(f\"Magnitude unit vector: \\t{np.round(np.dot(v_unit, v_unit),2)}\\n\")\n",
    "\n",
    "# Plot vectors\n",
    "plt.figure(figsize=(5,5), dpi=100)\n",
    "plt.plot([0, v_unit[0]], [0, v_unit[1]], 'r', label='v-norm', linewidth=5)\n",
    "plt.plot([0, v[0]], [0, v[1]], 'b', label='v')\n",
    "\n",
    "# Plot axis\n",
    "axlim = max(abs(v))*1.2 # dynamic axis lim\n",
    "plot_axis(ax=axlim)"
   ]
  },
  {
   "cell_type": "code",
   "execution_count": null,
   "id": "41a581a8",
   "metadata": {},
   "outputs": [],
   "source": [
    "# Unit vector computation\n",
    "v = np.array([2, 5, 4, 7])\n",
    "mu = 1/np.linalg.norm(v)\n",
    "v_unit = v*mu\n",
    "v_unit"
   ]
  },
  {
   "cell_type": "code",
   "execution_count": null,
   "id": "c61de821",
   "metadata": {},
   "outputs": [],
   "source": [
    "# Unit vector computation\n",
    "v = np.array([3, 4])\n",
    "mu = 1/np.linalg.norm(v)\n",
    "v_unit = v*mu\n",
    "v_unit"
   ]
  },
  {
   "cell_type": "code",
   "execution_count": null,
   "id": "a9ffb35c",
   "metadata": {
    "tags": []
   },
   "outputs": [],
   "source": [
    "# Unit vector computation\n",
    "v = np.array([1, 0])\n",
    "mu = 1/np.linalg.norm(v)\n",
    "v_unit = v*mu\n",
    "v_unit"
   ]
  },
  {
   "cell_type": "code",
   "execution_count": null,
   "id": "cb22fa70",
   "metadata": {},
   "outputs": [],
   "source": [
    "import seaborn as sns"
   ]
  },
  {
   "cell_type": "code",
   "execution_count": null,
   "id": "dfd5ee48",
   "metadata": {},
   "outputs": [],
   "source": [
    "# vector and scalar\n",
    "v1 = np.array([ 4, -2 ])\n",
    "l  = -.5\n",
    "v1m = v1*l # scalar-modulated\n",
    "\n",
    "# plot them\n",
    "plt.figure(figsize=(5,5), dpi=100)\n",
    "plt.plot([0, v1[0]],[0, v1[1]],'b',label=f'$v_1$ = {v1}')\n",
    "plt.plot([0, v1m[0]],[0, v1m[1]],'r:',label=f'$\\lambda v_1$ = {v1m}')\n",
    "\n",
    "axlim = max([max(abs(v1)),max(abs(v1m))])*1.5 # dynamic axis lim\n",
    "plot_axis(ax=axlim)"
   ]
  },
  {
   "cell_type": "markdown",
   "id": "1628cd9f",
   "metadata": {},
   "source": [
    "## Code challenge\n",
    "Create a 2 4x6 matrices of random numbers.\n",
    "\n",
    "Use a for loop to compute dot products between corresponding columns."
   ]
  },
  {
   "cell_type": "code",
   "execution_count": null,
   "id": "013ebb65",
   "metadata": {},
   "outputs": [],
   "source": [
    "A = np.round(np.random.randn(4, 6), 2)\n",
    "B = np.round(np.random.randn(4, 6), 2)\n",
    "\n",
    "print(f\"A:\\n{A}\", '\\n')\n",
    "print(f\"B:\\n{B}\", '\\n')\n",
    "\n",
    "def dot_product(A, B):\n",
    "    dps = np.zeros(6)\n",
    "    for i in range(6):\n",
    "        dps[i] =  np.dot(A[:, i], B[:, i])\n",
    "\n",
    "    return np.round(dps, 2)\n",
    "\n",
    "# Dot product between columns\n",
    "print(f\"Dot product:\\n{dot_product(A, B)}\")"
   ]
  },
  {
   "cell_type": "code",
   "execution_count": null,
   "id": "0c1289c3",
   "metadata": {},
   "outputs": [],
   "source": [
    "# Define matrices\n",
    "m = 4\n",
    "n = 6\n",
    "A = np.round(np.random.randn(m, n), 2)\n",
    "B = np.round(np.random.randn(n, m), 2)\n",
    "\n",
    "# Function that computes matrix multiplication using for loops\n",
    "def matrix_multiplication(A, B):\n",
    "    matrix = np.zeros((4,4))\n",
    "    for i in range(len(A)):\n",
    "        for j in range(len(B[i])):\n",
    "            matrix[i][j] = sum(A[i, :] * B[:, j])\n",
    "\n",
    "    # matrix = np.array(matrix).reshape(m, m)\n",
    "    return np.round(matrix, 2)"
   ]
  },
  {
   "cell_type": "code",
   "execution_count": null,
   "id": "2f4a0610",
   "metadata": {},
   "outputs": [],
   "source": [
    "print(f\"A:\\n{A}\", '\\n')\n",
    "print(f\"B:\\n{B}\", '\\n')\n",
    "\n",
    "# Using for loops to perform matrix multiplication\n",
    "matrix = matrix_multiplication(A, B)\n",
    "print(f\"Matrix multiplication using for loops:\\n{matrix}\\n\")"
   ]
  },
  {
   "cell_type": "code",
   "execution_count": null,
   "id": "9d8e0d14",
   "metadata": {},
   "outputs": [],
   "source": [
    "# Using NumPy to perform matrix multiplication\n",
    "print(\"Matrix multiplication using NumPy:\")\n",
    "print(np.round(np.matmul(A, B), 2))"
   ]
  },
  {
   "cell_type": "markdown",
   "id": "11b478d9",
   "metadata": {
    "tags": []
   },
   "source": [
    "## Cauchy-Schwarz inequality: Code challenge\n",
    "The Cauchy-Schwarz says the absolute value or the magnitude of the dot product between two vectors is less than or equal to the product of the norms of those two vectors.\n",
    "\n",
    "$$\\large\n",
    "|a^{T} b|\\leq \\| a\\| \\ \\| b\\|\n",
    "$$\n",
    "\n",
    "Your goals:\n",
    "1. Prove the C-S inequality.\n",
    "2. Determine the condition for equality.\n",
    "3. Demonstrate in code.\n",
    "\n",
    "#### Solving the challenge\n",
    "1. Cauchy-Schwarz mathematical proof:\n",
    "\n",
    "$$\\large\n",
    " \\begin{array}{l}\n",
    "|a^{T} b|\\leq \\| a\\| \\ \\| b\\| \\\\\n",
    "\\\\\n",
    "\\| a\\| \\ \\| b\\| \\ |cos( \\theta _{ab}) |\\leq \\| a\\| \\ \\| b\\| \\\\\n",
    "\\\\\n",
    "\\| a\\| \\ \\| b\\| \\underbrace{|cos( \\theta _{ab}) |}_{0\\leq |cos( \\theta _{ab}) |\\leq 1} \\leq \\| a\\| \\ \\| b\\| \\\\\n",
    "\\\\\n",
    "cos( \\theta _{ab}) \\leq 1\n",
    "\\end{array}\n",
    "$$\n",
    "\n",
    "2. Determine the condition for equality:\n",
    "    - Whenever the angle $\\theta$ between vectors $a$ and $b$ is $0$ or $180$ degrees, the cosine will be $1$ or $-1$, and its absoulte value will be $1$. Thus, the magnitudes of both vectors will be equal. In other words, $\\| a\\| \\ \\| b\\|= \\| a\\| \\ \\| b\\|$\n",
    "3. Code below."
   ]
  },
  {
   "cell_type": "code",
   "execution_count": null,
   "id": "2a40dfae",
   "metadata": {},
   "outputs": [],
   "source": [
    "# Create three vectors, one of which is dependent on another\n",
    "a = np.round(np.random.randn(5), 2)\n",
    "b = np.round(np.random.randn(5), 2)\n",
    "c = np.round(np.random.randn(1) * a, 2)\n",
    "print(f\"Vector a: {a}\\nVector b: {b}\\nVector c: {c}\\n\")\n",
    "\n",
    "# Left-hand side of equation. Compute the absolute value of their dot products\n",
    "aTb = np.abs(np.dot(a, b))\n",
    "aTc = np.abs(np.dot(a, c))\n",
    "\n",
    "# Right-hand side of equation. Compute the magnitues of vectors a, b, c\n",
    "norm_a = np.linalg.norm(a)\n",
    "norm_b = np.linalg.norm(b)\n",
    "norm_c = np.linalg.norm(c)\n",
    "\n",
    "# Demonstrate the inequalities\n",
    "print(f'Inequality:\\\n",
    "      \\naTb <= ||a|| ||b|| \\\n",
    "      \\n{np.round(aTb, 2)} <= {np.round(norm_a * norm_b, 2)}\\n')\n",
    "\n",
    "# Demonstrate the equalities\n",
    "print(f'Equality:\\\n",
    "      \\naTc = ||a|| ||c|| \\\n",
    "      \\n{np.round(aTc, 2)} = {np.round(norm_a * norm_c, 2)}')"
   ]
  },
  {
   "cell_type": "markdown",
   "id": "980d412f",
   "metadata": {},
   "source": [
    "## Code challenge: dot product sign and scalar multiplication\n",
    "Test whether the dot product sign is invariant (affected) to scalar multiplication.\n",
    "\n",
    "1. Generate two vectors (R3 - 3 dimensions)\n",
    "2. Generate two scalars\n",
    "3. Compute the dot product between vectors\n",
    "4. Compute the dot product between the scaled vectors\n",
    "\n",
    "#### Answer:\n",
    "No. The sign of the dot product is not invariant to scalar multiplication. Scalar multiplication has an effect on the sign of the dot product."
   ]
  },
  {
   "cell_type": "code",
   "execution_count": null,
   "id": "7575322f",
   "metadata": {},
   "outputs": [],
   "source": [
    "# 1. Two vectors\n",
    "v1 = np.array([-3, 4, 6])\n",
    "v2 = np.array([3, 6, -3])\n",
    "\n",
    "# 2. Two scalar\n",
    "a = -2\n",
    "b = -3\n",
    "\n",
    "# 3. Dot product between vectors\n",
    "dp1 = np.round(np.dot(v1, v2), 2)\n",
    "\n",
    "# 4. Dot product between scaled vectors\n",
    "dp2 = np.round(np.dot(v1*a, v2*b), 2)\n",
    "\n",
    "print(f\"Original: {dp1}\\\n",
    "       \\nScaled: {dp2}\")"
   ]
  },
  {
   "cell_type": "code",
   "execution_count": null,
   "id": "f7b623ed",
   "metadata": {},
   "outputs": [],
   "source": [
    "# Scaled vectors\n",
    "v1a = v1 * a\n",
    "v2b = v2 * b\n",
    "\n",
    "# Plot vectors\n",
    "plt.figure(figsize=(5,5), dpi=100)\n",
    "plt.plot([0, v1[0]],[0, v1[1]],'b',label='v1')\n",
    "plt.plot([0, v2[0]],[0, v2[1]],'r',label='v2')\n",
    "plt.plot([0, v1a[0]],[0, v1a[1]],'g',label='v1*a')\n",
    "plt.plot([0, v2b[0]],[0, v2b[1]],label='v2*b')\n",
    "\n",
    "plot_axis(ax=np.max(np.abs([v1, v2, v1a, v2b]))+5)\n",
    "plt.show()"
   ]
  },
  {
   "cell_type": "markdown",
   "id": "914a8da9",
   "metadata": {},
   "source": [
    "## Hermitian transpose (a.k.a. conjugate transpose)"
   ]
  },
  {
   "cell_type": "code",
   "execution_count": null,
   "id": "b606c9bd",
   "metadata": {},
   "outputs": [],
   "source": [
    "# Create a complex number\n",
    "z = complex(3,4)\n",
    "print(f\"Complex number: {z}\")\n",
    "\n",
    "# Magnitude\n",
    "print(f\"Magnitude: {np.linalg.norm(z)}\")\n",
    "\n",
    "# By transpose?\n",
    "print(f\"Transpose: {np.transpose(z) * z}\")\n",
    "\n",
    "# By Hermitian transpose\n",
    "print(f\"Hermitian transpose: {np.transpose(z.conjugate()) * z}\\n\")\n",
    "\n",
    "# Complex vector\n",
    "v = np.array([3, 4j, 5+2j, complex(2,-5)])\n",
    "print(f\"Vector transpose: {v.T}\")\n",
    "print(f\"Vector transpose: {np.transpose(v)}\")\n",
    "print(f\"Hermitian transpose: {np.transpose(v.conjugate())}\")"
   ]
  },
  {
   "cell_type": "markdown",
   "id": "037818d4",
   "metadata": {},
   "source": [
    "## Code challenge: dot products with unit vectors\n",
    "1. Create two random-integer vectors (R4)\n",
    "2. Compute the lengths of the individual vectors, and magnitude of their dot product\n",
    "3. \"Normalize\" the vectors: Create unit vectors with same direction as the original vectors\n",
    "4. Compute the magnitude of the normalized vectors"
   ]
  },
  {
   "cell_type": "code",
   "execution_count": null,
   "id": "f376c71b",
   "metadata": {},
   "outputs": [],
   "source": [
    "# 1. Create two random-integer vectors\n",
    "v1 = np.round(20*np.random.randn(4))\n",
    "v2 = np.round(20*np.random.randn(4))\n",
    "\n",
    "# 2. Compute length of vectors and magnitude of their dot product\n",
    "v1m = np.round(np.sqrt(np.dot(v1, v1)), 2)\n",
    "v2m = np.round(np.sqrt(np.dot(v2, v2)), 2)\n",
    "dpm = np.abs(np.dot(v1, v2))\n",
    "print(v1m, v2m, dpm)\n",
    "\n",
    "# 3. \"Normalize\" vectors\n",
    "v1_unit = np.round((1/np.linalg.norm(v1))*v1, 2)\n",
    "v2_unit = np.round((1/np.linalg.norm(v2))*v2, 2)\n",
    "print(v1_unit, v2_unit)\n",
    "\n",
    "# 4. Magnitude of normalized vectors\n",
    "dpm1 = np.abs(np.dot(v1_unit, v2_unit))\n",
    "print(np.round(dpm, 2))\n",
    "print()\n",
    "\n",
    "## Solution\n",
    "# 2. Compute length of vectors and magnitude of their dot product\n",
    "v1m = np.round(np.sqrt(np.dot(v1, v1)), 2)\n",
    "v2m = np.round(np.sqrt(np.dot(v2, v2)), 2)\n",
    "dpm = np.round(np.abs(np.dot(v1, v2)), 2)\n",
    "print(v1m, v2m, dpm)\n",
    "\n",
    "# 3. \"Normalize\" vectors\n",
    "v1u = np.round(v1/v1m, 2)\n",
    "v2u = np.round(v2/v2m, 2)\n",
    "print(v1u, v2u)\n",
    "\n",
    "# 4. Magnitude of normalized vectors\n",
    "dpm2 = np.abs(np.dot(v1u, v2u))\n",
    "print(np.round(dpm, 2))"
   ]
  },
  {
   "cell_type": "code",
   "execution_count": null,
   "id": "e9e3dcdf",
   "metadata": {},
   "outputs": [],
   "source": [
    "# Define vector\n",
    "v = np.array([3, 4])\n",
    "\n",
    "# Magnitude\n",
    "vm = np.round(np.sqrt(np.dot(v, v)), 2)\n",
    "\n",
    "# Normalize vector\n",
    "vu = np.round(v/vm, 2)\n",
    "vu2 = np.round(1/np.linalg.norm(vm)*vm, 2)\n",
    "\n",
    "# Unit vector\n",
    "vum = np.round(np.sqrt(np.dot(vu, vu)), 2)\n",
    "\n",
    "# Results\n",
    "print(v, vm)\n",
    "print(vu, vu2)\n",
    "print(vum)"
   ]
  },
  {
   "cell_type": "code",
   "execution_count": null,
   "id": "d584c7af",
   "metadata": {},
   "outputs": [],
   "source": [
    "# Plot vectors\n",
    "plt.figure(figsize=(5,5), dpi=100)\n",
    "plt.plot([0, v[0]],[0, v[1]],'b',label='Vector')\n",
    "plt.plot([0, vu[0]],[0, vu[1]],'r',label='Unit vector')\n",
    "\n",
    "axlim = np.max(np.abs([v, vu]))\n",
    "plot_axis(ax=axlim+0.5)\n",
    "plt.show()"
   ]
  },
  {
   "cell_type": "markdown",
   "id": "dac62eeb",
   "metadata": {},
   "source": [
    "## Dimension & Field\n",
    "**Dimension:** the number of elements in a vector represents the vector's dimensionality. Each dimension corresponds to a new geometric direction.\n",
    "\n",
    "**Field:** a set (typically numbers) on which addition, subtraction, multiplication, and division are valid operations. E.g., real numbers, complex numbers.\n",
    "\n",
    "Notation:\n",
    "\n",
    "$$\\large\n",
    " \\begin{array}{l}\n",
    "\\mathbb{R}^{2} \\ \\ \\ \\ \\ \\ \\ \\begin{bmatrix}\n",
    "3 & -4\n",
    "\\end{bmatrix}\\\\\n",
    "\\mathbb{R}^{8} \\ \\ \\ \\ \\ \\ \\ \\begin{bmatrix}\n",
    "0 & 0 & 0 & 0 & 0 & 0 & 0 & \\pi \n",
    "\\end{bmatrix}\\\\\n",
    "\\mathbb{R}^{N} ,\\ \\mathbb{R}^{M}\\\\\n",
    "v\\in \\mathbb{R}^{N}\\\\\n",
    "w\\in \\mathbb{R}^{M}\n",
    "\\end{array}\n",
    "$$"
   ]
  },
  {
   "cell_type": "code",
   "execution_count": null,
   "id": "85963083",
   "metadata": {},
   "outputs": [],
   "source": [
    "# Two dimension vector\n",
    "r2 = np.array([3, -4])\n",
    "print(f\"R2: {r2}\")\n",
    "\n",
    "# Eight dimension vector\n",
    "r8 = np.round(np.array([0, 0, 0, 0, 0, 0, 0, np.pi]), 2)\n",
    "print(f\"R8: {r8}\")"
   ]
  },
  {
   "cell_type": "markdown",
   "id": "6607ee3b",
   "metadata": {},
   "source": [
    "## Subspace\n",
    "A vector subspace must:\n",
    "1. Be closed under addition and scalar multiplication.\n",
    "2. Contain the zero vector.\n",
    "\n",
    "Notation: \n",
    "\n",
    "$$\\large\n",
    " \\begin{array}{l}\n",
    "\\forall v,w\\in V;\\ \\ \\ \\ \\forall \\lambda ,\\alpha \\mathbb{R} ;\\ \\ \\ \\ \\lambda v+\\alpha w\\in V\\\\\n",
    "\\\\\n",
    "\\lambda v,\\ \\lambda \\in \\mathbb{R}\\\\\n",
    "\\\\\n",
    "v=\\begin{bmatrix}\n",
    "2\\\\\n",
    "3\n",
    "\\end{bmatrix} \\ \\ \\ \\ \\ \\ \\ \\ \\ \\ 2\\begin{bmatrix}\n",
    "2\\\\\n",
    "3\n",
    "\\end{bmatrix} =\\begin{bmatrix}\n",
    "4\\\\\n",
    "6\n",
    "\\end{bmatrix} \\ \\ \\ \\ \\ \\ \\ \\ \\ \\ -3\\begin{bmatrix}\n",
    "4\\\\\n",
    "6\n",
    "\\end{bmatrix} =\\begin{bmatrix}\n",
    "-12\\\\\n",
    "-18\n",
    "\\end{bmatrix}\\\\\n",
    "\\\\\n",
    "\\lambda v+\\beta w\\\\\n",
    "\\\\\n",
    "v=\\begin{bmatrix}\n",
    "2\\\\\n",
    "3\n",
    "\\end{bmatrix} \\ \\ \\ \\ w=\\begin{bmatrix}\n",
    "0\\\\\n",
    "4\n",
    "\\end{bmatrix} \\ \\ \\ \\ \\ \\ \\ \\ \\ \\ 6v-4w=\\begin{bmatrix}\n",
    "12\\\\\n",
    "2\n",
    "\\end{bmatrix}\n",
    "\\end{array}\n",
    "$$"
   ]
  },
  {
   "cell_type": "markdown",
   "id": "42a1e8da",
   "metadata": {},
   "source": [
    "## Subset vs Subspace\n",
    "**Subset:** A set of points that satisfies some conditinos.\n",
    "- Doesn't need to include the origin.\n",
    "- Doesn't need to be closed.\n",
    "- Can have boundaries.\n",
    "\n",
    "Exampe of subset:\n",
    "- All points on the XY plane such that x>0, y>0\n",
    "\n",
    "How to find if it's a subset and/or subspace:\n",
    "1. Determine whether the origin is in the set.\n",
    "2. Try to write down the criteria in terms of scalars and vectors of the from $\\alpha v+\\beta w$"
   ]
  },
  {
   "cell_type": "markdown",
   "id": "aa068f99",
   "metadata": {},
   "source": [
    "## Span\n",
    "A span of a set of vectors is equal to all possible linear combinations of all the vectors in that set.\n",
    "\n",
    "$$\\large\n",
    "\\text{span}(\\{v_{1} ,\\ ...,\\ v_{n}\\}) =\\alpha _{1} v_{1} +...+\\alpha _{n} v_{n} ,\\ \\alpha \\in \\mathbb{R}\n",
    "$$"
   ]
  },
  {
   "cell_type": "code",
   "execution_count": null,
   "id": "569895db",
   "metadata": {},
   "outputs": [],
   "source": [
    "# Two vectors\n",
    "v = np.array([1, 2, 0])\n",
    "w = np.array([3, 2, 1])\n",
    "\n",
    "# Set of two vectors\n",
    "s = np.array([[1, 1, 0], [1, 7, 0]])\n",
    "\n",
    "# v is in span(S) because:\n",
    "5/6*s[0] + 1/6*s[1]"
   ]
  },
  {
   "cell_type": "code",
   "execution_count": null,
   "id": "bee1ec20",
   "metadata": {},
   "outputs": [],
   "source": [
    "# set S\n",
    "S1 = np.array([1, 1, 0])\n",
    "S2 = np.array([1, 7, 0])\n",
    "\n",
    "# vectors v and w\n",
    "v = np.array([1, 2, 0])\n",
    "w = np.array([3, 2, 1])\n",
    "\n",
    "# Daw vectors\n",
    "fig = plt.figure(figsize=(5,5), dpi=100)\n",
    "ax = fig.add_subplot(projection='3d')\n",
    "\n",
    "ax.plot([0, S1[0]],[0, S1[1]],[.1, S1[2]+.1],'r',linewidth=3)\n",
    "ax.plot([0, S2[0]],[0, S2[1]],[.1, S2[2]+.1],'r',linewidth=3)\n",
    "ax.plot([0, v[0]],[0, v[1]],[.1, v[2]+.1],'g',linewidth=3)\n",
    "ax.plot([0, w[0]],[0, w[1]],[0, w[2]],'b')\n",
    "\n",
    "# Now draw plane\n",
    "xx, yy = np.meshgrid(range(-15,16), range(-15,16))\n",
    "cp = np.cross(S1,S2)\n",
    "z1 = (-cp[0]*xx - cp[1]*yy)*1./cp[2]\n",
    "ax.plot_surface(xx,yy,z1)\n",
    "plt.show()"
   ]
  },
  {
   "cell_type": "code",
   "execution_count": null,
   "id": "c0226f7a",
   "metadata": {},
   "outputs": [],
   "source": [
    "# Quiz\n",
    "# Vector\n",
    "v = np.array([1, 2, 3])\n",
    "\n",
    "# Set of vectors\n",
    "s1 = np.array([2, 6, -3])\n",
    "s2 = np.array([0, -2, 9])\n",
    "\n",
    "# Determine whether a vector is in the span of a set of vectors\n",
    "1/2*s1 + 1/2*s2"
   ]
  },
  {
   "cell_type": "markdown",
   "id": "6e5515ea",
   "metadata": {},
   "source": [
    "## Linear dependence\n",
    "Formal definition: Determining if a weighted combination of the vectors in the set can form the zero vector, where at least one scalar is not equal to zero.\n",
    "\n",
    "$$\\large\n",
    " \\begin{array}{l}\n",
    "0=\\lambda _{1} v_{1} +\\lambda _{2} v_{2} +...+\\lambda _{n} v_{n} \\ \\ \\ \\ \\ \\ \\ \\ \\ \\ \\lambda \\in \\mathbb{R}\\\\\n",
    "\\\\\n",
    "\\lambda _{1} v_{1} =\\lambda _{2} v_{2} +...+\\lambda _{n} v_{n}\\\\\n",
    "\\\\\n",
    "v_{1} =\\frac{\\lambda _{2}}{\\lambda _{1}} v_{2} +...+\\frac{\\lambda _{n}}{\\lambda _{1}} v_{n} \\ \\ \\ \\ \\ \\ \\ \\ \\ \\ \\ \\ \\ \\ \\lambda _{1} \\neq 0,\\ v_{1} \\neq 0\n",
    "\\end{array}\n",
    "$$\n",
    "\n",
    "A set of M vectors is **independent** only if each vector points in a geometric dimension not reachable using other vectors in the set.\n",
    "\n",
    "- Any set of $M>N$ vectors in $R^N$ is **dependent**.\n",
    "- Any set of $M\\leq N$ vectors in $R^N$ is **independent**.\n",
    "\n",
    "How to determine whether a set is independent:\n",
    "1. Count vectors and compare with $R^N$.\n",
    "2. Check for 0's in corresponding (or all) elements.\n",
    "3. Educated guess and test.\n",
    "4. Matrix rank method."
   ]
  },
  {
   "cell_type": "markdown",
   "id": "dcc634d2",
   "metadata": {
    "tags": []
   },
   "source": [
    "## Basis sets\n",
    "\n",
    "Example: standard basis vectors\n",
    "\n",
    "$$\\large\n",
    " \\begin{array}{l}\n",
    "\\mathbb{R}^{2} =\\left\\{\\begin{bmatrix}\n",
    "1\\\\\n",
    "0\n",
    "\\end{bmatrix}\\begin{bmatrix}\n",
    "0\\\\\n",
    "1\n",
    "\\end{bmatrix}\\right\\}\\\\\n",
    "\\\\\n",
    "\\mathbb{R}^{3} =\\left\\{\\begin{bmatrix}\n",
    "1\\\\\n",
    "0\\\\\n",
    "0\n",
    "\\end{bmatrix}\\begin{bmatrix}\n",
    "0\\\\\n",
    "1\\\\\n",
    "0\n",
    "\\end{bmatrix}\\begin{bmatrix}\n",
    "0\\\\\n",
    "0\\\\\n",
    "1\n",
    "\\end{bmatrix}\\right\\}\n",
    "\\end{array}\n",
    "$$\n",
    "\n",
    "Basis sets must be **linear independent**."
   ]
  },
  {
   "cell_type": "code",
   "execution_count": null,
   "id": "cb23cc1a",
   "metadata": {},
   "outputs": [],
   "source": []
  }
 ],
 "metadata": {
  "kernelspec": {
   "display_name": "Python 3",
   "language": "python",
   "name": "python3"
  },
  "language_info": {
   "codemirror_mode": {
    "name": "ipython",
    "version": 3
   },
   "file_extension": ".py",
   "mimetype": "text/x-python",
   "name": "python",
   "nbconvert_exporter": "python",
   "pygments_lexer": "ipython3",
   "version": "3.7.10"
  }
 },
 "nbformat": 4,
 "nbformat_minor": 5
}
